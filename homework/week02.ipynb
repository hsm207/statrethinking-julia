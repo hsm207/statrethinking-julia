{
 "cells": [
  {
   "cell_type": "markdown",
   "metadata": {
    "toc": true
   },
   "source": [
    "<h1>Table of Contents<span class=\"tocSkip\"></span></h1>\n",
    "<div class=\"toc\" style=\"margin-top: 1em;\"><ul class=\"toc-item\"><li><span><a href=\"#Packages\" data-toc-modified-id=\"Packages-1\"><span class=\"toc-item-num\">1&nbsp;&nbsp;</span>Packages</a></span></li><li><span><a href=\"#Setup\" data-toc-modified-id=\"Setup-2\"><span class=\"toc-item-num\">2&nbsp;&nbsp;</span>Setup</a></span></li><li><span><a href=\"#Data\" data-toc-modified-id=\"Data-3\"><span class=\"toc-item-num\">3&nbsp;&nbsp;</span>Data</a></span></li><li><span><a href=\"#Question-1\" data-toc-modified-id=\"Question-1-4\"><span class=\"toc-item-num\">4&nbsp;&nbsp;</span>Question 1</a></span></li><li><span><a href=\"#Question-2\" data-toc-modified-id=\"Question-2-5\"><span class=\"toc-item-num\">5&nbsp;&nbsp;</span>Question 2</a></span></li></ul></div>"
   ]
  },
  {
   "cell_type": "markdown",
   "metadata": {},
   "source": [
    "# Packages"
   ]
  },
  {
   "cell_type": "code",
   "execution_count": 1,
   "metadata": {},
   "outputs": [
    {
     "name": "stdout",
     "output_type": "stream",
     "text": [
      "\n",
      "R version 3.6.2 (2019-12-12) -- \"Dark and Stormy Night\"\n",
      "Copyright (C) 2019 The R Foundation for Statistical Computing\n",
      "Platform: x86_64-w64-mingw32/x64 (64-bit)\n",
      "\n",
      "R is free software and comes with ABSOLUTELY NO WARRANTY.\n",
      "You are welcome to redistribute it under certain conditions.\n",
      "Type 'license()' or 'licence()' for distribution details.\n",
      "\n",
      "R is a collaborative project with many contributors.\n",
      "Type 'contributors()' for more information and\n",
      "'citation()' on how to cite R or R packages in publications.\n",
      "\n",
      "Type 'demo()' for some demos, 'help()' for on-line help, or\n",
      "'help.start()' for an HTML browser interface to help.\n",
      "Type 'q()' to quit R.\n",
      "\n"
     ]
    }
   ],
   "source": [
    "using RCall\n",
    "RCall.rcall_p(:options, rcalljl_options=Dict(:width => 800, :height => 400));"
   ]
  },
  {
   "cell_type": "code",
   "execution_count": 2,
   "metadata": {},
   "outputs": [],
   "source": [
    "using Query, HTTP, CSV, DataFrames"
   ]
  },
  {
   "cell_type": "code",
   "execution_count": 3,
   "metadata": {},
   "outputs": [],
   "source": [
    "using Distributions, Statistics"
   ]
  },
  {
   "cell_type": "code",
   "execution_count": 4,
   "metadata": {},
   "outputs": [],
   "source": [
    "using JuMP, Ipopt, ForwardDiff"
   ]
  },
  {
   "cell_type": "markdown",
   "metadata": {},
   "source": [
    "# Setup"
   ]
  },
  {
   "cell_type": "code",
   "execution_count": 5,
   "metadata": {},
   "outputs": [
    {
     "name": "stderr",
     "output_type": "stream",
     "text": [
      "┌ Warning: RCall.jl: Loading required package: rethinking\n",
      "│ Loading required package: rstan\n",
      "│ Loading required package: StanHeaders\n",
      "│ Loading required package: ggplot2\n",
      "│ rstan (Version 2.19.3, GitRev: 2e1f913d3ca3)\n",
      "│ For execution on a local, multicore CPU with excess RAM we recommend calling\n",
      "│ options(mc.cores = parallel::detectCores()).\n",
      "│ To avoid recompilation of unchanged Stan programs, we recommend calling\n",
      "│ rstan_options(auto_write = TRUE)\n",
      "│ For improved execution time, we recommend calling\n",
      "│ Sys.setenv(LOCAL_CPPFLAGS = '-march=corei7 -mtune=corei7')\n",
      "│ although this causes Stan to throw an error on a few processors.\n",
      "│ Loading required package: parallel\n",
      "│ Loading required package: dagitty\n",
      "│ rethinking (Version 2.00)\n",
      "│ \n",
      "│ Attaching package: 'rethinking'\n",
      "│ \n",
      "│ The following object is masked from 'package:stats':\n",
      "│ \n",
      "│     rstudent\n",
      "│ \n",
      "└ @ RCall C:\\Users\\mshukri\\.julia\\packages\\RCall\\lAV2K\\src\\io.jl:113\n",
      "┌ Warning: RCall.jl: Loading required package: dplyr\n",
      "│ \n",
      "│ Attaching package: 'dplyr'\n",
      "│ \n",
      "│ The following objects are masked from 'package:stats':\n",
      "│ \n",
      "│     filter, lag\n",
      "│ \n",
      "│ The following objects are masked from 'package:base':\n",
      "│ \n",
      "│     intersect, setdiff, setequal, union\n",
      "│ \n",
      "└ @ RCall C:\\Users\\mshukri\\.julia\\packages\\RCall\\lAV2K\\src\\io.jl:113\n",
      "┌ Warning: RCall.jl: Loading required package: tidyr\n",
      "│ \n",
      "│ Attaching package: 'tidyr'\n",
      "│ \n",
      "│ The following object is masked from 'package:rstan':\n",
      "│ \n",
      "│     extract\n",
      "│ \n",
      "└ @ RCall C:\\Users\\mshukri\\.julia\\packages\\RCall\\lAV2K\\src\\io.jl:113\n"
     ]
    },
    {
     "data": {
      "text/plain": [
       "RObject{LglSxp}\n",
       "[1] TRUE\n"
      ]
     },
     "execution_count": 5,
     "metadata": {},
     "output_type": "execute_result"
    }
   ],
   "source": [
    "R\"\"\"\n",
    "require(rethinking)\n",
    "require(ggplot2)\n",
    "require(dplyr)\n",
    "require(tidyr)\n",
    "\"\"\""
   ]
  },
  {
   "cell_type": "markdown",
   "metadata": {},
   "source": [
    "# Data"
   ]
  },
  {
   "cell_type": "markdown",
   "metadata": {},
   "source": [
    "Get the Howel1 dataset:"
   ]
  },
  {
   "cell_type": "code",
   "execution_count": 6,
   "metadata": {},
   "outputs": [
    {
     "name": "stderr",
     "output_type": "stream",
     "text": [
      "┌ Warning: `head(df::AbstractDataFrame, n::Integer)` is deprecated, use `first(df, n)` instead.\n",
      "│   caller = top-level scope at In[6]:3\n",
      "└ @ Core In[6]:3\n"
     ]
    },
    {
     "data": {
      "text/html": [
       "<table class=\"data-frame\"><thead><tr><th></th><th>height</th><th>weight</th><th>age</th><th>male</th></tr><tr><th></th><th>Float64</th><th>Float64</th><th>Float64</th><th>Int64</th></tr></thead><tbody><p>5 rows × 4 columns</p><tr><th>1</th><td>151.765</td><td>47.8256</td><td>63.0</td><td>1</td></tr><tr><th>2</th><td>139.7</td><td>36.4858</td><td>63.0</td><td>0</td></tr><tr><th>3</th><td>136.525</td><td>31.8648</td><td>65.0</td><td>0</td></tr><tr><th>4</th><td>156.845</td><td>53.0419</td><td>41.0</td><td>1</td></tr><tr><th>5</th><td>145.415</td><td>41.2769</td><td>51.0</td><td>0</td></tr></tbody></table>"
      ],
      "text/latex": [
       "\\begin{tabular}{r|cccc}\n",
       "\t& height & weight & age & male\\\\\n",
       "\t\\hline\n",
       "\t& Float64 & Float64 & Float64 & Int64\\\\\n",
       "\t\\hline\n",
       "\t1 & 151.765 & 47.8256 & 63.0 & 1 \\\\\n",
       "\t2 & 139.7 & 36.4858 & 63.0 & 0 \\\\\n",
       "\t3 & 136.525 & 31.8648 & 65.0 & 0 \\\\\n",
       "\t4 & 156.845 & 53.0419 & 41.0 & 1 \\\\\n",
       "\t5 & 145.415 & 41.2769 & 51.0 & 0 \\\\\n",
       "\\end{tabular}\n"
      ],
      "text/plain": [
       "5×4 DataFrame\n",
       "│ Row │ height  │ weight  │ age     │ male  │\n",
       "│     │ \u001b[90mFloat64\u001b[39m │ \u001b[90mFloat64\u001b[39m │ \u001b[90mFloat64\u001b[39m │ \u001b[90mInt64\u001b[39m │\n",
       "├─────┼─────────┼─────────┼─────────┼───────┤\n",
       "│ 1   │ 151.765 │ 47.8256 │ 63.0    │ 1     │\n",
       "│ 2   │ 139.7   │ 36.4858 │ 63.0    │ 0     │\n",
       "│ 3   │ 136.525 │ 31.8648 │ 65.0    │ 0     │\n",
       "│ 4   │ 156.845 │ 53.0419 │ 41.0    │ 1     │\n",
       "│ 5   │ 145.415 │ 41.2769 │ 51.0    │ 0     │"
      ]
     },
     "execution_count": 6,
     "metadata": {},
     "output_type": "execute_result"
    }
   ],
   "source": [
    "file_url = \"https://raw.githubusercontent.com/rmcelreath/rethinking/master/data/Howell1.csv\"\n",
    "df = HTTP.get(file_url).body |> IOBuffer |> CSV.read\n",
    "head(df, 5)"
   ]
  },
  {
   "cell_type": "markdown",
   "metadata": {},
   "source": [
    "# Question 1"
   ]
  },
  {
   "cell_type": "markdown",
   "metadata": {},
   "source": [
    "**Question**"
   ]
  },
  {
   "cell_type": "markdown",
   "metadata": {},
   "source": [
    "<img src=\"https://i.ibb.co/tLyJSsz/Untitled.png\" alt=\"Untitled\" border=\"0\">"
   ]
  },
  {
   "cell_type": "markdown",
   "metadata": {},
   "source": [
    "**Solution**"
   ]
  },
  {
   "cell_type": "markdown",
   "metadata": {},
   "source": [
    "Get the adult heights:"
   ]
  },
  {
   "cell_type": "code",
   "execution_count": 7,
   "metadata": {},
   "outputs": [
    {
     "data": {
      "text/html": [
       "<table class=\"data-frame\"><thead><tr><th></th><th>height</th><th>weight</th><th>age</th><th>male</th></tr><tr><th></th><th>Float64</th><th>Float64</th><th>Float64</th><th>Int64</th></tr></thead><tbody><p>5 rows × 4 columns</p><tr><th>1</th><td>151.765</td><td>47.8256</td><td>63.0</td><td>1</td></tr><tr><th>2</th><td>139.7</td><td>36.4858</td><td>63.0</td><td>0</td></tr><tr><th>3</th><td>136.525</td><td>31.8648</td><td>65.0</td><td>0</td></tr><tr><th>4</th><td>156.845</td><td>53.0419</td><td>41.0</td><td>1</td></tr><tr><th>5</th><td>145.415</td><td>41.2769</td><td>51.0</td><td>0</td></tr></tbody></table>"
      ],
      "text/latex": [
       "\\begin{tabular}{r|cccc}\n",
       "\t& height & weight & age & male\\\\\n",
       "\t\\hline\n",
       "\t& Float64 & Float64 & Float64 & Int64\\\\\n",
       "\t\\hline\n",
       "\t1 & 151.765 & 47.8256 & 63.0 & 1 \\\\\n",
       "\t2 & 139.7 & 36.4858 & 63.0 & 0 \\\\\n",
       "\t3 & 136.525 & 31.8648 & 65.0 & 0 \\\\\n",
       "\t4 & 156.845 & 53.0419 & 41.0 & 1 \\\\\n",
       "\t5 & 145.415 & 41.2769 & 51.0 & 0 \\\\\n",
       "\\end{tabular}\n"
      ],
      "text/plain": [
       "5×4 DataFrame\n",
       "│ Row │ height  │ weight  │ age     │ male  │\n",
       "│     │ \u001b[90mFloat64\u001b[39m │ \u001b[90mFloat64\u001b[39m │ \u001b[90mFloat64\u001b[39m │ \u001b[90mInt64\u001b[39m │\n",
       "├─────┼─────────┼─────────┼─────────┼───────┤\n",
       "│ 1   │ 151.765 │ 47.8256 │ 63.0    │ 1     │\n",
       "│ 2   │ 139.7   │ 36.4858 │ 63.0    │ 0     │\n",
       "│ 3   │ 136.525 │ 31.8648 │ 65.0    │ 0     │\n",
       "│ 4   │ 156.845 │ 53.0419 │ 41.0    │ 1     │\n",
       "│ 5   │ 145.415 │ 41.2769 │ 51.0    │ 0     │"
      ]
     },
     "execution_count": 7,
     "metadata": {},
     "output_type": "execute_result"
    }
   ],
   "source": [
    "adults = df |>\n",
    "    @filter(_.age >= 18) |>\n",
    "    DataFrame\n",
    "\n",
    "first(adults, 5)"
   ]
  },
  {
   "cell_type": "markdown",
   "metadata": {},
   "source": [
    "Build a linear regression model relating height with weight:"
   ]
  },
  {
   "cell_type": "code",
   "execution_count": 8,
   "metadata": {},
   "outputs": [
    {
     "name": "stdout",
     "output_type": "stream",
     "text": [
      "\r\n",
      "******************************************************************************\r\n",
      "This program contains Ipopt, a library for large-scale nonlinear optimization.\r\n",
      " Ipopt is released as open source code under the Eclipse Public License (EPL).\r\n",
      "         For more information visit http://projects.coin-or.org/Ipopt\r\n",
      "******************************************************************************\r\n",
      "\r\n",
      "This is Ipopt version 3.12.10, running with linear solver mumps.\r\n",
      "NOTE: Other linear solvers might be more efficient (see Ipopt documentation).\r\n",
      "\r\n",
      "Number of nonzeros in equality constraint Jacobian...:        0\r\n",
      "Number of nonzeros in inequality constraint Jacobian.:        0\r\n",
      "Number of nonzeros in Lagrangian Hessian.............:        0\r\n",
      "\r\n",
      "Total number of variables............................:        3\r\n",
      "                     variables with only lower bounds:        0\r\n",
      "                variables with lower and upper bounds:        3\r\n",
      "                     variables with only upper bounds:        0\r\n",
      "Total number of equality constraints.................:        0\r\n",
      "Total number of inequality constraints...............:        0\r\n",
      "        inequality constraints with only lower bounds:        0\r\n",
      "   inequality constraints with lower and upper bounds:        0\r\n",
      "        inequality constraints with only upper bounds:        0\r\n",
      "\r\n",
      "iter    objective    inf_pr   inf_du lg(mu)  ||d||  lg(rg) alpha_du alpha_pr  ls\r\n",
      "   0  2.2298825e+03 0.00e+00 2.77e+01   0.0 0.00e+00    -  0.00e+00 0.00e+00   0\r\n",
      "Warning: Cutting back alpha due to evaluation error\r\n",
      "   1  1.9358093e+03 0.00e+00 8.47e+00   1.3 2.69e+01    -  8.67e-01 5.00e-01f  2\r\n",
      "   2  1.8808419e+03 0.00e+00 7.00e+00   0.1 6.71e+00    -  9.74e-01 1.00e+00f  1\r\n",
      "   3  1.8563257e+03 0.00e+00 3.07e+02   0.3 3.94e+01    -  8.97e-01 1.19e-01f  1\r\n",
      "Warning: Cutting back alpha due to evaluation error\r\n",
      "Warning: Cutting back alpha due to evaluation error\r\n",
      "Warning: Cutting back alpha due to evaluation error\r\n",
      "   4  1.8300574e+03 0.00e+00 2.02e+01   0.4 2.68e+01    -  1.00e+00 1.25e-01f  4\r\n",
      "Warning: Cutting back alpha due to evaluation error\r\n",
      "Warning: Cutting back alpha due to evaluation error\r\n",
      "   5  1.7701351e+03 0.00e+00 2.31e+01   0.2 4.87e+01    -  9.86e-01 2.50e-01f  3\r\n",
      "   6  1.6062263e+03 0.00e+00 3.75e+01  -0.0 6.34e+01    -  9.91e-01 5.00e-01f  2\r\n",
      "   7  1.5587663e+03 0.00e+00 7.35e+01  -0.0 7.67e+01    -  9.98e-01 1.41e-01f  3\r\n",
      "   8  1.4736538e+03 0.00e+00 1.12e+02  -0.7 1.50e+01    -  1.00e+00 1.00e+00f  1\r\n",
      "   9  1.3841309e+03 0.00e+00 3.26e+02  -0.3 3.49e+01    -  1.00e+00 1.96e-01f  2\r\n",
      "iter    objective    inf_pr   inf_du lg(mu)  ||d||  lg(rg) alpha_du alpha_pr  ls\r\n",
      "  10  1.3352941e+03 0.00e+00 5.42e+02   0.0 7.87e+01    -  1.00e+00 4.88e-02f  3\r\n",
      "  11  1.3027049e+03 0.00e+00 5.59e+02   1.3 2.49e+01    -  1.00e+00 4.75e-02f  3\r\n",
      "  12  1.1836205e+03 0.00e+00 2.23e+02   0.8 1.72e+01    -  9.88e-01 1.25e-01f  4\r\n",
      "  13  1.1211481e+03 0.00e+00 5.62e+01   1.2 2.96e+00    -  1.00e+00 1.00e+00f  1\r\n",
      "  14  1.0908580e+03 0.00e+00 6.63e+01  -0.0 1.65e+00    -  9.99e-01 1.00e+00f  1\r\n",
      "  15  1.0831001e+03 0.00e+00 2.71e+01  -0.3 3.27e-01    -  9.99e-01 1.00e+00f  1\r\n",
      "  16  1.0807361e+03 0.00e+00 1.78e+01  -2.1 4.55e-01    -  1.00e+00 1.00e+00f  1\r\n",
      "  17  1.0803783e+03 0.00e+00 1.29e+00  -3.0 1.07e-01    -  1.00e+00 1.00e+00f  1\r\n",
      "  18  1.0803580e+03 0.00e+00 1.40e+00  -4.7 2.23e-02    -  1.00e+00 1.00e+00f  1\r\n",
      "  19  1.0803524e+03 0.00e+00 4.52e-01  -6.6 3.95e-02    -  1.00e+00 1.00e+00f  1\r\n",
      "iter    objective    inf_pr   inf_du lg(mu)  ||d||  lg(rg) alpha_du alpha_pr  ls\r\n",
      "  20  1.0803464e+03 0.00e+00 1.84e-01  -8.2 3.03e-02    -  1.00e+00 1.00e+00f  1\r\n",
      "  21  1.0803463e+03 0.00e+00 1.12e-01 -10.0 5.25e-03    -  1.00e+00 1.25e-01f  4\r\n",
      "  22  1.0803463e+03 0.00e+00 7.70e-04 -11.0 7.86e-04    -  1.00e+00 1.00e+00f  1\r\n",
      "  23  1.0803463e+03 0.00e+00 5.99e-05 -11.0 2.33e-05    -  1.00e+00 1.00e+00f  1\r\n",
      "  24  1.0803463e+03 0.00e+00 3.20e-07 -11.0 9.48e-07    -  1.00e+00 1.00e+00f  1\r\n",
      "  25  1.0803463e+03 0.00e+00 9.64e-08 -11.0 1.55e-08    -  1.00e+00 1.00e+00f  1\r\n",
      "  26  1.0803463e+03 0.00e+00 4.11e-10 -11.0 2.18e-09    -  1.00e+00 1.00e+00f  1\r\n",
      "\r\n",
      "Number of Iterations....: 26\r\n",
      "\r\n",
      "                                   (scaled)                 (unscaled)\r\n",
      "Objective...............:   1.0803463092896220e+03    1.0803463092896220e+03\r\n",
      "Dual infeasibility......:   4.1060767116484939e-10    4.1060767116484939e-10\r\n",
      "Constraint violation....:   0.0000000000000000e+00    0.0000000000000000e+00\r\n",
      "Complementarity.........:   1.0000000000000001e-11    1.0000000000000001e-11\r\n",
      "Overall NLP error.......:   4.1060767116484939e-10    4.1060767116484939e-10\r\n",
      "\r\n",
      "\r\n",
      "Number of objective function evaluations             = 75\r\n",
      "Number of objective gradient evaluations             = 27\r\n",
      "Number of equality constraint evaluations            = 0\r\n",
      "Number of inequality constraint evaluations          = 0\r\n",
      "Number of equality constraint Jacobian evaluations   = 0\r\n",
      "Number of inequality constraint Jacobian evaluations = 0\r\n",
      "Number of Lagrangian Hessian evaluations             = 0\r\n",
      "Total CPU secs in IPOPT (w/o function evaluations)   =      2.883\r\n",
      "Total CPU secs in NLP function evaluations           =      0.062\r\n",
      "\r\n",
      "EXIT: Optimal Solution Found.\r\n"
     ]
    }
   ],
   "source": [
    "# the data in (x, y) format\n",
    "data = zip(adults.weight, adults.height)\n",
    "x̄ = mean(adults.weight)\n",
    "\n",
    "# define the priors\n",
    "prior_α = Normal(178, 20)\n",
    "prior_β = LogNormal(0, 1)\n",
    "prior_σ = Uniform(0, 50)\n",
    "\n",
    "# log likelihood of the data\n",
    "ll_data(α, β, σ) = begin\n",
    "    log_probs = map(data) do (x, y)\n",
    "        μ = α + β * (x - x̄)\n",
    "        d = Normal(μ, σ)\n",
    "        logpdf(d, y)\n",
    "    end\n",
    "    log_probs |> sum\n",
    "end\n",
    "\n",
    "# log of the joint probability of the priors, assuming independence\n",
    "l_joint_priors(α, β, σ) = logpdf(prior_α, α) +\n",
    "    logpdf(prior_β, β) +\n",
    "    logpdf(prior_σ, σ)\n",
    "\n",
    "objective_fn(α, β, σ) = ll_data(α, β, σ) + l_joint_priors(α, β, σ)\n",
    "\n",
    "\n",
    "# maximize the objective function\n",
    "model = Model(with_optimizer(Ipopt.Optimizer))\n",
    "\n",
    "register(model, :objective_fn, 3, objective_fn, autodiff=true)\n",
    "\n",
    "@variable(model, 98 <= α <= 258, start = rand(prior_α))\n",
    "@variable(model, 0 <= β <= 10, start = rand(prior_β))\n",
    "@variable(model, 0 <= σ <= 100, start = rand(prior_σ))\n",
    "\n",
    "@NLobjective(model, Max, objective_fn(α, β, σ))\n",
    "\n",
    "optimize!(model)"
   ]
  },
  {
   "cell_type": "markdown",
   "metadata": {},
   "source": [
    "Extract the covariance matrix and optimal points to build the posterior distribution:"
   ]
  },
  {
   "cell_type": "code",
   "execution_count": 9,
   "metadata": {},
   "outputs": [
    {
     "data": {
      "text/plain": [
       "FullNormal(\n",
       "dim: 3\n",
       "μ: [154.60136751223152, 0.9032808863359431, 5.071880332232309]\n",
       "Σ: [0.07307 -0.0 6.0e-5; -0.0 0.00176 -3.0e-5; 6.0e-5 -3.0e-5 0.03654]\n",
       ")\n"
      ]
     },
     "execution_count": 9,
     "metadata": {},
     "output_type": "execute_result"
    }
   ],
   "source": [
    "optimal_points = [α, β, σ] .|> value\n",
    "\n",
    "f(x::Vector) = begin\n",
    "    α, β, σ = x\n",
    "    objective_fn(α, β, σ)\n",
    "end\n",
    "\n",
    "H(x::Vector) = ForwardDiff.hessian(f, x)\n",
    "\n",
    "covar_mat = inv(-1 * H(optimal_points)) .|> \n",
    "    x -> round(x, digits=5)\n",
    "\n",
    "posterior_d = MultivariateNormal(optimal_points, covar_mat)"
   ]
  },
  {
   "cell_type": "markdown",
   "metadata": {},
   "source": [
    "Make predictions on the given individuals:"
   ]
  },
  {
   "cell_type": "code",
   "execution_count": 10,
   "metadata": {},
   "outputs": [],
   "source": [
    "predict_heights(α, β, σ) = begin\n",
    "    sample_weights = [45, 40, 65, 31, 53]\n",
    "    μs = α .+ β .* (sample_weights .- x̄)\n",
    "    ds = Normal.(μs, σ)\n",
    "    ys = rand.(ds)\n",
    "end\n",
    "\n",
    "summarize_predictions(preds) = vcat(mean(preds), (rcall(:PI, preds, prob=0.89) |> rcopy)...);"
   ]
  },
  {
   "cell_type": "code",
   "execution_count": 11,
   "metadata": {},
   "outputs": [
    {
     "data": {
      "text/plain": [
       "5×3 Array{Float64,2}:\n",
       " 154.7  146.7  163.2\n",
       " 150.0  142.1  158.0\n",
       " 172.9  164.5  181.3\n",
       " 141.8  134.6  149.6\n",
       " 161.9  153.4  169.8"
      ]
     },
     "execution_count": 11,
     "metadata": {},
     "output_type": "execute_result"
    }
   ],
   "source": [
    "sample_params = rand(posterior_d, 1000)\n",
    "\n",
    "results = map(eachcol(sample_params)) do (α, β, σ)\n",
    "   predict_heights(α, β, σ) \n",
    "end |> \n",
    "    m -> hcat(m...)' |>\n",
    "    eachcol .|>\n",
    "    summarize_predictions |>\n",
    "    m -> hcat(m...)' .|>\n",
    "    x -> round(x, digits=1)"
   ]
  },
  {
   "cell_type": "markdown",
   "metadata": {},
   "source": [
    "Make each results nicer:"
   ]
  },
  {
   "cell_type": "code",
   "execution_count": 12,
   "metadata": {},
   "outputs": [
    {
     "data": {
      "text/html": [
       "<table class=\"data-frame\"><thead><tr><th></th><th>weight</th><th>Eh</th><th>L89</th><th>U89</th></tr><tr><th></th><th>Float64</th><th>Float64</th><th>Float64</th><th>Float64</th></tr></thead><tbody><p>5 rows × 4 columns</p><tr><th>1</th><td>45.0</td><td>154.7</td><td>146.7</td><td>163.2</td></tr><tr><th>2</th><td>40.0</td><td>150.0</td><td>142.1</td><td>158.0</td></tr><tr><th>3</th><td>65.0</td><td>172.9</td><td>164.5</td><td>181.3</td></tr><tr><th>4</th><td>31.0</td><td>141.8</td><td>134.6</td><td>149.6</td></tr><tr><th>5</th><td>53.0</td><td>161.9</td><td>153.4</td><td>169.8</td></tr></tbody></table>"
      ],
      "text/latex": [
       "\\begin{tabular}{r|cccc}\n",
       "\t& weight & Eh & L89 & U89\\\\\n",
       "\t\\hline\n",
       "\t& Float64 & Float64 & Float64 & Float64\\\\\n",
       "\t\\hline\n",
       "\t1 & 45.0 & 154.7 & 146.7 & 163.2 \\\\\n",
       "\t2 & 40.0 & 150.0 & 142.1 & 158.0 \\\\\n",
       "\t3 & 65.0 & 172.9 & 164.5 & 181.3 \\\\\n",
       "\t4 & 31.0 & 141.8 & 134.6 & 149.6 \\\\\n",
       "\t5 & 53.0 & 161.9 & 153.4 & 169.8 \\\\\n",
       "\\end{tabular}\n"
      ],
      "text/plain": [
       "5×4 DataFrame\n",
       "│ Row │ weight  │ Eh      │ L89     │ U89     │\n",
       "│     │ \u001b[90mFloat64\u001b[39m │ \u001b[90mFloat64\u001b[39m │ \u001b[90mFloat64\u001b[39m │ \u001b[90mFloat64\u001b[39m │\n",
       "├─────┼─────────┼─────────┼─────────┼─────────┤\n",
       "│ 1   │ 45.0    │ 154.7   │ 146.7   │ 163.2   │\n",
       "│ 2   │ 40.0    │ 150.0   │ 142.1   │ 158.0   │\n",
       "│ 3   │ 65.0    │ 172.9   │ 164.5   │ 181.3   │\n",
       "│ 4   │ 31.0    │ 141.8   │ 134.6   │ 149.6   │\n",
       "│ 5   │ 53.0    │ 161.9   │ 153.4   │ 169.8   │"
      ]
     },
     "execution_count": 12,
     "metadata": {},
     "output_type": "execute_result"
    }
   ],
   "source": [
    "hcat([45, 40, 65, 31, 53], results) |>\n",
    "    m -> DataFrame(m, [:weight, :Eh, :L89, :U89])"
   ]
  },
  {
   "cell_type": "markdown",
   "metadata": {},
   "source": [
    "# Question 2"
   ]
  },
  {
   "cell_type": "markdown",
   "metadata": {},
   "source": [
    "**Question**\n",
    "<img src=\"https://i.ibb.co/rbvHT5P/Untitled.png\" alt=\"Untitled\" border=\"0\">"
   ]
  },
  {
   "cell_type": "markdown",
   "metadata": {},
   "source": [
    "**Solution**"
   ]
  },
  {
   "cell_type": "markdown",
   "metadata": {},
   "source": [
    "Build a linear model:"
   ]
  },
  {
   "cell_type": "code",
   "execution_count": 13,
   "metadata": {},
   "outputs": [
    {
     "name": "stdout",
     "output_type": "stream",
     "text": [
      "This is Ipopt version 3.12.10, running with linear solver mumps.\r\n",
      "NOTE: Other linear solvers might be more efficient (see Ipopt documentation).\r\n",
      "\r\n",
      "Number of nonzeros in equality constraint Jacobian...:        0\r\n",
      "Number of nonzeros in inequality constraint Jacobian.:        0\r\n",
      "Number of nonzeros in Lagrangian Hessian.............:        0\r\n",
      "\r\n",
      "Total number of variables............................:        3\r\n",
      "                     variables with only lower bounds:        0\r\n",
      "                variables with lower and upper bounds:        3\r\n",
      "                     variables with only upper bounds:        0\r\n",
      "Total number of equality constraints.................:        0\r\n",
      "Total number of inequality constraints...............:        0\r\n",
      "        inequality constraints with only lower bounds:        0\r\n",
      "   inequality constraints with lower and upper bounds:        0\r\n",
      "        inequality constraints with only upper bounds:        0\r\n",
      "\r\n",
      "iter    objective    inf_pr   inf_du lg(mu)  ||d||  lg(rg) alpha_du alpha_pr  ls\r\n",
      "   0  2.7695524e+03 0.00e+00 1.32e+01   0.0 0.00e+00    -  0.00e+00 0.00e+00   0\r\n",
      "   1  2.6314229e+03 0.00e+00 7.19e+00   0.8 1.28e+01    -  9.28e-01 1.00e+00f  1\r\n",
      "   2  2.4530489e+03 0.00e+00 1.22e+01   0.1 1.65e+01    -  9.35e-01 1.00e+00f  1\r\n",
      "   3  2.3336183e+03 0.00e+00 1.35e+01   0.0 1.97e+02    -  9.30e-01 7.54e-02f  3\r\n",
      "   4  2.2588797e+03 0.00e+00 3.03e+01   0.1 4.23e+01    -  1.00e+00 5.00e-01f  2\r\n",
      "   5  2.1007559e+03 0.00e+00 2.11e+01  -0.0 1.28e+01    -  9.98e-01 1.00e+00f  1\r\n",
      "   6  1.8903065e+03 0.00e+00 2.76e+01  -0.1 2.33e+01    -  9.97e-01 5.00e-01f  2\r\n",
      "   7  1.8335733e+03 0.00e+00 4.52e+01  -0.7 3.21e+01    -  1.00e+00 1.10e-01f  3\r\n",
      "   8  1.8005267e+03 0.00e+00 2.69e+01  -1.1 1.99e+01    -  1.00e+00 2.50e-01f  3\r\n",
      "   9  1.7390535e+03 0.00e+00 4.04e+01  -1.0 1.07e+01    -  1.00e+00 2.34e-01f  3\r\n",
      "iter    objective    inf_pr   inf_du lg(mu)  ||d||  lg(rg) alpha_du alpha_pr  ls\r\n",
      "  10  1.6900373e+03 0.00e+00 2.04e+01  -2.2 1.51e+01    -  1.00e+00 2.50e-01f  3\r\n",
      "  11  1.6887549e+03 0.00e+00 1.50e+01  -2.5 8.47e-01    -  1.00e+00 1.00e+00f  1\r\n",
      "  12  1.6841757e+03 0.00e+00 3.21e+00  -4.1 3.80e-01    -  1.00e+00 1.00e+00f  1\r\n",
      "  13  1.6840228e+03 0.00e+00 2.26e+00  -5.8 2.31e-01    -  1.00e+00 1.00e+00f  1\r\n",
      "  14  1.6838905e+03 0.00e+00 2.56e-01  -7.4 1.16e-01    -  1.00e+00 1.00e+00f  1\r\n",
      "  15  1.6838883e+03 0.00e+00 7.55e-02  -9.3 1.77e-02    -  1.00e+00 1.00e+00f  1\r\n",
      "  16  1.6838882e+03 0.00e+00 3.04e-03 -11.0 1.85e-03    -  1.00e+00 1.00e+00f  1\r\n",
      "  17  1.6838882e+03 0.00e+00 5.98e-04 -11.0 1.20e-04    -  1.00e+00 1.00e+00f  1\r\n",
      "  18  1.6838882e+03 0.00e+00 9.81e-05 -11.0 7.32e-05    -  1.00e+00 1.00e+00f  1\r\n",
      "  19  1.6838882e+03 0.00e+00 1.94e-05 -11.0 1.54e-05    -  1.00e+00 1.00e+00f  1\r\n",
      "iter    objective    inf_pr   inf_du lg(mu)  ||d||  lg(rg) alpha_du alpha_pr  ls\r\n",
      "  20  1.6838882e+03 0.00e+00 4.74e-06 -11.0 1.17e-06    -  1.00e+00 1.00e+00f  1\r\n",
      "  21  1.6838882e+03 0.00e+00 5.98e-08 -11.0 2.30e-07    -  1.00e+00 1.00e+00f  1\r\n",
      "  22  1.6838882e+03 0.00e+00 2.19e-10 -11.0 1.76e-09    -  1.00e+00 1.00e+00f  1\r\n",
      "\r\n",
      "Number of Iterations....: 22\r\n",
      "\r\n",
      "                                   (scaled)                 (unscaled)\r\n",
      "Objective...............:   1.6838882071473063e+03    1.6838882071473063e+03\r\n",
      "Dual infeasibility......:   2.1949296278416071e-10    2.1949296278416071e-10\r\n",
      "Constraint violation....:   0.0000000000000000e+00    0.0000000000000000e+00\r\n",
      "Complementarity.........:   1.0000000000000001e-11    1.0000000000000001e-11\r\n",
      "Overall NLP error.......:   2.1949296278416071e-10    2.1949296278416071e-10\r\n",
      "\r\n",
      "\r\n",
      "Number of objective function evaluations             = 63\r\n",
      "Number of objective gradient evaluations             = 23\r\n",
      "Number of equality constraint evaluations            = 0\r\n",
      "Number of inequality constraint evaluations          = 0\r\n",
      "Number of equality constraint Jacobian evaluations   = 0\r\n",
      "Number of inequality constraint Jacobian evaluations = 0\r\n",
      "Number of Lagrangian Hessian evaluations             = 0\r\n",
      "Total CPU secs in IPOPT (w/o function evaluations)   =      0.302\r\n",
      "Total CPU secs in NLP function evaluations           =      0.015\r\n",
      "\r\n",
      "EXIT: Optimal Solution Found.\r\n"
     ]
    }
   ],
   "source": [
    "# the data in (x, y) format\n",
    "data = zip(log.(df.weight), df.height)\n",
    "x̄ = mean(log.(df.weight))\n",
    "\n",
    "# define the priors\n",
    "prior_α = Normal(178, 20)\n",
    "prior_β = LogNormal(0, 1)\n",
    "prior_σ = Uniform(0, 50)\n",
    "\n",
    "# log likelihood of the data\n",
    "ll_data(α, β, σ) = begin\n",
    "    log_probs = map(data) do (x, y)\n",
    "        μ = α + β * (x - x̄)\n",
    "        d = Normal(μ, σ)\n",
    "        logpdf(d, y)\n",
    "    end\n",
    "    log_probs |> sum\n",
    "end\n",
    "\n",
    "# log of the joint probability of the priors, assuming independence\n",
    "l_joint_priors(α, β, σ) = logpdf(prior_α, α) +\n",
    "    logpdf(prior_β, β) +\n",
    "    logpdf(prior_σ, σ)\n",
    "\n",
    "objective_fn(α, β, σ) = ll_data(α, β, σ) + l_joint_priors(α, β, σ)\n",
    "\n",
    "\n",
    "# maximize the objective function\n",
    "model = Model(with_optimizer(Ipopt.Optimizer))\n",
    "\n",
    "register(model, :objective_fn, 3, objective_fn, autodiff=true)\n",
    "\n",
    "@variable(model, 98 <= α <= 258, start = rand(prior_α))\n",
    "@variable(model, 0 <= β <= 100, start = rand(prior_β))\n",
    "@variable(model, 0 <= σ <= 100, start = rand(prior_σ))\n",
    "\n",
    "@NLobjective(model, Max, objective_fn(α, β, σ))\n",
    "\n",
    "optimize!(model)"
   ]
  },
  {
   "cell_type": "code",
   "execution_count": 14,
   "metadata": {},
   "outputs": [
    {
     "data": {
      "text/plain": [
       "FullNormal(\n",
       "dim: 3\n",
       "μ: [138.26841036791015, 47.07112766717237, 5.134717086790416]\n",
       "Σ: [0.04846 -0.0 5.0e-5; -0.0 0.14641 -0.00014; 5.0e-5 -0.00014 0.02423]\n",
       ")\n"
      ]
     },
     "execution_count": 14,
     "metadata": {},
     "output_type": "execute_result"
    }
   ],
   "source": [
    "optimal_points = [α, β, σ] .|> value\n",
    "\n",
    "f(x::Vector) = begin\n",
    "    α, β, σ = x\n",
    "    objective_fn(α, β, σ)\n",
    "end\n",
    "\n",
    "H(x::Vector) = ForwardDiff.hessian(f, x)\n",
    "\n",
    "covar_mat = inv(-1 * H(optimal_points)) .|> \n",
    "    x -> round(x, digits=5)\n",
    "\n",
    "posterior_d = MultivariateNormal(optimal_points, covar_mat)"
   ]
  },
  {
   "cell_type": "markdown",
   "metadata": {},
   "source": [
    "Make predictions for weights starting from 1 kg to 60 kg:"
   ]
  },
  {
   "cell_type": "code",
   "execution_count": 15,
   "metadata": {},
   "outputs": [
    {
     "data": {
      "text/plain": [
       "5×3 Array{Float64,2}:\n",
       " -24.0635   -37.0395   -11.2005\n",
       "   8.73865   -4.91901   22.7802\n",
       "  27.8314    14.5603    41.2942\n",
       "  41.6801    29.105     53.4393\n",
       "  52.0696    39.0495    65.3266"
      ]
     },
     "execution_count": 15,
     "metadata": {},
     "output_type": "execute_result"
    }
   ],
   "source": [
    "const trials = 1000\n",
    "\n",
    "sample_xs = range(1, stop=60)\n",
    "sample_params = rand(posterior_d, trials)\n",
    "\n",
    "# predict the heights for each x in sample_xs given a set of params sampled from the posterior\n",
    "results = map(eachcol(sample_params)) do (α, β, σ)\n",
    "    centered_sample_xs = log.(sample_xs) .- x̄\n",
    "    sample_μs = α .+ β .* centered_sample_xs\n",
    "    \n",
    "    d = Normal.(sample_μs, σ)\n",
    "    sample_heights = rand.(d)\n",
    "end |>\n",
    "    m -> hcat(m...)' |>\n",
    "# summarize the predictions for each x in sampple_xs\n",
    "    eachcol .|>\n",
    "    (col -> vcat(mean(col), rcall(:PI, col, prob=0.99) |> rcopy)) |>\n",
    "    m -> hcat(m...)'\n",
    "\n",
    "results[1:5,:]"
   ]
  },
  {
   "cell_type": "markdown",
   "metadata": {},
   "source": [
    "Turn results into a dataframe:"
   ]
  },
  {
   "cell_type": "code",
   "execution_count": 16,
   "metadata": {},
   "outputs": [
    {
     "data": {
      "text/html": [
       "<table class=\"data-frame\"><thead><tr><th></th><th>weight</th><th>height</th><th>l99</th><th>u99</th></tr><tr><th></th><th>Float64</th><th>Float64</th><th>Float64</th><th>Float64</th></tr></thead><tbody><p>5 rows × 4 columns</p><tr><th>1</th><td>1.0</td><td>-24.0635</td><td>-37.0395</td><td>-11.2005</td></tr><tr><th>2</th><td>2.0</td><td>8.73865</td><td>-4.91901</td><td>22.7802</td></tr><tr><th>3</th><td>3.0</td><td>27.8314</td><td>14.5603</td><td>41.2942</td></tr><tr><th>4</th><td>4.0</td><td>41.6801</td><td>29.105</td><td>53.4393</td></tr><tr><th>5</th><td>5.0</td><td>52.0696</td><td>39.0495</td><td>65.3266</td></tr></tbody></table>"
      ],
      "text/latex": [
       "\\begin{tabular}{r|cccc}\n",
       "\t& weight & height & l99 & u99\\\\\n",
       "\t\\hline\n",
       "\t& Float64 & Float64 & Float64 & Float64\\\\\n",
       "\t\\hline\n",
       "\t1 & 1.0 & -24.0635 & -37.0395 & -11.2005 \\\\\n",
       "\t2 & 2.0 & 8.73865 & -4.91901 & 22.7802 \\\\\n",
       "\t3 & 3.0 & 27.8314 & 14.5603 & 41.2942 \\\\\n",
       "\t4 & 4.0 & 41.6801 & 29.105 & 53.4393 \\\\\n",
       "\t5 & 5.0 & 52.0696 & 39.0495 & 65.3266 \\\\\n",
       "\\end{tabular}\n"
      ],
      "text/plain": [
       "5×4 DataFrame\n",
       "│ Row │ weight  │ height   │ l99      │ u99      │\n",
       "│     │ \u001b[90mFloat64\u001b[39m │ \u001b[90mFloat64\u001b[39m  │ \u001b[90mFloat64\u001b[39m  │ \u001b[90mFloat64\u001b[39m  │\n",
       "├─────┼─────────┼──────────┼──────────┼──────────┤\n",
       "│ 1   │ 1.0     │ -24.0635 │ -37.0395 │ -11.2005 │\n",
       "│ 2   │ 2.0     │ 8.73865  │ -4.91901 │ 22.7802  │\n",
       "│ 3   │ 3.0     │ 27.8314  │ 14.5603  │ 41.2942  │\n",
       "│ 4   │ 4.0     │ 41.6801  │ 29.105   │ 53.4393  │\n",
       "│ 5   │ 5.0     │ 52.0696  │ 39.0495  │ 65.3266  │"
      ]
     },
     "execution_count": 16,
     "metadata": {},
     "output_type": "execute_result"
    }
   ],
   "source": [
    "results_df = hcat(sample_xs, results) |>\n",
    "    m -> DataFrame(m, [:weight, :height, :l99, :u99])\n",
    "\n",
    "first(results_df, 5)"
   ]
  },
  {
   "cell_type": "markdown",
   "metadata": {},
   "source": [
    "Plot the results:"
   ]
  },
  {
   "cell_type": "code",
   "execution_count": 17,
   "metadata": {},
   "outputs": [
    {
     "data": {
      "image/png": "[encoded data removed]"
     },
     "metadata": {},
     "output_type": "display_data"
    },
    {
     "data": {
      "text/plain": [
       "RObject{VecSxp}\n"
      ]
     },
     "execution_count": 17,
     "metadata": {},
     "output_type": "execute_result"
    }
   ],
   "source": [
    "R\"\"\"\n",
    "\n",
    "$df %>%\n",
    "  ggplot() +\n",
    "  geom_point(aes(weight, height), alpha = 0.5, shape = 1) +\n",
    "  geom_line(aes(weight, height), data = $results_df, color = \"blue\")  +\n",
    "  geom_ribbon(\n",
    "    aes(x = weight, ymin = l99, ymax = u99),\n",
    "    data = $results_df,\n",
    "    fill = \"grey70\",\n",
    "    alpha = 0.5\n",
    "  ) +\n",
    "  geom_vline(xintercept = 20, color='red', linetype = 'dashed') +\n",
    "  geom_vline(xintercept = 35, color='red', linetype = 'dashed')\n",
    "\"\"\""
   ]
  },
  {
   "cell_type": "markdown",
   "metadata": {},
   "source": [
    "We can see that the model tends to underpredict the height for weight values between 20 kg and 35 kg. Otherwise, the model does a pretty got job when making predictions in regions where it has data."
   ]
  },
  {
   "cell_type": "markdown",
   "metadata": {},
   "source": [
    "What if we did not take the log of the weight?"
   ]
  },
  {
   "cell_type": "code",
   "execution_count": 18,
   "metadata": {},
   "outputs": [
    {
     "name": "stdout",
     "output_type": "stream",
     "text": [
      "This is Ipopt version 3.12.10, running with linear solver mumps.\r\n",
      "NOTE: Other linear solvers might be more efficient (see Ipopt documentation).\r\n",
      "\r\n",
      "Number of nonzeros in equality constraint Jacobian...:        0\r\n",
      "Number of nonzeros in inequality constraint Jacobian.:        0\r\n",
      "Number of nonzeros in Lagrangian Hessian.............:        0\r\n",
      "\r\n",
      "Total number of variables............................:        3\r\n",
      "                     variables with only lower bounds:        0\r\n",
      "                variables with lower and upper bounds:        3\r\n",
      "                     variables with only upper bounds:        0\r\n",
      "Total number of equality constraints.................:        0\r\n",
      "Total number of inequality constraints...............:        0\r\n",
      "        inequality constraints with only lower bounds:        0\r\n",
      "   inequality constraints with lower and upper bounds:        0\r\n",
      "        inequality constraints with only upper bounds:        0\r\n",
      "\r\n",
      "iter    objective    inf_pr   inf_du lg(mu)  ||d||  lg(rg) alpha_du alpha_pr  ls\r\n",
      "   0  2.4119898e+03 0.00e+00 1.00e+02   0.0 0.00e+00    -  0.00e+00 0.00e+00   0\r\n",
      "   1  2.5035528e+03 0.00e+00 1.47e+02   1.8 7.69e+01    -  4.35e-02 3.12e-02f  6\r\n",
      "   2  2.3262809e+03 0.00e+00 8.74e+00   1.7 1.28e+00    -  1.00e+00 1.00e+00f  1\r\n",
      "   3  2.3227474e+03 0.00e+00 1.00e+01  -4.4 1.30e-01    -  9.89e-01 1.00e+00f  1\r\n",
      "   4  2.3180708e+03 0.00e+00 1.01e+01  -2.2 2.83e-01    -  1.00e+00 1.00e+00f  1\r\n",
      "   5  2.2821445e+03 0.00e+00 4.35e+01  -3.5 2.47e+00    -  1.00e+00 1.00e+00f  1\r\n",
      "   6  2.1847952e+03 0.00e+00 1.96e+02  -4.2 1.69e+01    -  1.00e+00 5.00e-01f  2\r\n",
      "   7  2.0882553e+03 0.00e+00 2.85e+02  -2.7 1.03e+01    -  1.00e+00 5.00e-01f  2\r\n",
      "   8  2.0754211e+03 0.00e+00 1.06e+02  -3.4 9.67e+00    -  1.00e+00 2.36e-01f  3\r\n",
      "   9  2.0371864e+03 0.00e+00 4.88e+01  -2.8 5.30e+00    -  1.00e+00 1.00e+00f  1\r\n",
      "iter    objective    inf_pr   inf_du lg(mu)  ||d||  lg(rg) alpha_du alpha_pr  ls\r\n",
      "  10  2.0125816e+03 0.00e+00 8.66e+00  -4.4 1.21e+00    -  1.00e+00 1.00e+00f  1\r\n",
      "  11  2.0006789e+03 0.00e+00 2.79e+01  -5.9 2.73e+00    -  1.00e+00 5.00e-01f  2\r\n",
      "  12  1.9992900e+03 0.00e+00 1.05e+01  -6.7 3.36e-01    -  1.00e+00 1.00e+00f  1\r\n",
      "  13  1.9991630e+03 0.00e+00 2.35e+00  -7.7 4.83e-02    -  1.00e+00 1.00e+00f  1\r\n",
      "  14  1.9991551e+03 0.00e+00 1.27e-01  -9.6 1.86e-02    -  1.00e+00 1.00e+00f  1\r\n",
      "  15  1.9991550e+03 0.00e+00 5.51e-02 -11.0 1.52e-03    -  1.00e+00 1.00e+00f  1\r\n",
      "  16  1.9991549e+03 0.00e+00 4.48e-02 -11.0 7.84e-03    -  1.00e+00 1.00e+00f  1\r\n",
      "  17  1.9991549e+03 0.00e+00 6.94e-02 -11.0 4.82e-03    -  1.00e+00 5.00e-01f  2\r\n",
      "  18  1.9991549e+03 0.00e+00 1.73e-03 -11.0 1.83e-03    -  1.00e+00 1.00e+00f  1\r\n",
      "  19  1.9991549e+03 0.00e+00 7.34e-03 -11.0 5.38e-04    -  1.00e+00 1.00e+00f  1\r\n",
      "iter    objective    inf_pr   inf_du lg(mu)  ||d||  lg(rg) alpha_du alpha_pr  ls\r\n",
      "  20  1.9991549e+03 0.00e+00 1.90e-03 -11.0 9.49e-05    -  1.00e+00 5.00e-01f  2\r\n",
      "  21  1.9991549e+03 0.00e+00 2.55e-04 -11.0 7.48e-05    -  1.00e+00 1.00e+00f  1\r\n",
      "  22  1.9991549e+03 0.00e+00 5.91e-04 -11.0 1.36e-04    -  1.00e+00 1.25e-01f  4\r\n",
      "  23  1.9991549e+03 0.00e+00 2.86e-06 -11.0 8.61e-06    -  1.00e+00 1.00e+00f  1\r\n",
      "  24  1.9991549e+03 0.00e+00 6.88e-07 -11.0 1.81e-07    -  1.00e+00 1.00e+00f  1\r\n",
      "  25  1.9991549e+03 0.00e+00 4.26e-06 -11.0 4.05e-08    -  1.00e+00 1.00e+00f  1\r\n",
      "  26  1.9991549e+03 0.00e+00 6.30e-11 -11.0 3.37e-08    -  1.00e+00 1.00e+00f  1\r\n",
      "\r\n",
      "Number of Iterations....: 26\r\n",
      "\r\n",
      "                                   (scaled)                 (unscaled)\r\n",
      "Objective...............:   1.1485867972492717e+03    1.9991548883700093e+03\r\n",
      "Dual infeasibility......:   6.2961969406092936e-11    1.0958747673318119e-10\r\n",
      "Constraint violation....:   0.0000000000000000e+00    0.0000000000000000e+00\r\n",
      "Complementarity.........:   1.0000000000000003e-11    1.7405344490792923e-11\r\n",
      "Overall NLP error.......:   6.2961969406092936e-11    1.0958747673318119e-10\r\n",
      "\r\n",
      "\r\n",
      "Number of objective function evaluations             = 74\r\n",
      "Number of objective gradient evaluations             = 27\r\n",
      "Number of equality constraint evaluations            = 0\r\n",
      "Number of inequality constraint evaluations          = 0\r\n",
      "Number of equality constraint Jacobian evaluations   = 0\r\n",
      "Number of inequality constraint Jacobian evaluations = 0\r\n",
      "Number of Lagrangian Hessian evaluations             = 0\r\n",
      "Total CPU secs in IPOPT (w/o function evaluations)   =      0.333\r\n",
      "Total CPU secs in NLP function evaluations           =      0.014\r\n",
      "\r\n",
      "EXIT: Optimal Solution Found.\r\n"
     ]
    },
    {
     "data": {
      "image/png": "[encoded data removed]"
     },
     "metadata": {},
     "output_type": "display_data"
    },
    {
     "data": {
      "text/plain": [
       "RObject{VecSxp}\n"
      ]
     },
     "execution_count": 18,
     "metadata": {},
     "output_type": "execute_result"
    }
   ],
   "source": [
    "# the data in (x, y) format\n",
    "data = zip(df.weight, df.height)\n",
    "x̄ = mean(df.weight)\n",
    "\n",
    "# define the priors\n",
    "prior_α = Normal(178, 20)\n",
    "prior_β = LogNormal(0, 1)\n",
    "prior_σ = Uniform(0, 50)\n",
    "\n",
    "# log likelihood of the data\n",
    "ll_data(α, β, σ) = begin\n",
    "    log_probs = map(data) do (x, y)\n",
    "        μ = α + β * (x - x̄)\n",
    "        d = Normal(μ, σ)\n",
    "        logpdf(d, y)\n",
    "    end\n",
    "    log_probs |> sum\n",
    "end\n",
    "\n",
    "# log of the joint probability of the priors, assuming independence\n",
    "l_joint_priors(α, β, σ) = logpdf(prior_α, α) +\n",
    "    logpdf(prior_β, β) +\n",
    "    logpdf(prior_σ, σ)\n",
    "\n",
    "objective_fn(α, β, σ) = ll_data(α, β, σ) + l_joint_priors(α, β, σ)\n",
    "\n",
    "\n",
    "# maximize the objective function\n",
    "model = Model(with_optimizer(Ipopt.Optimizer))\n",
    "\n",
    "register(model, :objective_fn, 3, objective_fn, autodiff=true)\n",
    "\n",
    "@variable(model, 98 <= α <= 258, start = rand(prior_α))\n",
    "@variable(model, 0 <= β <= 100, start = rand(prior_β))\n",
    "@variable(model, 0 <= σ <= 100, start = rand(prior_σ))\n",
    "\n",
    "@NLobjective(model, Max, objective_fn(α, β, σ))\n",
    "\n",
    "optimize!(model)\n",
    "\n",
    "# build the posterior distribution\n",
    "optimal_points = [α, β, σ] .|> value\n",
    "\n",
    "f(x::Vector) = begin\n",
    "    α, β, σ = x\n",
    "    objective_fn(α, β, σ)\n",
    "end\n",
    "\n",
    "H(x::Vector) = ForwardDiff.hessian(f, x)\n",
    "\n",
    "covar_mat = inv(-1 * H(optimal_points)) .|> \n",
    "    x -> round(x, digits=5)\n",
    "\n",
    "posterior_d = MultivariateNormal(optimal_points, covar_mat)\n",
    "\n",
    "\n",
    "# summarize the results\n",
    "const trials = 1000\n",
    "\n",
    "sample_xs = range(1, stop=60)\n",
    "sample_params = rand(posterior_d, trials)\n",
    "\n",
    "# predict the heights for each x in sample_xs given a set of params sampled from the posterior\n",
    "results = map(eachcol(sample_params)) do (α, β, σ)\n",
    "    centered_sample_xs = sample_xs .- x̄\n",
    "    sample_μs = α .+ β .* centered_sample_xs\n",
    "    \n",
    "    d = Normal.(sample_μs, σ)\n",
    "    sample_heights = rand.(d)\n",
    "end |>\n",
    "    m -> hcat(m...)' |>\n",
    "# summarize the predictions for each x in sampple_xs\n",
    "    eachcol .|>\n",
    "    (col -> vcat(mean(col), rcall(:PI, col, prob=0.99) |> rcopy)) |>\n",
    "    m -> hcat(m...)'\n",
    "\n",
    "# plot the results\n",
    "results_df = hcat(sample_xs, results) |>\n",
    "    m -> DataFrame(m, [:weight, :height, :l99, :u99])\n",
    "\n",
    "R\"\"\"\n",
    "\n",
    "$df %>%\n",
    "  ggplot() +\n",
    "  geom_point(aes(weight, height), alpha = 0.5, shape = 1) +\n",
    "  geom_line(aes(weight, height), data = $results_df, color = \"blue\")  +\n",
    "  geom_ribbon(\n",
    "    aes(x = weight, ymin = l99, ymax = u99),\n",
    "    data = $results_df,\n",
    "    fill = \"grey70\",\n",
    "    alpha = 0.5\n",
    "  ) +\n",
    "  geom_vline(xintercept = 20, color='red', linetype = 'dashed') +\n",
    "  geom_vline(xintercept = 35, color='red', linetype = 'dashed')\n",
    "\"\"\""
   ]
  },
  {
   "cell_type": "markdown",
   "metadata": {},
   "source": [
    "It's alot worse!\n",
    "\n",
    "Notice that both models are linear models. The only difference is that the first model makes the assumption that height is linearly related to the log of weight while the second model assumes height is linearly related to weight.\n",
    "\n",
    "Why does taking the log of weight gives so much better result?"
   ]
  },
  {
   "cell_type": "markdown",
   "metadata": {},
   "source": [
    "Hint: $log(x)$ can reasonably approximate  $x^{1/3}$"
   ]
  },
  {
   "cell_type": "code",
   "execution_count": 19,
   "metadata": {},
   "outputs": [
    {
     "data": {
      "image/png": "[encoded data removed]"
     },
     "metadata": {},
     "output_type": "display_data"
    },
    {
     "data": {
      "text/plain": [
       "RObject{VecSxp}\n"
      ]
     },
     "execution_count": 19,
     "metadata": {},
     "output_type": "execute_result"
    }
   ],
   "source": [
    "x = range(1, stop = 60)\n",
    "y1 = log.(x)\n",
    "y2 = x.^(1/3)\n",
    "\n",
    "df = hcat(x, y1, y2) |>\n",
    "    m -> DataFrame(m, [:x, :y1, :y2])\n",
    "\n",
    "R\"\"\"\n",
    "$df %>%\n",
    "    pivot_longer(c(y1, y2), names_to = 'fn', values_to = 'y') %>%\n",
    "    mutate(fn = if_else(fn == 'y1', 'log(x)', 'x^(1/3)')) %>%\n",
    "    ggplot(aes(x = x, y = y, color = fn)) +\n",
    "    geom_line()\n",
    "\n",
    "\"\"\""
   ]
  },
  {
   "cell_type": "markdown",
   "metadata": {},
   "source": [
    "If we assume the shape of a human can be approximated by a cylinder:"
   ]
  },
  {
   "cell_type": "markdown",
   "metadata": {},
   "source": [
    "<img src=\"https://i.ibb.co/s2RqrXv/Untitled.png\" alt=\"Untitled\" border=\"0\">"
   ]
  },
  {
   "cell_type": "markdown",
   "metadata": {},
   "source": [
    "**Conclusion**:\n",
    "\n",
    "Sometime physics/biology gets you most of the model."
   ]
  }
 ],
 "metadata": {
  "@webio": {
   "lastCommId": null,
   "lastKernelId": null
  },
  "kernelspec": {
   "display_name": "Julia 1.3.1",
   "language": "julia",
   "name": "julia-1.3"
  },
  "language_info": {
   "file_extension": ".jl",
   "mimetype": "application/julia",
   "name": "julia",
   "version": "1.3.1"
  },
  "toc": {
   "nav_menu": {},
   "number_sections": true,
   "sideBar": true,
   "skip_h1_title": false,
   "toc_cell": true,
   "toc_position": {},
   "toc_section_display": "block",
   "toc_window_display": true
  }
 },
 "nbformat": 4,
 "nbformat_minor": 2
}
