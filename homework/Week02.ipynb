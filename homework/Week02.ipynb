{
 "cells": [
  {
   "cell_type": "markdown",
   "metadata": {
    "toc": true
   },
   "source": [
    "<h1>Table of Contents<span class=\"tocSkip\"></span></h1>\n",
    "<div class=\"toc\" style=\"margin-top: 1em;\"><ul class=\"toc-item\"><li><span><a href=\"#Packages\" data-toc-modified-id=\"Packages-1\"><span class=\"toc-item-num\">1&nbsp;&nbsp;</span>Packages</a></span></li><li><span><a href=\"#Setup\" data-toc-modified-id=\"Setup-2\"><span class=\"toc-item-num\">2&nbsp;&nbsp;</span>Setup</a></span></li><li><span><a href=\"#Data\" data-toc-modified-id=\"Data-3\"><span class=\"toc-item-num\">3&nbsp;&nbsp;</span>Data</a></span></li><li><span><a href=\"#Question-1\" data-toc-modified-id=\"Question-1-4\"><span class=\"toc-item-num\">4&nbsp;&nbsp;</span>Question 1</a></span></li><li><span><a href=\"#Question-2\" data-toc-modified-id=\"Question-2-5\"><span class=\"toc-item-num\">5&nbsp;&nbsp;</span>Question 2</a></span></li></ul></div>"
   ]
  },
  {
   "cell_type": "markdown",
   "metadata": {},
   "source": [
    "# Packages"
   ]
  },
  {
   "cell_type": "code",
   "execution_count": 185,
   "metadata": {},
   "outputs": [],
   "source": [
    "using RCall\n",
    "RCall.rcall_p(:options, rcalljl_options=Dict(:width => 800, :height => 400));"
   ]
  },
  {
   "cell_type": "code",
   "execution_count": 186,
   "metadata": {},
   "outputs": [],
   "source": [
    "using Distributions, Statistics"
   ]
  },
  {
   "cell_type": "code",
   "execution_count": 187,
   "metadata": {},
   "outputs": [],
   "source": [
    "using JuMP, Ipopt, ForwardDiff"
   ]
  },
  {
   "cell_type": "markdown",
   "metadata": {},
   "source": [
    "# Setup"
   ]
  },
  {
   "cell_type": "code",
   "execution_count": 203,
   "metadata": {},
   "outputs": [
    {
     "name": "stderr",
     "output_type": "stream",
     "text": [
      "┌ Warning: RCall.jl: Loading required package: dplyr\n",
      "│ \n",
      "│ Attaching package: 'dplyr'\n",
      "│ \n",
      "│ The following objects are masked from 'package:stats':\n",
      "│ \n",
      "│     filter, lag\n",
      "│ \n",
      "│ The following objects are masked from 'package:base':\n",
      "│ \n",
      "│     intersect, setdiff, setequal, union\n",
      "│ \n",
      "└ @ RCall C:\\Users\\mshukri\\.julia\\packages\\RCall\\lAV2K\\src\\io.jl:113\n"
     ]
    },
    {
     "data": {
      "text/plain": [
       "RObject{LglSxp}\n",
       "[1] TRUE\n"
      ]
     },
     "execution_count": 203,
     "metadata": {},
     "output_type": "execute_result"
    }
   ],
   "source": [
    "R\"\"\"\n",
    "require(rethinking)\n",
    "require(ggplot2)\n",
    "require(dplyr)\n",
    "\"\"\""
   ]
  },
  {
   "cell_type": "markdown",
   "metadata": {},
   "source": [
    "# Data"
   ]
  },
  {
   "cell_type": "markdown",
   "metadata": {},
   "source": [
    "Get the Howel1 dataset:"
   ]
  },
  {
   "cell_type": "code",
   "execution_count": 189,
   "metadata": {},
   "outputs": [
    {
     "name": "stderr",
     "output_type": "stream",
     "text": [
      "┌ Warning: `head(df::AbstractDataFrame, n::Integer)` is deprecated, use `first(df, n)` instead.\n",
      "│   caller = top-level scope at In[189]:3\n",
      "└ @ Core In[189]:3\n"
     ]
    },
    {
     "data": {
      "text/html": [
       "<table class=\"data-frame\"><thead><tr><th></th><th>height</th><th>weight</th><th>age</th><th>male</th></tr><tr><th></th><th>Float64</th><th>Float64</th><th>Float64</th><th>Int64</th></tr></thead><tbody><p>5 rows × 4 columns</p><tr><th>1</th><td>151.765</td><td>47.8256</td><td>63.0</td><td>1</td></tr><tr><th>2</th><td>139.7</td><td>36.4858</td><td>63.0</td><td>0</td></tr><tr><th>3</th><td>136.525</td><td>31.8648</td><td>65.0</td><td>0</td></tr><tr><th>4</th><td>156.845</td><td>53.0419</td><td>41.0</td><td>1</td></tr><tr><th>5</th><td>145.415</td><td>41.2769</td><td>51.0</td><td>0</td></tr></tbody></table>"
      ],
      "text/latex": [
       "\\begin{tabular}{r|cccc}\n",
       "\t& height & weight & age & male\\\\\n",
       "\t\\hline\n",
       "\t& Float64 & Float64 & Float64 & Int64\\\\\n",
       "\t\\hline\n",
       "\t1 & 151.765 & 47.8256 & 63.0 & 1 \\\\\n",
       "\t2 & 139.7 & 36.4858 & 63.0 & 0 \\\\\n",
       "\t3 & 136.525 & 31.8648 & 65.0 & 0 \\\\\n",
       "\t4 & 156.845 & 53.0419 & 41.0 & 1 \\\\\n",
       "\t5 & 145.415 & 41.2769 & 51.0 & 0 \\\\\n",
       "\\end{tabular}\n"
      ],
      "text/plain": [
       "5×4 DataFrame\n",
       "│ Row │ height  │ weight  │ age     │ male  │\n",
       "│     │ \u001b[90mFloat64\u001b[39m │ \u001b[90mFloat64\u001b[39m │ \u001b[90mFloat64\u001b[39m │ \u001b[90mInt64\u001b[39m │\n",
       "├─────┼─────────┼─────────┼─────────┼───────┤\n",
       "│ 1   │ 151.765 │ 47.8256 │ 63.0    │ 1     │\n",
       "│ 2   │ 139.7   │ 36.4858 │ 63.0    │ 0     │\n",
       "│ 3   │ 136.525 │ 31.8648 │ 65.0    │ 0     │\n",
       "│ 4   │ 156.845 │ 53.0419 │ 41.0    │ 1     │\n",
       "│ 5   │ 145.415 │ 41.2769 │ 51.0    │ 0     │"
      ]
     },
     "execution_count": 189,
     "metadata": {},
     "output_type": "execute_result"
    }
   ],
   "source": [
    "file_url = \"https://raw.githubusercontent.com/rmcelreath/rethinking/master/data/Howell1.csv\"\n",
    "df = HTTP.get(file_url).body |> IOBuffer |> CSV.read\n",
    "head(df, 5)"
   ]
  },
  {
   "cell_type": "markdown",
   "metadata": {},
   "source": [
    "# Question 1"
   ]
  },
  {
   "cell_type": "markdown",
   "metadata": {},
   "source": [
    "**Question**"
   ]
  },
  {
   "cell_type": "markdown",
   "metadata": {},
   "source": [
    "<img src=\"https://i.ibb.co/tLyJSsz/Untitled.png\" alt=\"Untitled\" border=\"0\">"
   ]
  },
  {
   "cell_type": "markdown",
   "metadata": {},
   "source": [
    "**Solution**"
   ]
  },
  {
   "cell_type": "markdown",
   "metadata": {},
   "source": [
    "Get the adult heights:"
   ]
  },
  {
   "cell_type": "code",
   "execution_count": 190,
   "metadata": {},
   "outputs": [
    {
     "data": {
      "text/html": [
       "<table class=\"data-frame\"><thead><tr><th></th><th>height</th><th>weight</th><th>age</th><th>male</th></tr><tr><th></th><th>Float64</th><th>Float64</th><th>Float64</th><th>Int64</th></tr></thead><tbody><p>5 rows × 4 columns</p><tr><th>1</th><td>151.765</td><td>47.8256</td><td>63.0</td><td>1</td></tr><tr><th>2</th><td>139.7</td><td>36.4858</td><td>63.0</td><td>0</td></tr><tr><th>3</th><td>136.525</td><td>31.8648</td><td>65.0</td><td>0</td></tr><tr><th>4</th><td>156.845</td><td>53.0419</td><td>41.0</td><td>1</td></tr><tr><th>5</th><td>145.415</td><td>41.2769</td><td>51.0</td><td>0</td></tr></tbody></table>"
      ],
      "text/latex": [
       "\\begin{tabular}{r|cccc}\n",
       "\t& height & weight & age & male\\\\\n",
       "\t\\hline\n",
       "\t& Float64 & Float64 & Float64 & Int64\\\\\n",
       "\t\\hline\n",
       "\t1 & 151.765 & 47.8256 & 63.0 & 1 \\\\\n",
       "\t2 & 139.7 & 36.4858 & 63.0 & 0 \\\\\n",
       "\t3 & 136.525 & 31.8648 & 65.0 & 0 \\\\\n",
       "\t4 & 156.845 & 53.0419 & 41.0 & 1 \\\\\n",
       "\t5 & 145.415 & 41.2769 & 51.0 & 0 \\\\\n",
       "\\end{tabular}\n"
      ],
      "text/plain": [
       "5×4 DataFrame\n",
       "│ Row │ height  │ weight  │ age     │ male  │\n",
       "│     │ \u001b[90mFloat64\u001b[39m │ \u001b[90mFloat64\u001b[39m │ \u001b[90mFloat64\u001b[39m │ \u001b[90mInt64\u001b[39m │\n",
       "├─────┼─────────┼─────────┼─────────┼───────┤\n",
       "│ 1   │ 151.765 │ 47.8256 │ 63.0    │ 1     │\n",
       "│ 2   │ 139.7   │ 36.4858 │ 63.0    │ 0     │\n",
       "│ 3   │ 136.525 │ 31.8648 │ 65.0    │ 0     │\n",
       "│ 4   │ 156.845 │ 53.0419 │ 41.0    │ 1     │\n",
       "│ 5   │ 145.415 │ 41.2769 │ 51.0    │ 0     │"
      ]
     },
     "execution_count": 190,
     "metadata": {},
     "output_type": "execute_result"
    }
   ],
   "source": [
    "adults = df |>\n",
    "    @filter(_.age >= 18) |>\n",
    "    DataFrame\n",
    "\n",
    "first(adults, 5)"
   ]
  },
  {
   "cell_type": "markdown",
   "metadata": {},
   "source": [
    "Build a linear regression model relating height with weight:"
   ]
  },
  {
   "cell_type": "code",
   "execution_count": 191,
   "metadata": {},
   "outputs": [
    {
     "name": "stdout",
     "output_type": "stream",
     "text": [
      "This is Ipopt version 3.12.10, running with linear solver mumps.\r\n",
      "NOTE: Other linear solvers might be more efficient (see Ipopt documentation).\r\n",
      "\r\n",
      "Number of nonzeros in equality constraint Jacobian...:        0\r\n",
      "Number of nonzeros in inequality constraint Jacobian.:        0\r\n",
      "Number of nonzeros in Lagrangian Hessian.............:        0\r\n",
      "\r\n",
      "Total number of variables............................:        3\r\n",
      "                     variables with only lower bounds:        0\r\n",
      "                variables with lower and upper bounds:        3\r\n",
      "                     variables with only upper bounds:        0\r\n",
      "Total number of equality constraints.................:        0\r\n",
      "Total number of inequality constraints...............:        0\r\n",
      "        inequality constraints with only lower bounds:        0\r\n",
      "   inequality constraints with lower and upper bounds:        0\r\n",
      "        inequality constraints with only upper bounds:        0\r\n",
      "\r\n",
      "iter    objective    inf_pr   inf_du lg(mu)  ||d||  lg(rg) alpha_du alpha_pr  ls\r\n",
      "   0  2.5801209e+03 0.00e+00 1.00e+02   0.0 0.00e+00    -  0.00e+00 0.00e+00   0\r\n",
      "   1  2.0502103e+03 0.00e+00 1.26e+02   2.9 1.66e+02    -  1.00e+00 8.08e-02f  2\r\n",
      "   2  1.9871700e+03 0.00e+00 4.65e+00   1.3 2.25e-01    -  9.88e-01 1.00e+00f  1\r\n",
      "   3  1.4859577e+03 0.00e+00 5.92e-01   0.6 3.08e+00    -  1.00e+00 1.00e+00f  1\r\n",
      "   4  1.2957358e+03 0.00e+00 9.41e+00  -1.3 4.63e+00    -  9.52e-01 1.00e+00f  1\r\n",
      "   5  1.2485110e+03 0.00e+00 4.50e+00  -2.1 1.72e+00    -  1.00e+00 1.00e+00f  1\r\n",
      "   6  1.1942530e+03 0.00e+00 3.82e+00  -1.2 1.49e+00    -  9.97e-01 1.00e+00f  1\r\n",
      "   7  1.1397486e+03 0.00e+00 8.86e+00  -2.6 2.26e+00    -  1.00e+00 1.00e+00f  1\r\n",
      "   8  1.1219386e+03 0.00e+00 4.56e+00  -1.4 8.85e+00    -  1.00e+00 6.25e-02f  5\r\n",
      "   9  1.1154208e+03 0.00e+00 1.45e+00  -2.9 1.76e-01    -  1.00e+00 1.00e+00f  1\r\n",
      "iter    objective    inf_pr   inf_du lg(mu)  ||d||  lg(rg) alpha_du alpha_pr  ls\r\n",
      "  10  1.1131530e+03 0.00e+00 1.42e+00  -4.8 8.10e-02    -  1.00e+00 1.00e+00f  1\r\n",
      "  11  1.0905169e+03 0.00e+00 6.77e+00  -6.3 1.39e+00    -  1.00e+00 1.00e+00f  1\r\n",
      "  12  1.0805873e+03 0.00e+00 6.60e-01  -5.7 6.81e-01    -  1.00e+00 1.00e+00f  1\r\n",
      "  13  1.0805668e+03 0.00e+00 3.58e-01  -6.9 2.12e-01    -  1.00e+00 1.00e+00f  1\r\n",
      "  14  1.0803471e+03 0.00e+00 3.14e-02  -8.9 1.05e-01    -  1.00e+00 1.00e+00f  1\r\n",
      "  15  1.0803463e+03 0.00e+00 3.38e-03 -10.6 6.93e-03    -  1.00e+00 1.00e+00f  1\r\n",
      "  16  1.0803463e+03 0.00e+00 1.32e-04 -11.0 6.35e-04    -  1.00e+00 1.00e+00f  1\r\n",
      "  17  1.0803463e+03 0.00e+00 5.24e-05 -11.0 1.38e-04    -  1.00e+00 1.00e+00f  1\r\n",
      "  18  1.0803463e+03 0.00e+00 3.48e-05 -11.0 4.18e-05    -  1.00e+00 1.00e+00f  1\r\n",
      "  19  1.0803463e+03 0.00e+00 7.45e-05 -11.0 3.43e-05    -  1.00e+00 2.50e-01f  3\r\n",
      "iter    objective    inf_pr   inf_du lg(mu)  ||d||  lg(rg) alpha_du alpha_pr  ls\r\n",
      "  20  1.0803463e+03 0.00e+00 4.82e-05 -11.0 2.31e-05    -  1.00e+00 1.00e+00f  1\r\n",
      "  21  1.0803463e+03 0.00e+00 1.27e-08 -11.0 1.03e-05    -  1.00e+00 1.00e+00f  1\r\n",
      "  22  1.0803463e+03 0.00e+00 3.37e-10 -11.0 2.15e-09    -  1.00e+00 1.00e+00f  1\r\n",
      "\r\n",
      "Number of Iterations....: 22\r\n",
      "\r\n",
      "                                   (scaled)                 (unscaled)\r\n",
      "Objective...............:   8.2466592112875745e+01    1.0803463092896225e+03\r\n",
      "Dual infeasibility......:   3.3667074671686438e-10    4.4105253938892535e-09\r\n",
      "Constraint violation....:   0.0000000000000000e+00    0.0000000000000000e+00\r\n",
      "Complementarity.........:   1.0000000000000001e-11    1.3100411713520353e-10\r\n",
      "Overall NLP error.......:   3.3667074671686438e-10    4.4105253938892535e-09\r\n",
      "\r\n",
      "\r\n",
      "Number of objective function evaluations             = 42\r\n",
      "Number of objective gradient evaluations             = 23\r\n",
      "Number of equality constraint evaluations            = 0\r\n",
      "Number of inequality constraint evaluations          = 0\r\n",
      "Number of equality constraint Jacobian evaluations   = 0\r\n",
      "Number of inequality constraint Jacobian evaluations = 0\r\n",
      "Number of Lagrangian Hessian evaluations             = 0\r\n",
      "Total CPU secs in IPOPT (w/o function evaluations)   =      0.210\r\n",
      "Total CPU secs in NLP function evaluations           =      0.007\r\n",
      "\r\n",
      "EXIT: Optimal Solution Found.\r\n"
     ]
    }
   ],
   "source": [
    "# the data in (x, y) format\n",
    "data = zip(adults.weight, adults.height)\n",
    "x̄ = mean(adults.weight)\n",
    "\n",
    "# define the priors\n",
    "prior_α = Normal(178, 20)\n",
    "prior_β = LogNormal(0, 1)\n",
    "prior_σ = Uniform(0, 50)\n",
    "\n",
    "# log likelihood of the data\n",
    "ll_data(α, β, σ) = begin\n",
    "    log_probs = map(data) do (x, y)\n",
    "        μ = α + β * (x - x̄)\n",
    "        d = Normal(μ, σ)\n",
    "        logpdf(d, y)\n",
    "    end\n",
    "    log_probs |> sum\n",
    "end\n",
    "\n",
    "# log of the joint probability of the priors, assuming independence\n",
    "l_joint_priors(α, β, σ) = logpdf(prior_α, α) +\n",
    "    logpdf(prior_β, β) +\n",
    "    logpdf(prior_σ, σ)\n",
    "\n",
    "objective_fn(α, β, σ) = ll_data(α, β, σ) + l_joint_priors(α, β, σ)\n",
    "\n",
    "\n",
    "# maximize the objective function\n",
    "model = Model(with_optimizer(Ipopt.Optimizer))\n",
    "\n",
    "register(model, :objective_fn, 3, objective_fn, autodiff=true)\n",
    "\n",
    "@variable(model, 98 <= α <= 258, start = rand(prior_α))\n",
    "@variable(model, 0 <= β <= 10, start = rand(prior_β))\n",
    "@variable(model, 0 <= σ <= 100, start = rand(prior_σ))\n",
    "\n",
    "@NLobjective(model, Max, objective_fn(α, β, σ))\n",
    "\n",
    "optimize!(model)"
   ]
  },
  {
   "cell_type": "markdown",
   "metadata": {},
   "source": [
    "Extract the covariance matrix and optimal points to build the posterior distribution:"
   ]
  },
  {
   "cell_type": "code",
   "execution_count": 192,
   "metadata": {},
   "outputs": [
    {
     "data": {
      "text/plain": [
       "FullNormal(\n",
       "dim: 3\n",
       "μ: [154.60136751206537, 0.903280886327661, 5.071880332262239]\n",
       "Σ: [0.07307 -0.0 6.0e-5; -0.0 0.00176 -3.0e-5; 6.0e-5 -3.0e-5 0.03654]\n",
       ")\n"
      ]
     },
     "execution_count": 192,
     "metadata": {},
     "output_type": "execute_result"
    }
   ],
   "source": [
    "optimal_points = [α, β, σ] .|> value\n",
    "\n",
    "f(x::Vector) = begin\n",
    "    α, β, σ = x\n",
    "    objective_fn(α, β, σ)\n",
    "end\n",
    "\n",
    "H(x::Vector) = ForwardDiff.hessian(f, x)\n",
    "\n",
    "covar_mat = inv(-1 * H(optimal_points)) .|> \n",
    "    x -> round(x, digits=5)\n",
    "\n",
    "posterior_d = MultivariateNormal(optimal_points, covar_mat)"
   ]
  },
  {
   "cell_type": "markdown",
   "metadata": {},
   "source": [
    "Make predictions on the given individuals:"
   ]
  },
  {
   "cell_type": "code",
   "execution_count": 193,
   "metadata": {},
   "outputs": [],
   "source": [
    "predict_heights(α, β, σ) = begin\n",
    "    sample_weights = [45, 40, 65, 31, 53]\n",
    "    μs = α .+ β .* (sample_weights .- x̄)\n",
    "    ds = Normal.(μs, σ)\n",
    "    ys = rand.(ds)\n",
    "end\n",
    "\n",
    "summarize_predictions(preds) = vcat(mean(preds), (rcall(:PI, preds, prob=0.89) |> rcopy)...);"
   ]
  },
  {
   "cell_type": "code",
   "execution_count": 194,
   "metadata": {},
   "outputs": [
    {
     "data": {
      "text/plain": [
       "5×3 Array{Float64,2}:\n",
       " 154.9  146.8  162.7\n",
       " 150.1  142.0  158.3\n",
       " 172.6  164.4  180.7\n",
       " 142.0  133.9  149.9\n",
       " 162.1  154.0  170.0"
      ]
     },
     "execution_count": 194,
     "metadata": {},
     "output_type": "execute_result"
    }
   ],
   "source": [
    "sample_params = rand(posterior_d, 1000)\n",
    "\n",
    "results = map(eachcol(sample_params)) do (α, β, σ)\n",
    "   predict_heights(α, β, σ) \n",
    "end |> \n",
    "    m -> hcat(m...)' |>\n",
    "    eachcol .|>\n",
    "    summarize_predictions |>\n",
    "    m -> hcat(m...)' .|>\n",
    "    x -> round(x, digits=1)"
   ]
  },
  {
   "cell_type": "markdown",
   "metadata": {},
   "source": [
    "Make each results nicer:"
   ]
  },
  {
   "cell_type": "code",
   "execution_count": 195,
   "metadata": {},
   "outputs": [
    {
     "data": {
      "text/html": [
       "<table class=\"data-frame\"><thead><tr><th></th><th>weight</th><th>Eh</th><th>L89</th><th>U89</th></tr><tr><th></th><th>Float64</th><th>Float64</th><th>Float64</th><th>Float64</th></tr></thead><tbody><p>5 rows × 4 columns</p><tr><th>1</th><td>45.0</td><td>154.9</td><td>146.8</td><td>162.7</td></tr><tr><th>2</th><td>40.0</td><td>150.1</td><td>142.0</td><td>158.3</td></tr><tr><th>3</th><td>65.0</td><td>172.6</td><td>164.4</td><td>180.7</td></tr><tr><th>4</th><td>31.0</td><td>142.0</td><td>133.9</td><td>149.9</td></tr><tr><th>5</th><td>53.0</td><td>162.1</td><td>154.0</td><td>170.0</td></tr></tbody></table>"
      ],
      "text/latex": [
       "\\begin{tabular}{r|cccc}\n",
       "\t& weight & Eh & L89 & U89\\\\\n",
       "\t\\hline\n",
       "\t& Float64 & Float64 & Float64 & Float64\\\\\n",
       "\t\\hline\n",
       "\t1 & 45.0 & 154.9 & 146.8 & 162.7 \\\\\n",
       "\t2 & 40.0 & 150.1 & 142.0 & 158.3 \\\\\n",
       "\t3 & 65.0 & 172.6 & 164.4 & 180.7 \\\\\n",
       "\t4 & 31.0 & 142.0 & 133.9 & 149.9 \\\\\n",
       "\t5 & 53.0 & 162.1 & 154.0 & 170.0 \\\\\n",
       "\\end{tabular}\n"
      ],
      "text/plain": [
       "5×4 DataFrame\n",
       "│ Row │ weight  │ Eh      │ L89     │ U89     │\n",
       "│     │ \u001b[90mFloat64\u001b[39m │ \u001b[90mFloat64\u001b[39m │ \u001b[90mFloat64\u001b[39m │ \u001b[90mFloat64\u001b[39m │\n",
       "├─────┼─────────┼─────────┼─────────┼─────────┤\n",
       "│ 1   │ 45.0    │ 154.9   │ 146.8   │ 162.7   │\n",
       "│ 2   │ 40.0    │ 150.1   │ 142.0   │ 158.3   │\n",
       "│ 3   │ 65.0    │ 172.6   │ 164.4   │ 180.7   │\n",
       "│ 4   │ 31.0    │ 142.0   │ 133.9   │ 149.9   │\n",
       "│ 5   │ 53.0    │ 162.1   │ 154.0   │ 170.0   │"
      ]
     },
     "execution_count": 195,
     "metadata": {},
     "output_type": "execute_result"
    }
   ],
   "source": [
    "hcat([45, 40, 65, 31, 53], results) |>\n",
    "    m -> DataFrame(m, [:weight, :Eh, :L89, :U89])"
   ]
  },
  {
   "cell_type": "markdown",
   "metadata": {},
   "source": [
    "# Question 2"
   ]
  },
  {
   "cell_type": "markdown",
   "metadata": {},
   "source": [
    "**Question**\n",
    "<img src=\"https://i.ibb.co/rbvHT5P/Untitled.png\" alt=\"Untitled\" border=\"0\">"
   ]
  },
  {
   "cell_type": "markdown",
   "metadata": {},
   "source": [
    "**Solution**"
   ]
  },
  {
   "cell_type": "markdown",
   "metadata": {},
   "source": [
    "Build a linear model:"
   ]
  },
  {
   "cell_type": "code",
   "execution_count": 199,
   "metadata": {},
   "outputs": [
    {
     "name": "stdout",
     "output_type": "stream",
     "text": [
      "This is Ipopt version 3.12.10, running with linear solver mumps.\r\n",
      "NOTE: Other linear solvers might be more efficient (see Ipopt documentation).\r\n",
      "\r\n",
      "Number of nonzeros in equality constraint Jacobian...:        0\r\n",
      "Number of nonzeros in inequality constraint Jacobian.:        0\r\n",
      "Number of nonzeros in Lagrangian Hessian.............:        0\r\n",
      "\r\n",
      "Total number of variables............................:        3\r\n",
      "                     variables with only lower bounds:        0\r\n",
      "                variables with lower and upper bounds:        3\r\n",
      "                     variables with only upper bounds:        0\r\n",
      "Total number of equality constraints.................:        0\r\n",
      "Total number of inequality constraints...............:        0\r\n",
      "        inequality constraints with only lower bounds:        0\r\n",
      "   inequality constraints with lower and upper bounds:        0\r\n",
      "        inequality constraints with only upper bounds:        0\r\n",
      "\r\n",
      "iter    objective    inf_pr   inf_du lg(mu)  ||d||  lg(rg) alpha_du alpha_pr  ls\r\n",
      "   0  7.0270061e+03 0.00e+00 1.00e+02   0.0 0.00e+00    -  0.00e+00 0.00e+00   0\r\n",
      "Warning: Cutting back alpha due to evaluation error\r\n",
      "Warning: Cutting back alpha due to evaluation error\r\n",
      "   1  3.1916615e+03 0.00e+00 3.42e+00   1.3 9.38e+01    -  1.70e-01 2.25e-01f  3\r\n",
      "   2  3.1508298e+03 0.00e+00 3.42e+00   0.0 9.03e-01    -  9.97e-01 1.00e+00f  1\r\n",
      "   3  2.8992469e+03 0.00e+00 1.91e+00  -0.4 1.02e+01    -  9.96e-01 1.00e+00f  1\r\n",
      "   4  2.7624416e+03 0.00e+00 1.22e+00  -1.2 1.26e+01    -  9.92e-01 1.00e+00f  1\r\n",
      "   5  2.5595571e+03 0.00e+00 1.85e+00  -0.9 3.00e+01    -  1.00e+00 1.00e+00f  1\r\n",
      "   6  2.5262312e+03 0.00e+00 3.04e+00  -1.1 2.29e+01    -  9.93e-01 1.00e+00f  1\r\n",
      "   7  2.3439541e+03 0.00e+00 2.87e+00  -1.0 1.95e+01    -  1.00e+00 1.00e+00f  1\r\n",
      "   8  2.2573724e+03 0.00e+00 6.80e+00  -1.5 1.60e+01    -  1.00e+00 1.00e+00f  1\r\n",
      "   9  2.1566361e+03 0.00e+00 3.85e+00  -1.7 1.72e+01    -  1.00e+00 1.00e+00f  1\r\n",
      "iter    objective    inf_pr   inf_du lg(mu)  ||d||  lg(rg) alpha_du alpha_pr  ls\r\n",
      "  10  2.0040742e+03 0.00e+00 3.83e+00  -2.7 7.19e+00    -  1.00e+00 1.00e+00f  1\r\n",
      "  11  1.9905064e+03 0.00e+00 1.27e+01  -2.9 9.21e+01    -  1.00e+00 6.19e-02f  2\r\n",
      "  12  1.6967845e+03 0.00e+00 3.40e+00  -3.7 5.98e+00    -  1.00e+00 1.00e+00f  1\r\n",
      "  13  1.6891318e+03 0.00e+00 2.66e+00  -3.2 3.89e+00    -  1.00e+00 2.50e-01f  3\r\n",
      "  14  1.6870913e+03 0.00e+00 9.63e-01  -4.7 1.31e+00    -  1.00e+00 5.00e-01f  2\r\n",
      "  15  1.6846298e+03 0.00e+00 8.52e-01  -5.8 1.29e+00    -  1.00e+00 1.00e+00f  1\r\n",
      "  16  1.6839127e+03 0.00e+00 2.15e-01  -6.8 3.58e-01    -  1.00e+00 1.00e+00f  1\r\n",
      "  17  1.6838884e+03 0.00e+00 8.72e-03  -8.8 3.41e-02    -  1.00e+00 1.00e+00f  1\r\n",
      "  18  1.6838882e+03 0.00e+00 7.60e-04 -10.6 8.92e-03    -  1.00e+00 1.00e+00f  1\r\n",
      "  19  1.6838882e+03 0.00e+00 1.23e-04 -11.0 7.11e-04    -  1.00e+00 1.00e+00f  1\r\n",
      "iter    objective    inf_pr   inf_du lg(mu)  ||d||  lg(rg) alpha_du alpha_pr  ls\r\n",
      "  20  1.6838882e+03 0.00e+00 4.81e-05 -11.0 1.07e-04    -  1.00e+00 5.00e-01f  2\r\n",
      "  21  1.6838882e+03 0.00e+00 3.30e-08 -11.0 1.50e-05    -  1.00e+00 1.00e+00f  1\r\n",
      "  22  1.6838882e+03 0.00e+00 6.01e-10 -11.0 5.24e-09    -  1.00e+00 1.00e+00f  1\r\n",
      "\r\n",
      "Number of Iterations....: 22\r\n",
      "\r\n",
      "                                   (scaled)                 (unscaled)\r\n",
      "Objective...............:   2.6192623640555530e+02    1.6838882071473065e+03\r\n",
      "Dual infeasibility......:   6.0134129355420481e-10    3.8659415207218075e-09\r\n",
      "Constraint violation....:   0.0000000000000000e+00    0.0000000000000000e+00\r\n",
      "Complementarity.........:   1.0000000000000003e-11    6.4288642109912461e-11\r\n",
      "Overall NLP error.......:   6.0134129355420481e-10    3.8659415207218075e-09\r\n",
      "\r\n",
      "\r\n",
      "Number of objective function evaluations             = 46\r\n",
      "Number of objective gradient evaluations             = 23\r\n",
      "Number of equality constraint evaluations            = 0\r\n",
      "Number of inequality constraint evaluations          = 0\r\n",
      "Number of equality constraint Jacobian evaluations   = 0\r\n",
      "Number of inequality constraint Jacobian evaluations = 0\r\n",
      "Number of Lagrangian Hessian evaluations             = 0\r\n",
      "Total CPU secs in IPOPT (w/o function evaluations)   =      0.232\r\n",
      "Total CPU secs in NLP function evaluations           =      0.013\r\n",
      "\r\n",
      "EXIT: Optimal Solution Found.\r\n"
     ]
    }
   ],
   "source": [
    "# the data in (x, y) format\n",
    "data = zip(log.(df.weight), df.height)\n",
    "x̄ = mean(log.(df.weight))\n",
    "\n",
    "# define the priors\n",
    "prior_α = Normal(178, 20)\n",
    "prior_β = LogNormal(0, 1)\n",
    "prior_σ = Uniform(0, 50)\n",
    "\n",
    "# log likelihood of the data\n",
    "ll_data(α, β, σ) = begin\n",
    "    log_probs = map(data) do (x, y)\n",
    "        μ = α + β * (x - x̄)\n",
    "        d = Normal(μ, σ)\n",
    "        logpdf(d, y)\n",
    "    end\n",
    "    log_probs |> sum\n",
    "end\n",
    "\n",
    "# log of the joint probability of the priors, assuming independence\n",
    "l_joint_priors(α, β, σ) = logpdf(prior_α, α) +\n",
    "    logpdf(prior_β, β) +\n",
    "    logpdf(prior_σ, σ)\n",
    "\n",
    "objective_fn(α, β, σ) = ll_data(α, β, σ) + l_joint_priors(α, β, σ)\n",
    "\n",
    "\n",
    "# maximize the objective function\n",
    "model = Model(with_optimizer(Ipopt.Optimizer))\n",
    "\n",
    "register(model, :objective_fn, 3, objective_fn, autodiff=true)\n",
    "\n",
    "@variable(model, 98 <= α <= 258, start = rand(prior_α))\n",
    "@variable(model, 0 <= β <= 100, start = rand(prior_β))\n",
    "@variable(model, 0 <= σ <= 100, start = rand(prior_σ))\n",
    "\n",
    "@NLobjective(model, Max, objective_fn(α, β, σ))\n",
    "\n",
    "optimize!(model)"
   ]
  },
  {
   "cell_type": "code",
   "execution_count": 202,
   "metadata": {},
   "outputs": [
    {
     "data": {
      "text/plain": [
       "FullNormal(\n",
       "dim: 3\n",
       "μ: [138.26841036790285, 47.07112766715351, 5.134717086698649]\n",
       "Σ: [0.04846 -0.0 5.0e-5; -0.0 0.14641 -0.00014; 5.0e-5 -0.00014 0.02423]\n",
       ")\n"
      ]
     },
     "execution_count": 202,
     "metadata": {},
     "output_type": "execute_result"
    }
   ],
   "source": [
    "optimal_points = [α, β, σ] .|> value\n",
    "\n",
    "f(x::Vector) = begin\n",
    "    α, β, σ = x\n",
    "    objective_fn(α, β, σ)\n",
    "end\n",
    "\n",
    "H(x::Vector) = ForwardDiff.hessian(f, x)\n",
    "\n",
    "covar_mat = inv(-1 * H(optimal_points)) .|> \n",
    "    x -> round(x, digits=5)\n",
    "\n",
    "posterior_d = MultivariateNormal(optimal_points, covar_mat)"
   ]
  },
  {
   "cell_type": "markdown",
   "metadata": {},
   "source": [
    "Plot the results:"
   ]
  },
  {
   "cell_type": "code",
   "execution_count": null,
   "metadata": {},
   "outputs": [],
   "source": []
  }
 ],
 "metadata": {
  "kernelspec": {
   "display_name": "Julia 1.3.1",
   "language": "julia",
   "name": "julia-1.3"
  },
  "language_info": {
   "file_extension": ".jl",
   "mimetype": "application/julia",
   "name": "julia",
   "version": "1.3.1"
  },
  "toc": {
   "nav_menu": {},
   "number_sections": true,
   "sideBar": true,
   "skip_h1_title": false,
   "toc_cell": true,
   "toc_position": {},
   "toc_section_display": "block",
   "toc_window_display": true
  }
 },
 "nbformat": 4,
 "nbformat_minor": 2
}
