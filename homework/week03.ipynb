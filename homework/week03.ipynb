{
 "cells": [
  {
   "cell_type": "markdown",
   "metadata": {},
   "source": [
    "# Introduction"
   ]
  },
  {
   "cell_type": "markdown",
   "metadata": {},
   "source": [
    "This notebook contains my solution to the [week 3](https://github.com/rmcelreath/statrethinking_winter2019/blob/master/homework/week03.pdf) homework."
   ]
  },
  {
   "cell_type": "markdown",
   "metadata": {},
   "source": [
    "# Setup"
   ]
  },
  {
   "cell_type": "code",
   "execution_count": 1,
   "metadata": {},
   "outputs": [],
   "source": [
    "cd(\"../\")"
   ]
  },
  {
   "cell_type": "markdown",
   "metadata": {},
   "source": [
    "# Packages"
   ]
  },
  {
   "cell_type": "code",
   "execution_count": 2,
   "metadata": {},
   "outputs": [],
   "source": [
    "include(\"./src/Utils.jl\")\n",
    "using .Utils"
   ]
  },
  {
   "cell_type": "code",
   "execution_count": 3,
   "metadata": {},
   "outputs": [
    {
     "name": "stderr",
     "output_type": "stream",
     "text": [
      "┌ Warning: RCall.jl: Loading required package: rethinking\n",
      "│ Loading required package: rstan\n",
      "│ Loading required package: StanHeaders\n",
      "│ Loading required package: ggplot2\n",
      "│ rstan (Version 2.19.3, GitRev: 2e1f913d3ca3)\n",
      "│ For execution on a local, multicore CPU with excess RAM we recommend calling\n",
      "│ options(mc.cores = parallel::detectCores()).\n",
      "│ To avoid recompilation of unchanged Stan programs, we recommend calling\n",
      "│ rstan_options(auto_write = TRUE)\n",
      "│ Loading required package: parallel\n",
      "│ Loading required package: dagitty\n",
      "│ rethinking (Version 2.00)\n",
      "│ \n",
      "│ Attaching package: ‘rethinking’\n",
      "│ \n",
      "│ The following object is masked from ‘package:stats’:\n",
      "│ \n",
      "│     rstudent\n",
      "│ \n",
      "└ @ RCall /home/user/.julia/packages/RCall/paaBQ/src/io.jl:113\n",
      "┌ Warning: RCall.jl: Loading required package: dplyr\n",
      "│ \n",
      "│ Attaching package: ‘dplyr’\n",
      "│ \n",
      "│ The following objects are masked from ‘package:stats’:\n",
      "│ \n",
      "│     filter, lag\n",
      "│ \n",
      "│ The following objects are masked from ‘package:base’:\n",
      "│ \n",
      "│     intersect, setdiff, setequal, union\n",
      "│ \n",
      "└ @ RCall /home/user/.julia/packages/RCall/paaBQ/src/io.jl:113\n"
     ]
    }
   ],
   "source": [
    "using RCall\n",
    "RCall.rcall_p(:options, rcalljl_options=Dict(:width => 800, :height => 400))\n",
    "R\"\"\"\n",
    "require(rethinking)\n",
    "require(ggplot2)\n",
    "require(dplyr)\n",
    "\"\"\"\n",
    ";"
   ]
  },
  {
   "cell_type": "code",
   "execution_count": 4,
   "metadata": {},
   "outputs": [],
   "source": [
    "using StatsBase, Statistics, DataFrames, Distributions"
   ]
  },
  {
   "cell_type": "code",
   "execution_count": 5,
   "metadata": {},
   "outputs": [],
   "source": [
    "using LinearAlgebra"
   ]
  },
  {
   "cell_type": "markdown",
   "metadata": {},
   "source": [
    "# Data"
   ]
  },
  {
   "cell_type": "code",
   "execution_count": 6,
   "metadata": {},
   "outputs": [
    {
     "data": {
      "text/html": [
       "<table class=\"data-frame\"><thead><tr><th></th><th>group</th><th>avgfood</th><th>groupsize</th><th>area</th><th>weight</th></tr><tr><th></th><th>Int64</th><th>Float64</th><th>Int64</th><th>Float64</th><th>Float64</th></tr></thead><tbody><p>5 rows × 5 columns</p><tr><th>1</th><td>1</td><td>0.37</td><td>2</td><td>1.09</td><td>5.02</td></tr><tr><th>2</th><td>1</td><td>0.37</td><td>2</td><td>1.09</td><td>2.84</td></tr><tr><th>3</th><td>2</td><td>0.53</td><td>2</td><td>2.05</td><td>5.33</td></tr><tr><th>4</th><td>2</td><td>0.53</td><td>2</td><td>2.05</td><td>6.07</td></tr><tr><th>5</th><td>3</td><td>0.49</td><td>2</td><td>2.12</td><td>5.85</td></tr></tbody></table>"
      ],
      "text/latex": [
       "\\begin{tabular}{r|ccccc}\n",
       "\t& group & avgfood & groupsize & area & weight\\\\\n",
       "\t\\hline\n",
       "\t& Int64 & Float64 & Int64 & Float64 & Float64\\\\\n",
       "\t\\hline\n",
       "\t1 & 1 & 0.37 & 2 & 1.09 & 5.02 \\\\\n",
       "\t2 & 1 & 0.37 & 2 & 1.09 & 2.84 \\\\\n",
       "\t3 & 2 & 0.53 & 2 & 2.05 & 5.33 \\\\\n",
       "\t4 & 2 & 0.53 & 2 & 2.05 & 6.07 \\\\\n",
       "\t5 & 3 & 0.49 & 2 & 2.12 & 5.85 \\\\\n",
       "\\end{tabular}\n"
      ],
      "text/plain": [
       "5×5 DataFrame\n",
       "│ Row │ group │ avgfood │ groupsize │ area    │ weight  │\n",
       "│     │ \u001b[90mInt64\u001b[39m │ \u001b[90mFloat64\u001b[39m │ \u001b[90mInt64\u001b[39m     │ \u001b[90mFloat64\u001b[39m │ \u001b[90mFloat64\u001b[39m │\n",
       "├─────┼───────┼─────────┼───────────┼─────────┼─────────┤\n",
       "│ 1   │ 1     │ 0.37    │ 2         │ 1.09    │ 5.02    │\n",
       "│ 2   │ 1     │ 0.37    │ 2         │ 1.09    │ 2.84    │\n",
       "│ 3   │ 2     │ 0.53    │ 2         │ 2.05    │ 5.33    │\n",
       "│ 4   │ 2     │ 0.53    │ 2         │ 2.05    │ 6.07    │\n",
       "│ 5   │ 3     │ 0.49    │ 2         │ 2.12    │ 5.85    │"
      ]
     },
     "execution_count": 6,
     "metadata": {},
     "output_type": "execute_result"
    }
   ],
   "source": [
    "foxes = get_data(\"foxes\")\n",
    "first(foxes, 5)"
   ]
  },
  {
   "cell_type": "markdown",
   "metadata": {},
   "source": [
    "Standardize the variables:"
   ]
  },
  {
   "cell_type": "code",
   "execution_count": 7,
   "metadata": {},
   "outputs": [
    {
     "data": {
      "text/html": [
       "<table class=\"data-frame\"><thead><tr><th></th><th>avgfood</th><th>groupsize</th><th>area</th><th>weight</th></tr><tr><th></th><th>Float64</th><th>Float64</th><th>Float64</th><th>Float64</th></tr></thead><tbody><p>5 rows × 4 columns</p><tr><th>1</th><td>-1.92483</td><td>-1.52409</td><td>-2.2396</td><td>0.414135</td></tr><tr><th>2</th><td>-1.92483</td><td>-1.52409</td><td>-2.2396</td><td>-1.42705</td></tr><tr><th>3</th><td>-1.11804</td><td>-1.52409</td><td>-1.20551</td><td>0.675954</td></tr><tr><th>4</th><td>-1.11804</td><td>-1.52409</td><td>-1.20551</td><td>1.30094</td></tr><tr><th>5</th><td>-1.31973</td><td>-1.52409</td><td>-1.13011</td><td>1.11513</td></tr></tbody></table>"
      ],
      "text/latex": [
       "\\begin{tabular}{r|cccc}\n",
       "\t& avgfood & groupsize & area & weight\\\\\n",
       "\t\\hline\n",
       "\t& Float64 & Float64 & Float64 & Float64\\\\\n",
       "\t\\hline\n",
       "\t1 & -1.92483 & -1.52409 & -2.2396 & 0.414135 \\\\\n",
       "\t2 & -1.92483 & -1.52409 & -2.2396 & -1.42705 \\\\\n",
       "\t3 & -1.11804 & -1.52409 & -1.20551 & 0.675954 \\\\\n",
       "\t4 & -1.11804 & -1.52409 & -1.20551 & 1.30094 \\\\\n",
       "\t5 & -1.31973 & -1.52409 & -1.13011 & 1.11513 \\\\\n",
       "\\end{tabular}\n"
      ],
      "text/plain": [
       "5×4 DataFrame\n",
       "│ Row │ avgfood  │ groupsize │ area     │ weight   │\n",
       "│     │ \u001b[90mFloat64\u001b[39m  │ \u001b[90mFloat64\u001b[39m   │ \u001b[90mFloat64\u001b[39m  │ \u001b[90mFloat64\u001b[39m  │\n",
       "├─────┼──────────┼───────────┼──────────┼──────────┤\n",
       "│ 1   │ -1.92483 │ -1.52409  │ -2.2396  │ 0.414135 │\n",
       "│ 2   │ -1.92483 │ -1.52409  │ -2.2396  │ -1.42705 │\n",
       "│ 3   │ -1.11804 │ -1.52409  │ -1.20551 │ 0.675954 │\n",
       "│ 4   │ -1.11804 │ -1.52409  │ -1.20551 │ 1.30094  │\n",
       "│ 5   │ -1.31973 │ -1.52409  │ -1.13011 │ 1.11513  │"
      ]
     },
     "execution_count": 7,
     "metadata": {},
     "output_type": "execute_result"
    }
   ],
   "source": [
    "columns = filter(col -> !(col == :group), names(foxes))\n",
    "\n",
    "foxes_std = standardize(ZScoreTransform, Matrix(foxes[!, columns]), dims=1, center=true, scale=true) |>\n",
    "    m -> DataFrame(m, columns)\n",
    "\n",
    "first(foxes_std, 5)"
   ]
  },
  {
   "cell_type": "markdown",
   "metadata": {},
   "source": [
    "# Questions\n",
    "\n",
    "The DAG:\n",
    "\n",
    "<img src=\"https://i.ibb.co/92hQJnh/dag.png\" alt=\"dag\" border=\"0\">"
   ]
  },
  {
   "cell_type": "markdown",
   "metadata": {},
   "source": [
    "## Question 1"
   ]
  },
  {
   "cell_type": "markdown",
   "metadata": {},
   "source": [
    "**Question**\n",
    "\n",
    "<img src=\"https://i.ibb.co/hFGKYxF/question1.png\" alt=\"question1\" border=\"0\">"
   ]
  },
  {
   "cell_type": "markdown",
   "metadata": {},
   "source": [
    "**Solution**"
   ]
  },
  {
   "cell_type": "code",
   "execution_count": 8,
   "metadata": {},
   "outputs": [],
   "source": [
    "# variables for α, β_area, σ\n",
    "vars = (VariableSpecification(-100, 100, Normal(0, 0.2)),\n",
    "        VariableSpecification(-10, 10, Normal(0, 0.5)),\n",
    "        VariableSpecification(0, 100, Exponential(1)),\n",
    "    )\n",
    ";"
   ]
  },
  {
   "cell_type": "code",
   "execution_count": 9,
   "metadata": {},
   "outputs": [],
   "source": [
    "build_ll_data(data) = (α, β_area, σ) -> begin\n",
    "    logprobs = map(data) do (area, weight)\n",
    "        μ = α + β_area * area\n",
    "        d = Normal(μ, σ)\n",
    "        logpdf(d, weight)\n",
    "    end\n",
    "    \n",
    "    logprobs |> sum\n",
    "end;\n",
    "\n",
    "ll_data = build_ll_data(zip(foxes_std.area,\n",
    "                            foxes_std.weight\n",
    "        ));"
   ]
  },
  {
   "cell_type": "code",
   "execution_count": 10,
   "metadata": {},
   "outputs": [],
   "source": [
    "build_l_joint_priors(priors::NTuple{3, Distribution}) = \n",
    "    (α, β_area, σ) -> logpdf.(priors, (α, β_area, σ)) |> sum\n",
    "\n",
    "l_joint_priors = build_l_joint_priors(map(v -> v.prior, vars));"
   ]
  },
  {
   "cell_type": "code",
   "execution_count": 11,
   "metadata": {},
   "outputs": [
    {
     "data": {
      "text/plain": [
       "f (generic function with 2 methods)"
      ]
     },
     "execution_count": 11,
     "metadata": {},
     "output_type": "execute_result"
    }
   ],
   "source": [
    "# the objective function\n",
    "f(α, β_area, σ) = ll_data(α, β_area, σ) + l_joint_priors(α, β_area, σ);\n",
    "f(xs::Vector) = f(xs...)"
   ]
  },
  {
   "cell_type": "code",
   "execution_count": 12,
   "metadata": {},
   "outputs": [
    {
     "name": "stdout",
     "output_type": "stream",
     "text": [
      "\n",
      "******************************************************************************\n",
      "This program contains Ipopt, a library for large-scale nonlinear optimization.\n",
      " Ipopt is released as open source code under the Eclipse Public License (EPL).\n",
      "         For more information visit http://projects.coin-or.org/Ipopt\n",
      "******************************************************************************\n",
      "\n",
      "This is Ipopt version 3.12.10, running with linear solver mumps.\n",
      "NOTE: Other linear solvers might be more efficient (see Ipopt documentation).\n",
      "\n",
      "Number of nonzeros in equality constraint Jacobian...:        0\n",
      "Number of nonzeros in inequality constraint Jacobian.:        0\n",
      "Number of nonzeros in Lagrangian Hessian.............:        0\n",
      "\n",
      "Total number of variables............................:        3\n",
      "                     variables with only lower bounds:        0\n",
      "                variables with lower and upper bounds:        3\n",
      "                     variables with only upper bounds:        0\n",
      "Total number of equality constraints.................:        0\n",
      "Total number of inequality constraints...............:        0\n",
      "        inequality constraints with only lower bounds:        0\n",
      "   inequality constraints with lower and upper bounds:        0\n",
      "        inequality constraints with only upper bounds:        0\n",
      "\n",
      "iter    objective    inf_pr   inf_du lg(mu)  ||d||  lg(rg) alpha_du alpha_pr  ls\n",
      "   0  2.2245135e+02 0.00e+00 3.98e+01   0.0 0.00e+00    -  0.00e+00 0.00e+00   0\n",
      "   1  1.6950462e+02 0.00e+00 2.15e+01   0.7 2.65e+01    -  8.13e-01 4.52e-02f  2\n",
      "   2  1.6577185e+02 0.00e+00 4.76e+01  -1.0 2.94e+00    -  9.79e-01 1.03e-01f  3\n",
      "   3  1.6542231e+02 0.00e+00 1.49e+01   0.1 1.74e-01    -  9.56e-01 1.00e+00f  1\n",
      "   4  1.6521771e+02 0.00e+00 1.50e+01  -1.4 2.25e-01    -  1.00e+00 5.00e-01f  2\n",
      "   5  1.6460686e+02 0.00e+00 1.04e+00  -3.1 7.80e-02    -  1.00e+00 1.00e+00f  1\n",
      "   6  1.6460216e+02 0.00e+00 1.38e-01  -4.8 7.79e-03    -  1.00e+00 1.00e+00f  1\n",
      "   7  1.6460209e+02 0.00e+00 1.47e-02  -6.7 5.95e-04    -  1.00e+00 1.00e+00f  1\n",
      "   8  1.6460209e+02 0.00e+00 3.23e-03  -8.6 9.49e-05    -  1.00e+00 1.00e+00f  1\n",
      "   9  1.6460209e+02 0.00e+00 1.46e-04 -11.0 2.73e-05    -  1.00e+00 1.00e+00f  1\n",
      "iter    objective    inf_pr   inf_du lg(mu)  ||d||  lg(rg) alpha_du alpha_pr  ls\n",
      "  10  1.6460209e+02 0.00e+00 5.37e-06 -11.0 6.35e-07    -  1.00e+00 1.00e+00f  1\n",
      "  11  1.6460209e+02 0.00e+00 2.51e-08 -11.0 2.26e-08    -  1.00e+00 1.00e+00f  1\n",
      "  12  1.6460209e+02 0.00e+00 4.95e-11 -11.0 1.77e-10    -  1.00e+00 1.00e+00f  1\n",
      "\n",
      "Number of Iterations....: 12\n",
      "\n",
      "                                   (scaled)                 (unscaled)\n",
      "Objective...............:   1.6460209131842944e+02    1.6460209131842944e+02\n",
      "Dual infeasibility......:   4.9484284262824314e-11    4.9484284262824314e-11\n",
      "Constraint violation....:   0.0000000000000000e+00    0.0000000000000000e+00\n",
      "Complementarity.........:   1.0000000000000001e-11    1.0000000000000001e-11\n",
      "Overall NLP error.......:   4.9484284262824314e-11    4.9484284262824314e-11\n",
      "\n",
      "\n",
      "Number of objective function evaluations             = 29\n",
      "Number of objective gradient evaluations             = 13\n",
      "Number of equality constraint evaluations            = 0\n",
      "Number of inequality constraint evaluations          = 0\n",
      "Number of equality constraint Jacobian evaluations   = 0\n",
      "Number of inequality constraint Jacobian evaluations = 0\n",
      "Number of Lagrangian Hessian evaluations             = 0\n",
      "Total CPU secs in IPOPT (w/o function evaluations)   =      3.570\n",
      "Total CPU secs in NLP function evaluations           =      0.071\n",
      "\n",
      "EXIT: Optimal Solution Found.\n"
     ]
    }
   ],
   "source": [
    "soln_q1, covarmat_q1 = quap(f, vars);"
   ]
  },
  {
   "cell_type": "markdown",
   "metadata": {},
   "source": [
    "Mean values of the parameters:"
   ]
  },
  {
   "cell_type": "code",
   "execution_count": 13,
   "metadata": {},
   "outputs": [
    {
     "data": {
      "text/plain": [
       "3-element Array{Float64,1}:\n",
       " -0.0\n",
       "  0.02\n",
       "  0.99"
      ]
     },
     "execution_count": 13,
     "metadata": {},
     "output_type": "execute_result"
    }
   ],
   "source": [
    "round.(soln_q1, digits=2)"
   ]
  },
  {
   "cell_type": "markdown",
   "metadata": {},
   "source": [
    "Standard deviation of the parameters:"
   ]
  },
  {
   "cell_type": "code",
   "execution_count": 14,
   "metadata": {},
   "outputs": [
    {
     "data": {
      "text/plain": [
       "3-element Array{Float64,1}:\n",
       " 0.08\n",
       " 0.09\n",
       " 0.06"
      ]
     },
     "execution_count": 14,
     "metadata": {},
     "output_type": "execute_result"
    }
   ],
   "source": [
    "round.(covarmat_q1 |> diag .|> sqrt, digits=2)"
   ]
  },
  {
   "cell_type": "markdown",
   "metadata": {},
   "source": [
    "PI of parameters:"
   ]
  },
  {
   "cell_type": "code",
   "execution_count": 15,
   "metadata": {},
   "outputs": [
    {
     "data": {
      "text/html": [
       "<table class=\"data-frame\"><thead><tr><th></th><th>5%</th><th>94%</th></tr><tr><th></th><th>Float64</th><th>Float64</th></tr></thead><tbody><p>3 rows × 2 columns</p><tr><th>1</th><td>-0.14</td><td>0.13</td></tr><tr><th>2</th><td>-0.13</td><td>0.16</td></tr><tr><th>3</th><td>0.89</td><td>1.09</td></tr></tbody></table>"
      ],
      "text/latex": [
       "\\begin{tabular}{r|cc}\n",
       "\t& 5\\% & 94\\%\\\\\n",
       "\t\\hline\n",
       "\t& Float64 & Float64\\\\\n",
       "\t\\hline\n",
       "\t1 & -0.14 & 0.13 \\\\\n",
       "\t2 & -0.13 & 0.16 \\\\\n",
       "\t3 & 0.89 & 1.09 \\\\\n",
       "\\end{tabular}\n"
      ],
      "text/plain": [
       "3×2 DataFrame\n",
       "│ Row │ 5%      │ 94%     │\n",
       "│     │ \u001b[90mFloat64\u001b[39m │ \u001b[90mFloat64\u001b[39m │\n",
       "├─────┼─────────┼─────────┤\n",
       "│ 1   │ -0.14   │ 0.13    │\n",
       "│ 2   │ -0.13   │ 0.16    │\n",
       "│ 3   │ 0.89    │ 1.09    │"
      ]
     },
     "execution_count": 15,
     "metadata": {},
     "output_type": "execute_result"
    }
   ],
   "source": [
    "sample_params = rand(MultivariateNormal(soln_q1, covarmat_q1), 10_000)\n",
    "\n",
    "map(eachrow(sample_params)) do (row)\n",
    "    R\"\"\"\n",
    "        PI($row, prob=0.89) %>%\n",
    "            as.list %>%\n",
    "            as_tibble\n",
    "    \"\"\" |>\n",
    "    rcopy\n",
    "end |>\n",
    "    dfs -> vcat(dfs...) .|>\n",
    "    x -> round(x, digits=2)"
   ]
  },
  {
   "cell_type": "markdown",
   "metadata": {},
   "source": [
    "Territory size, $\\beta_\\text{area}$, seem to have no total causal influence on weight, at least not in this sample."
   ]
  },
  {
   "cell_type": "markdown",
   "metadata": {},
   "source": [
    "# Question 2"
   ]
  },
  {
   "cell_type": "markdown",
   "metadata": {},
   "source": [
    "**Question**\n",
    "\n",
    "<img src=\"https://i.ibb.co/sg7yZMN/question2.png\" alt=\"question2\" border=\"0\">"
   ]
  },
  {
   "cell_type": "markdown",
   "metadata": {},
   "source": [
    "**Solution**"
   ]
  },
  {
   "cell_type": "code",
   "execution_count": 16,
   "metadata": {},
   "outputs": [],
   "source": [
    "# variables for α, β_food, σ\n",
    "vars = (VariableSpecification(-100, 100, Normal(0, 0.2)),\n",
    "        VariableSpecification(-10, 10, Normal(0, 0.5)),\n",
    "        VariableSpecification(0, 100, Exponential(1)),\n",
    "    )\n",
    ";"
   ]
  },
  {
   "cell_type": "code",
   "execution_count": 17,
   "metadata": {},
   "outputs": [],
   "source": [
    "build_ll_data(data) = (α, β_food, σ) -> begin\n",
    "    logprobs = map(data) do (food, weight)\n",
    "        μ = α + β_food * food\n",
    "        d = Normal(μ, σ)\n",
    "        logpdf(d, weight)\n",
    "    end\n",
    "    \n",
    "    logprobs |> sum\n",
    "end;\n",
    "\n",
    "ll_data = build_ll_data(zip(foxes_std.avgfood,\n",
    "                            foxes_std.weight\n",
    "        ));"
   ]
  },
  {
   "cell_type": "code",
   "execution_count": 18,
   "metadata": {},
   "outputs": [],
   "source": [
    "build_l_joint_priors(priors::NTuple{3, Distribution}) = \n",
    "    (α, β_food, σ) -> logpdf.(priors, (α, β_food, σ)) |> sum\n",
    "\n",
    "l_joint_priors = build_l_joint_priors(map(v -> v.prior, vars));"
   ]
  },
  {
   "cell_type": "code",
   "execution_count": 19,
   "metadata": {},
   "outputs": [
    {
     "data": {
      "text/plain": [
       "f (generic function with 2 methods)"
      ]
     },
     "execution_count": 19,
     "metadata": {},
     "output_type": "execute_result"
    }
   ],
   "source": [
    "# the objective function\n",
    "f(α, β_food, σ) = ll_data(α, β_food, σ) + l_joint_priors(α, β_food, σ);\n",
    "f(xs::Vector) = f(xs...)"
   ]
  },
  {
   "cell_type": "code",
   "execution_count": 20,
   "metadata": {},
   "outputs": [
    {
     "name": "stdout",
     "output_type": "stream",
     "text": [
      "This is Ipopt version 3.12.10, running with linear solver mumps.\n",
      "NOTE: Other linear solvers might be more efficient (see Ipopt documentation).\n",
      "\n",
      "Number of nonzeros in equality constraint Jacobian...:        0\n",
      "Number of nonzeros in inequality constraint Jacobian.:        0\n",
      "Number of nonzeros in Lagrangian Hessian.............:        0\n",
      "\n",
      "Total number of variables............................:        3\n",
      "                     variables with only lower bounds:        0\n",
      "                variables with lower and upper bounds:        3\n",
      "                     variables with only upper bounds:        0\n",
      "Total number of equality constraints.................:        0\n",
      "Total number of inequality constraints...............:        0\n",
      "        inequality constraints with only lower bounds:        0\n",
      "   inequality constraints with lower and upper bounds:        0\n",
      "        inequality constraints with only upper bounds:        0\n",
      "\n",
      "iter    objective    inf_pr   inf_du lg(mu)  ||d||  lg(rg) alpha_du alpha_pr  ls\n",
      "   0  2.0316743e+02 0.00e+00 1.00e+02   0.0 0.00e+00    -  0.00e+00 0.00e+00   0\n",
      "   1  3.7691395e+02 0.00e+00 3.82e+01   2.0 9.70e+01    -  4.93e-01 4.55e-02f  4\n",
      "   2  3.2440767e+02 0.00e+00 1.78e+01   1.8 1.14e+00    -  1.00e+00 1.00e+00f  1\n",
      "   3  2.9684635e+02 0.00e+00 1.11e+01   1.1 1.03e+00    -  1.00e+00 1.00e+00f  1\n",
      "   4  2.6882759e+02 0.00e+00 1.64e+01   0.4 1.14e+00    -  1.00e+00 1.00e+00f  1\n",
      "   5  2.3269785e+02 0.00e+00 3.84e+01  -0.3 3.93e+01    -  5.54e-01 4.62e-02f  2\n",
      "   6  2.1569636e+02 0.00e+00 3.79e+01  -0.3 2.36e-01    -  1.00e+00 1.00e+00f  1\n",
      "   7  1.8250724e+02 0.00e+00 6.61e+01  -0.3 9.77e+00    -  1.00e+00 9.34e-02f  2\n",
      "   8  1.8130139e+02 0.00e+00 1.95e+01   1.1 1.70e+00    -  9.10e-01 2.50e-01f  3\n",
      "   9  1.6663468e+02 0.00e+00 1.09e+01   0.1 1.03e+00    -  9.93e-01 5.00e-01f  2\n",
      "iter    objective    inf_pr   inf_du lg(mu)  ||d||  lg(rg) alpha_du alpha_pr  ls\n",
      "  10  1.6513486e+02 0.00e+00 5.74e+00  -1.5 6.71e-02    -  1.00e+00 1.00e+00f  1\n",
      "  11  1.6492982e+02 0.00e+00 5.10e+00  -3.3 1.34e-01    -  1.00e+00 1.00e+00f  1\n",
      "  12  1.6460819e+02 0.00e+00 1.21e+00  -4.1 8.31e-02    -  1.00e+00 1.00e+00f  1\n",
      "  13  1.6459532e+02 0.00e+00 1.06e+00  -5.7 1.59e-02    -  1.00e+00 1.00e+00f  1\n",
      "  14  1.6458810e+02 0.00e+00 3.05e-02  -7.6 7.57e-03    -  1.00e+00 1.00e+00f  1\n",
      "  15  1.6458808e+02 0.00e+00 6.50e-03  -9.5 4.35e-04    -  1.00e+00 1.00e+00f  1\n",
      "  16  1.6458808e+02 0.00e+00 1.86e-04 -11.0 7.84e-05    -  1.00e+00 1.00e+00f  1\n",
      "  17  1.6458808e+02 0.00e+00 1.37e-05 -11.0 2.77e-06    -  1.00e+00 1.00e+00f  1\n",
      "  18  1.6458808e+02 0.00e+00 6.49e-08 -11.0 1.91e-07    -  1.00e+00 1.00e+00f  1\n",
      "  19  1.6458808e+02 0.00e+00 1.36e-09 -11.0 7.78e-10    -  1.00e+00 1.00e+00f  1\n",
      "\n",
      "Number of Iterations....: 19\n",
      "\n",
      "                                   (scaled)                 (unscaled)\n",
      "Objective...............:   9.7887506745336879e+01    1.6458808030281531e+02\n",
      "Dual infeasibility......:   1.3558288428235170e-09    2.2796909828346469e-09\n",
      "Constraint violation....:   0.0000000000000000e+00    0.0000000000000000e+00\n",
      "Complementarity.........:   1.0000000000000001e-11    1.6814002703226058e-11\n",
      "Overall NLP error.......:   1.3558288428235170e-09    2.2796909828346469e-09\n",
      "\n",
      "\n",
      "Number of objective function evaluations             = 48\n",
      "Number of objective gradient evaluations             = 20\n",
      "Number of equality constraint evaluations            = 0\n",
      "Number of inequality constraint evaluations          = 0\n",
      "Number of equality constraint Jacobian evaluations   = 0\n",
      "Number of inequality constraint Jacobian evaluations = 0\n",
      "Number of Lagrangian Hessian evaluations             = 0\n",
      "Total CPU secs in IPOPT (w/o function evaluations)   =      0.321\n",
      "Total CPU secs in NLP function evaluations           =      0.001\n",
      "\n",
      "EXIT: Optimal Solution Found.\n"
     ]
    }
   ],
   "source": [
    "soln_q2, covarmat_q2 = quap(f, vars);"
   ]
  },
  {
   "cell_type": "code",
   "execution_count": 21,
   "metadata": {},
   "outputs": [
    {
     "data": {
      "text/plain": [
       "3-element Array{Float64,1}:\n",
       " -0.0\n",
       " -0.02\n",
       "  0.99"
      ]
     },
     "execution_count": 21,
     "metadata": {},
     "output_type": "execute_result"
    }
   ],
   "source": [
    "round.(soln_q2, digits=2)"
   ]
  },
  {
   "cell_type": "code",
   "execution_count": 22,
   "metadata": {},
   "outputs": [
    {
     "data": {
      "text/plain": [
       "3-element Array{Float64,1}:\n",
       " 0.08\n",
       " 0.09\n",
       " 0.06"
      ]
     },
     "execution_count": 22,
     "metadata": {},
     "output_type": "execute_result"
    }
   ],
   "source": [
    "round.(covarmat_q2 |> diag .|> sqrt, digits=2)"
   ]
  },
  {
   "cell_type": "code",
   "execution_count": 23,
   "metadata": {},
   "outputs": [
    {
     "data": {
      "text/html": [
       "<table class=\"data-frame\"><thead><tr><th></th><th>5%</th><th>94%</th></tr><tr><th></th><th>Float64</th><th>Float64</th></tr></thead><tbody><p>3 rows × 2 columns</p><tr><th>1</th><td>-0.13</td><td>0.13</td></tr><tr><th>2</th><td>-0.17</td><td>0.12</td></tr><tr><th>3</th><td>0.89</td><td>1.09</td></tr></tbody></table>"
      ],
      "text/latex": [
       "\\begin{tabular}{r|cc}\n",
       "\t& 5\\% & 94\\%\\\\\n",
       "\t\\hline\n",
       "\t& Float64 & Float64\\\\\n",
       "\t\\hline\n",
       "\t1 & -0.13 & 0.13 \\\\\n",
       "\t2 & -0.17 & 0.12 \\\\\n",
       "\t3 & 0.89 & 1.09 \\\\\n",
       "\\end{tabular}\n"
      ],
      "text/plain": [
       "3×2 DataFrame\n",
       "│ Row │ 5%      │ 94%     │\n",
       "│     │ \u001b[90mFloat64\u001b[39m │ \u001b[90mFloat64\u001b[39m │\n",
       "├─────┼─────────┼─────────┤\n",
       "│ 1   │ -0.13   │ 0.13    │\n",
       "│ 2   │ -0.17   │ 0.12    │\n",
       "│ 3   │ 0.89    │ 1.09    │"
      ]
     },
     "execution_count": 23,
     "metadata": {},
     "output_type": "execute_result"
    }
   ],
   "source": [
    "sample_params = rand(MultivariateNormal(soln_q2, covarmat_q2), 10_000)\n",
    "\n",
    "map(eachrow(sample_params)) do (row)\n",
    "    R\"\"\"\n",
    "        PI($row, prob=0.89) %>%\n",
    "            as.list %>%\n",
    "            as_tibble\n",
    "    \"\"\" |>\n",
    "    rcopy\n",
    "end |>\n",
    "    dfs -> vcat(dfs...) .|>\n",
    "    x -> round(x, digits=2)"
   ]
  },
  {
   "cell_type": "markdown",
   "metadata": {},
   "source": [
    "Again nothing. Adding food does not change weight.\n",
    "\n",
    "This shouldn't surprise you, if the DAG is correct, because `area` is an upstream of `avgfood`."
   ]
  },
  {
   "cell_type": "markdown",
   "metadata": {},
   "source": [
    "# Question 3"
   ]
  },
  {
   "cell_type": "markdown",
   "metadata": {},
   "source": [
    "**Question**\n",
    "\n",
    "<img src=\"https://i.ibb.co/qmgZhnF/question3.png\" alt=\"question3\" border=\"0\">"
   ]
  },
  {
   "cell_type": "markdown",
   "metadata": {},
   "source": [
    "**Solution**"
   ]
  },
  {
   "cell_type": "code",
   "execution_count": 24,
   "metadata": {},
   "outputs": [
    {
     "data": {
      "text/html": [
       "<table class=\"data-frame\"><thead><tr><th></th><th>group</th><th>avgfood</th><th>groupsize</th><th>area</th><th>weight</th></tr><tr><th></th><th>Int64</th><th>Float64</th><th>Int64</th><th>Float64</th><th>Float64</th></tr></thead><tbody><p>5 rows × 5 columns</p><tr><th>1</th><td>1</td><td>0.37</td><td>2</td><td>1.09</td><td>5.02</td></tr><tr><th>2</th><td>1</td><td>0.37</td><td>2</td><td>1.09</td><td>2.84</td></tr><tr><th>3</th><td>2</td><td>0.53</td><td>2</td><td>2.05</td><td>5.33</td></tr><tr><th>4</th><td>2</td><td>0.53</td><td>2</td><td>2.05</td><td>6.07</td></tr><tr><th>5</th><td>3</td><td>0.49</td><td>2</td><td>2.12</td><td>5.85</td></tr></tbody></table>"
      ],
      "text/latex": [
       "\\begin{tabular}{r|ccccc}\n",
       "\t& group & avgfood & groupsize & area & weight\\\\\n",
       "\t\\hline\n",
       "\t& Int64 & Float64 & Int64 & Float64 & Float64\\\\\n",
       "\t\\hline\n",
       "\t1 & 1 & 0.37 & 2 & 1.09 & 5.02 \\\\\n",
       "\t2 & 1 & 0.37 & 2 & 1.09 & 2.84 \\\\\n",
       "\t3 & 2 & 0.53 & 2 & 2.05 & 5.33 \\\\\n",
       "\t4 & 2 & 0.53 & 2 & 2.05 & 6.07 \\\\\n",
       "\t5 & 3 & 0.49 & 2 & 2.12 & 5.85 \\\\\n",
       "\\end{tabular}\n"
      ],
      "text/plain": [
       "5×5 DataFrame\n",
       "│ Row │ group │ avgfood │ groupsize │ area    │ weight  │\n",
       "│     │ \u001b[90mInt64\u001b[39m │ \u001b[90mFloat64\u001b[39m │ \u001b[90mInt64\u001b[39m     │ \u001b[90mFloat64\u001b[39m │ \u001b[90mFloat64\u001b[39m │\n",
       "├─────┼───────┼─────────┼───────────┼─────────┼─────────┤\n",
       "│ 1   │ 1     │ 0.37    │ 2         │ 1.09    │ 5.02    │\n",
       "│ 2   │ 1     │ 0.37    │ 2         │ 1.09    │ 2.84    │\n",
       "│ 3   │ 2     │ 0.53    │ 2         │ 2.05    │ 5.33    │\n",
       "│ 4   │ 2     │ 0.53    │ 2         │ 2.05    │ 6.07    │\n",
       "│ 5   │ 3     │ 0.49    │ 2         │ 2.12    │ 5.85    │"
      ]
     },
     "execution_count": 24,
     "metadata": {},
     "output_type": "execute_result"
    }
   ],
   "source": [
    "first(foxes, 5)"
   ]
  },
  {
   "cell_type": "markdown",
   "metadata": {},
   "source": [
    "Paths from `groupsize` to `weight`:\n",
    "\n",
    "1. `groupsize` -> `weight` : direct\n",
    "2. `groupsize` <- `avgfood` -> `weight` : backdoor (fork)\n",
    "\n",
    "By the [backdoor path criterion](https://medium.com/towards-artificial-intelligence/3-ways-linear-models-can-lead-to-erroneous-conclusions-842637fe122b), we need to include `avgfood` to shut this path."
   ]
  },
  {
   "cell_type": "code",
   "execution_count": 25,
   "metadata": {},
   "outputs": [],
   "source": [
    "# variables for α, β_food, β_size, σ\n",
    "vars = (VariableSpecification(-100, 100, Normal(0, 0.2)),\n",
    "        VariableSpecification(-10, 10, Normal(0, 0.5)),\n",
    "        VariableSpecification(-10, 10, Normal(0, 0.5)),\n",
    "        VariableSpecification(0, 100, Exponential(1)),\n",
    "    )\n",
    ";"
   ]
  },
  {
   "cell_type": "code",
   "execution_count": 26,
   "metadata": {},
   "outputs": [],
   "source": [
    "build_ll_data(data) = (α, β_food, β_size, σ) -> begin\n",
    "    logprobs = map(data) do (food, size, weight)\n",
    "        μ = α + β_food * food + β_size * size\n",
    "        d = Normal(μ, σ)\n",
    "        logpdf(d, weight)\n",
    "    end\n",
    "    \n",
    "    logprobs |> sum\n",
    "end;\n",
    "\n",
    "ll_data = build_ll_data(zip(foxes_std.avgfood,\n",
    "                            foxes_std.groupsize,\n",
    "                            foxes_std.weight\n",
    "        ));"
   ]
  },
  {
   "cell_type": "code",
   "execution_count": 27,
   "metadata": {},
   "outputs": [],
   "source": [
    "build_l_joint_priors(priors::NTuple{4, Distribution}) = \n",
    "    (α, β_food, β_size, σ) -> logpdf.(priors, (α, β_food, β_size, σ)) |> sum\n",
    "\n",
    "l_joint_priors = build_l_joint_priors(map(v -> v.prior, vars));"
   ]
  },
  {
   "cell_type": "code",
   "execution_count": 28,
   "metadata": {},
   "outputs": [
    {
     "data": {
      "text/plain": [
       "f (generic function with 3 methods)"
      ]
     },
     "execution_count": 28,
     "metadata": {},
     "output_type": "execute_result"
    }
   ],
   "source": [
    "f(α, β_food, β_size, σ) = ll_data(α, β_food, β_size, σ) + l_joint_priors(α, β_food, β_size, σ);\n",
    "f(xs::Vector) = f(xs...)"
   ]
  },
  {
   "cell_type": "code",
   "execution_count": 29,
   "metadata": {},
   "outputs": [
    {
     "name": "stdout",
     "output_type": "stream",
     "text": [
      "This is Ipopt version 3.12.10, running with linear solver mumps.\n",
      "NOTE: Other linear solvers might be more efficient (see Ipopt documentation).\n",
      "\n",
      "Number of nonzeros in equality constraint Jacobian...:        0\n",
      "Number of nonzeros in inequality constraint Jacobian.:        0\n",
      "Number of nonzeros in Lagrangian Hessian.............:        0\n",
      "\n",
      "Total number of variables............................:        4\n",
      "                     variables with only lower bounds:        0\n",
      "                variables with lower and upper bounds:        4\n",
      "                     variables with only upper bounds:        0\n",
      "Total number of equality constraints.................:        0\n",
      "Total number of inequality constraints...............:        0\n",
      "        inequality constraints with only lower bounds:        0\n",
      "   inequality constraints with lower and upper bounds:        0\n",
      "        inequality constraints with only upper bounds:        0\n",
      "\n",
      "iter    objective    inf_pr   inf_du lg(mu)  ||d||  lg(rg) alpha_du alpha_pr  ls\n",
      "   0  2.5644186e+03 0.00e+00 1.00e+02   0.0 0.00e+00    -  0.00e+00 0.00e+00   0\n",
      "   1  6.5254549e+02 0.00e+00 1.04e+00   1.9 8.08e+01    -  5.32e-02 4.85e-01f  2\n",
      "   2  6.5093821e+02 0.00e+00 1.08e-01  -0.5 4.31e-02    -  9.93e-01 1.00e+00f  1\n",
      "   3  5.9003105e+02 0.00e+00 1.45e-01  -0.7 4.42e+00    -  8.70e-01 1.00e+00f  1\n",
      "   4  5.6945224e+02 0.00e+00 1.80e-02  -2.3 2.51e+00    -  9.79e-01 5.00e-01f  2\n",
      "   5  5.6906758e+02 0.00e+00 1.81e-02  -7.9 2.63e-01    -  9.64e-01 1.00e+00f  1\n",
      "   6  5.6875092e+02 0.00e+00 1.82e-02  -5.2 7.66e-02    -  1.00e+00 1.00e+00f  1\n",
      "   7  5.6146232e+02 0.00e+00 1.90e-02  -6.4 2.31e+00    -  1.00e+00 1.00e+00f  1\n",
      "   8  5.1128474e+02 0.00e+00 5.26e-02  -7.3 1.32e+01    -  1.00e+00 1.00e+00f  1\n",
      "   9  4.1535635e+02 0.00e+00 7.65e-02  -8.1 1.40e+01    -  1.00e+00 1.00e+00f  1\n",
      "iter    objective    inf_pr   inf_du lg(mu)  ||d||  lg(rg) alpha_du alpha_pr  ls\n",
      "  10  3.7585101e+02 0.00e+00 1.73e-01  -7.9 2.40e+01    -  1.00e+00 1.89e-01f  2\n",
      "  11  3.6547762e+02 0.00e+00 1.63e-01  -9.1 1.73e-01    -  1.00e+00 1.00e+00f  1\n",
      "  12  2.4547721e+02 0.00e+00 1.57e-01  -9.4 5.29e+00    -  1.00e+00 5.00e-01f  2\n",
      "  13  2.2816187e+02 0.00e+00 1.44e-01 -10.6 5.40e+00    -  1.00e+00 1.37e-01f  3\n",
      "  14  2.1854440e+02 0.00e+00 5.06e-01 -11.0 1.29e+00    -  1.00e+00 1.00e+00f  1\n",
      "  15  1.7142726e+02 0.00e+00 2.29e-01 -11.0 1.06e+00    -  1.00e+00 5.00e-01f  2\n",
      "  16  1.6740647e+02 0.00e+00 9.66e-02 -10.7 6.87e-01    -  1.00e+00 2.50e-01f  3\n",
      "  17  1.6276168e+02 0.00e+00 3.72e-02 -11.0 4.10e-01    -  1.00e+00 5.00e-01f  2\n",
      "  18  1.6184958e+02 0.00e+00 3.56e-02 -11.0 7.54e-02    -  1.00e+00 1.00e+00f  1\n",
      "  19  1.6003333e+02 0.00e+00 1.91e-02 -11.0 3.64e-01    -  1.00e+00 1.00e+00f  1\n",
      "iter    objective    inf_pr   inf_du lg(mu)  ||d||  lg(rg) alpha_du alpha_pr  ls\n",
      "  20  1.5995954e+02 0.00e+00 1.96e-03 -11.0 2.28e-02    -  1.00e+00 1.00e+00f  1\n",
      "  21  1.5995874e+02 0.00e+00 2.23e-04 -11.0 5.01e-03    -  1.00e+00 1.00e+00f  1\n",
      "  22  1.5995873e+02 0.00e+00 1.75e-04 -11.0 1.16e-03    -  1.00e+00 5.00e-01f  2\n",
      "  23  1.5995873e+02 0.00e+00 1.06e-04 -11.0 3.97e-04    -  1.00e+00 1.00e+00f  1\n",
      "  24  1.5995872e+02 0.00e+00 8.15e-07 -11.0 1.50e-04    -  1.00e+00 1.00e+00f  1\n",
      "  25  1.5995872e+02 0.00e+00 4.48e-08 -11.0 1.02e-06    -  1.00e+00 1.00e+00f  1\n",
      "  26  1.5995872e+02 0.00e+00 2.01e-08 -11.0 8.97e-08    -  1.00e+00 1.00e+00f  1\n",
      "  27  1.5995872e+02 0.00e+00 1.21e-08 -11.0 8.09e-08    -  1.00e+00 1.00e+00f  1\n",
      "  28  1.5995872e+02 0.00e+00 8.93e-10 -11.0 3.11e-08    -  1.00e+00 1.00e+00f  1\n",
      "\n",
      "Number of Iterations....: 28\n",
      "\n",
      "                                   (scaled)                 (unscaled)\n",
      "Objective...............:   7.2584736851815901e-01    1.5995872367127146e+02\n",
      "Dual infeasibility......:   8.9302070495082569e-10    1.9679957298402671e-07\n",
      "Constraint violation....:   0.0000000000000000e+00    0.0000000000000000e+00\n",
      "Complementarity.........:   1.0000000000000001e-11    2.2037515131842718e-09\n",
      "Overall NLP error.......:   8.9302070495082569e-10    1.9679957298402671e-07\n",
      "\n",
      "\n",
      "Number of objective function evaluations             = 76\n",
      "Number of objective gradient evaluations             = 29\n",
      "Number of equality constraint evaluations            = 0\n",
      "Number of inequality constraint evaluations          = 0\n",
      "Number of equality constraint Jacobian evaluations   = 0\n",
      "Number of inequality constraint Jacobian evaluations = 0\n",
      "Number of Lagrangian Hessian evaluations             = 0\n",
      "Total CPU secs in IPOPT (w/o function evaluations)   =      5.057\n",
      "Total CPU secs in NLP function evaluations           =      0.007\n",
      "\n",
      "EXIT: Optimal Solution Found.\n"
     ]
    }
   ],
   "source": [
    "soln_q3, covarmat_q3 = quap(f, vars);"
   ]
  },
  {
   "cell_type": "code",
   "execution_count": 30,
   "metadata": {},
   "outputs": [
    {
     "data": {
      "text/plain": [
       "4-element Array{Float64,1}:\n",
       " -0.0\n",
       "  0.48\n",
       " -0.57\n",
       "  0.94"
      ]
     },
     "execution_count": 30,
     "metadata": {},
     "output_type": "execute_result"
    }
   ],
   "source": [
    "round.(soln_q3, digits=2)"
   ]
  },
  {
   "cell_type": "code",
   "execution_count": 31,
   "metadata": {},
   "outputs": [
    {
     "data": {
      "text/plain": [
       "4-element Array{Float64,1}:\n",
       " 0.08\n",
       " 0.18\n",
       " 0.18\n",
       " 0.06"
      ]
     },
     "execution_count": 31,
     "metadata": {},
     "output_type": "execute_result"
    }
   ],
   "source": [
    "round.(covarmat_q3 |> diag .|> sqrt, digits=2)"
   ]
  },
  {
   "cell_type": "code",
   "execution_count": 32,
   "metadata": {},
   "outputs": [
    {
     "data": {
      "text/html": [
       "<table class=\"data-frame\"><thead><tr><th></th><th>5%</th><th>94%</th></tr><tr><th></th><th>Float64</th><th>Float64</th></tr></thead><tbody><p>4 rows × 2 columns</p><tr><th>1</th><td>-0.13</td><td>0.13</td></tr><tr><th>2</th><td>0.18</td><td>0.76</td></tr><tr><th>3</th><td>-0.86</td><td>-0.28</td></tr><tr><th>4</th><td>0.85</td><td>1.04</td></tr></tbody></table>"
      ],
      "text/latex": [
       "\\begin{tabular}{r|cc}\n",
       "\t& 5\\% & 94\\%\\\\\n",
       "\t\\hline\n",
       "\t& Float64 & Float64\\\\\n",
       "\t\\hline\n",
       "\t1 & -0.13 & 0.13 \\\\\n",
       "\t2 & 0.18 & 0.76 \\\\\n",
       "\t3 & -0.86 & -0.28 \\\\\n",
       "\t4 & 0.85 & 1.04 \\\\\n",
       "\\end{tabular}\n"
      ],
      "text/plain": [
       "4×2 DataFrame\n",
       "│ Row │ 5%      │ 94%     │\n",
       "│     │ \u001b[90mFloat64\u001b[39m │ \u001b[90mFloat64\u001b[39m │\n",
       "├─────┼─────────┼─────────┤\n",
       "│ 1   │ -0.13   │ 0.13    │\n",
       "│ 2   │ 0.18    │ 0.76    │\n",
       "│ 3   │ -0.86   │ -0.28   │\n",
       "│ 4   │ 0.85    │ 1.04    │"
      ]
     },
     "execution_count": 32,
     "metadata": {},
     "output_type": "execute_result"
    }
   ],
   "source": [
    "sample_params = rand(MultivariateNormal(soln_q3, covarmat_q3), 10_000)\n",
    "\n",
    "map(eachrow(sample_params)) do (row)\n",
    "    R\"\"\"\n",
    "        PI($row, prob=0.89) %>%\n",
    "            as.list %>%\n",
    "            as_tibble\n",
    "    \"\"\" |>\n",
    "    rcopy\n",
    "end |>\n",
    "    dfs -> vcat(dfs...) .|>\n",
    "    x -> round(x, digits=2)"
   ]
  },
  {
   "cell_type": "code",
   "execution_count": 33,
   "metadata": {},
   "outputs": [
    {
     "data": {
      "text/html": [
       "<table class=\"data-frame\"><thead><tr><th></th><th>group</th><th>avgfood</th><th>groupsize</th><th>area</th><th>weight</th></tr><tr><th></th><th>Int64</th><th>Float64</th><th>Int64</th><th>Float64</th><th>Float64</th></tr></thead><tbody><p>5 rows × 5 columns</p><tr><th>1</th><td>1</td><td>0.37</td><td>2</td><td>1.09</td><td>5.02</td></tr><tr><th>2</th><td>1</td><td>0.37</td><td>2</td><td>1.09</td><td>2.84</td></tr><tr><th>3</th><td>2</td><td>0.53</td><td>2</td><td>2.05</td><td>5.33</td></tr><tr><th>4</th><td>2</td><td>0.53</td><td>2</td><td>2.05</td><td>6.07</td></tr><tr><th>5</th><td>3</td><td>0.49</td><td>2</td><td>2.12</td><td>5.85</td></tr></tbody></table>"
      ],
      "text/latex": [
       "\\begin{tabular}{r|ccccc}\n",
       "\t& group & avgfood & groupsize & area & weight\\\\\n",
       "\t\\hline\n",
       "\t& Int64 & Float64 & Int64 & Float64 & Float64\\\\\n",
       "\t\\hline\n",
       "\t1 & 1 & 0.37 & 2 & 1.09 & 5.02 \\\\\n",
       "\t2 & 1 & 0.37 & 2 & 1.09 & 2.84 \\\\\n",
       "\t3 & 2 & 0.53 & 2 & 2.05 & 5.33 \\\\\n",
       "\t4 & 2 & 0.53 & 2 & 2.05 & 6.07 \\\\\n",
       "\t5 & 3 & 0.49 & 2 & 2.12 & 5.85 \\\\\n",
       "\\end{tabular}\n"
      ],
      "text/plain": [
       "5×5 DataFrame\n",
       "│ Row │ group │ avgfood │ groupsize │ area    │ weight  │\n",
       "│     │ \u001b[90mInt64\u001b[39m │ \u001b[90mFloat64\u001b[39m │ \u001b[90mInt64\u001b[39m     │ \u001b[90mFloat64\u001b[39m │ \u001b[90mFloat64\u001b[39m │\n",
       "├─────┼───────┼─────────┼───────────┼─────────┼─────────┤\n",
       "│ 1   │ 1     │ 0.37    │ 2         │ 1.09    │ 5.02    │\n",
       "│ 2   │ 1     │ 0.37    │ 2         │ 1.09    │ 2.84    │\n",
       "│ 3   │ 2     │ 0.53    │ 2         │ 2.05    │ 5.33    │\n",
       "│ 4   │ 2     │ 0.53    │ 2         │ 2.05    │ 6.07    │\n",
       "│ 5   │ 3     │ 0.49    │ 2         │ 2.12    │ 5.85    │"
      ]
     },
     "execution_count": 33,
     "metadata": {},
     "output_type": "execute_result"
    }
   ],
   "source": [
    "first(foxes, 5)"
   ]
  },
  {
   "cell_type": "markdown",
   "metadata": {},
   "source": [
    "It looks like `groupsize` is negatively associated with `weight`, controlling for food. Similarly, `avgfood` is positively associated with `weight`, controlling for `groupsize`.\n",
    "\n",
    "So the causal influence of `groupsize` is to reduce `weight` - less food for each fox. And the *direct causal influence* of `avgfood` is positive, of course. But the *total causal* influence of `avgfood` is still nothing, since it causes larger groups.\n",
    "\n",
    "This is a masking effect, like in the milk energy example. But the causal explanation here is that more foxes move into a territory until the food available to each is no better than teh food in a neighboring territory. Every territory ends up equally good/bad on average. This is known in behavioral ecology as an \"ideal free distribution\"."
   ]
  }
 ],
 "metadata": {
  "kernelspec": {
   "display_name": "Julia 1.4.0",
   "language": "julia",
   "name": "julia-1.4"
  },
  "language_info": {
   "file_extension": ".jl",
   "mimetype": "application/julia",
   "name": "julia",
   "version": "1.4.0"
  }
 },
 "nbformat": 4,
 "nbformat_minor": 4
}
