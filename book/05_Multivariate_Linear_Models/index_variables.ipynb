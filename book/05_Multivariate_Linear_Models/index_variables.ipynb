{
 "cells": [
  {
   "cell_type": "markdown",
   "metadata": {},
   "source": [
    "# Setup"
   ]
  },
  {
   "cell_type": "code",
   "execution_count": 1,
   "metadata": {},
   "outputs": [],
   "source": [
    "cd(\"../..\")"
   ]
  },
  {
   "cell_type": "markdown",
   "metadata": {},
   "source": [
    "# Packages"
   ]
  },
  {
   "cell_type": "code",
   "execution_count": 2,
   "metadata": {},
   "outputs": [],
   "source": [
    "include(\"src/Utils.jl\")\n",
    "using .Utils"
   ]
  },
  {
   "cell_type": "code",
   "execution_count": 3,
   "metadata": {},
   "outputs": [],
   "source": [
    "using Distributions, LinearAlgebra"
   ]
  },
  {
   "cell_type": "code",
   "execution_count": 4,
   "metadata": {},
   "outputs": [],
   "source": [
    "using StatsBase, DataFrames"
   ]
  },
  {
   "cell_type": "code",
   "execution_count": 5,
   "metadata": {},
   "outputs": [
    {
     "name": "stderr",
     "output_type": "stream",
     "text": [
      "┌ Warning: RCall.jl: Loading required package: rstan\n",
      "│ Loading required package: StanHeaders\n",
      "│ Loading required package: ggplot2\n",
      "│ rstan (Version 2.19.3, GitRev: 2e1f913d3ca3)\n",
      "│ For execution on a local, multicore CPU with excess RAM we recommend calling\n",
      "│ options(mc.cores = parallel::detectCores()).\n",
      "│ To avoid recompilation of unchanged Stan programs, we recommend calling\n",
      "│ rstan_options(auto_write = TRUE)\n",
      "│ Loading required package: parallel\n",
      "│ Loading required package: dagitty\n",
      "│ rethinking (Version 2.00)\n",
      "│ \n",
      "│ Attaching package: ‘rethinking’\n",
      "│ \n",
      "│ The following object is masked from ‘package:stats’:\n",
      "│ \n",
      "│     rstudent\n",
      "│ \n",
      "└ @ RCall /home/user/.julia/packages/RCall/paaBQ/src/io.jl:113\n"
     ]
    }
   ],
   "source": [
    "using RCall\n",
    "R\"\"\"\n",
    "library(rethinking)\n",
    "\"\"\";"
   ]
  },
  {
   "cell_type": "markdown",
   "metadata": {},
   "source": [
    "# Data"
   ]
  },
  {
   "cell_type": "code",
   "execution_count": 6,
   "metadata": {},
   "outputs": [
    {
     "data": {
      "text/html": [
       "<table class=\"data-frame\"><thead><tr><th></th><th>clade</th><th>kcal.per.g</th></tr><tr><th></th><th>String</th><th>Float64</th></tr></thead><tbody><p>6 rows × 2 columns</p><tr><th>1</th><td>Strepsirrhine</td><td>0.49</td></tr><tr><th>2</th><td>Strepsirrhine</td><td>0.51</td></tr><tr><th>3</th><td>Strepsirrhine</td><td>0.46</td></tr><tr><th>4</th><td>Strepsirrhine</td><td>0.48</td></tr><tr><th>5</th><td>Strepsirrhine</td><td>0.6</td></tr><tr><th>6</th><td>New World Monkey</td><td>0.47</td></tr></tbody></table>"
      ],
      "text/latex": [
       "\\begin{tabular}{r|cc}\n",
       "\t& clade & kcal.per.g\\\\\n",
       "\t\\hline\n",
       "\t& String & Float64\\\\\n",
       "\t\\hline\n",
       "\t1 & Strepsirrhine & 0.49 \\\\\n",
       "\t2 & Strepsirrhine & 0.51 \\\\\n",
       "\t3 & Strepsirrhine & 0.46 \\\\\n",
       "\t4 & Strepsirrhine & 0.48 \\\\\n",
       "\t5 & Strepsirrhine & 0.6 \\\\\n",
       "\t6 & New World Monkey & 0.47 \\\\\n",
       "\\end{tabular}\n"
      ],
      "text/plain": [
       "6×2 DataFrame\n",
       "│ Row │ clade            │ kcal.per.g │\n",
       "│     │ \u001b[90mString\u001b[39m           │ \u001b[90mFloat64\u001b[39m    │\n",
       "├─────┼──────────────────┼────────────┤\n",
       "│ 1   │ Strepsirrhine    │ 0.49       │\n",
       "│ 2   │ Strepsirrhine    │ 0.51       │\n",
       "│ 3   │ Strepsirrhine    │ 0.46       │\n",
       "│ 4   │ Strepsirrhine    │ 0.48       │\n",
       "│ 5   │ Strepsirrhine    │ 0.6        │\n",
       "│ 6   │ New World Monkey │ 0.47       │"
      ]
     },
     "execution_count": 6,
     "metadata": {},
     "output_type": "execute_result"
    }
   ],
   "source": [
    "df = get_data(\"milk\")\n",
    "first(df[!, [:clade, Symbol(\"kcal.per.g\")]], 6)"
   ]
  },
  {
   "cell_type": "markdown",
   "metadata": {},
   "source": [
    "How many unique clade are there:"
   ]
  },
  {
   "cell_type": "code",
   "execution_count": 7,
   "metadata": {},
   "outputs": [
    {
     "data": {
      "text/plain": [
       "4-element Array{String,1}:\n",
       " \"Ape\"\n",
       " \"New World Monkey\"\n",
       " \"Old World Monkey\"\n",
       " \"Strepsirrhine\""
      ]
     },
     "execution_count": 7,
     "metadata": {},
     "output_type": "execute_result"
    }
   ],
   "source": [
    "unique(df.clade) |> sort"
   ]
  },
  {
   "cell_type": "markdown",
   "metadata": {},
   "source": [
    "# Model"
   ]
  },
  {
   "cell_type": "markdown",
   "metadata": {},
   "source": [
    "Predict `kcal.per.g` as a function of `clade`."
   ]
  },
  {
   "cell_type": "markdown",
   "metadata": {},
   "source": [
    "## One Hot Encoded"
   ]
  },
  {
   "cell_type": "markdown",
   "metadata": {},
   "source": [
    "One hot encode the `clade` column. \n",
    "\n",
    "Let `Ape` be the default value ie. `isNWO` = `isOWM` = `isS` = 0."
   ]
  },
  {
   "cell_type": "code",
   "execution_count": 8,
   "metadata": {},
   "outputs": [
    {
     "data": {
      "text/html": [
       "<table class=\"data-frame\"><thead><tr><th></th><th>isNWO</th><th>isOWM</th><th>isS</th></tr><tr><th></th><th>Bool</th><th>Bool</th><th>Bool</th></tr></thead><tbody><p>6 rows × 3 columns</p><tr><th>1</th><td>0</td><td>0</td><td>1</td></tr><tr><th>2</th><td>0</td><td>0</td><td>1</td></tr><tr><th>3</th><td>0</td><td>0</td><td>1</td></tr><tr><th>4</th><td>0</td><td>0</td><td>1</td></tr><tr><th>5</th><td>0</td><td>0</td><td>1</td></tr><tr><th>6</th><td>1</td><td>0</td><td>0</td></tr></tbody></table>"
      ],
      "text/latex": [
       "\\begin{tabular}{r|ccc}\n",
       "\t& isNWO & isOWM & isS\\\\\n",
       "\t\\hline\n",
       "\t& Bool & Bool & Bool\\\\\n",
       "\t\\hline\n",
       "\t1 & 0 & 0 & 1 \\\\\n",
       "\t2 & 0 & 0 & 1 \\\\\n",
       "\t3 & 0 & 0 & 1 \\\\\n",
       "\t4 & 0 & 0 & 1 \\\\\n",
       "\t5 & 0 & 0 & 1 \\\\\n",
       "\t6 & 1 & 0 & 0 \\\\\n",
       "\\end{tabular}\n"
      ],
      "text/plain": [
       "6×3 DataFrame\n",
       "│ Row │ isNWO │ isOWM │ isS  │\n",
       "│     │ \u001b[90mBool\u001b[39m  │ \u001b[90mBool\u001b[39m  │ \u001b[90mBool\u001b[39m │\n",
       "├─────┼───────┼───────┼──────┤\n",
       "│ 1   │ 0     │ 0     │ 1    │\n",
       "│ 2   │ 0     │ 0     │ 1    │\n",
       "│ 3   │ 0     │ 0     │ 1    │\n",
       "│ 4   │ 0     │ 0     │ 1    │\n",
       "│ 5   │ 0     │ 0     │ 1    │\n",
       "│ 6   │ 1     │ 0     │ 0    │"
      ]
     },
     "execution_count": 8,
     "metadata": {},
     "output_type": "execute_result"
    }
   ],
   "source": [
    "ohe_clade = indicatormat(df.clade) |> \n",
    "    transpose |>\n",
    "    (m -> DataFrame(m, [:isApe, :isNWO, :isOWM, :isS])) |>\n",
    "    (df -> select(df, Not(:isApe)))\n",
    "\n",
    "first(ohe_clade, 6)"
   ]
  },
  {
   "cell_type": "code",
   "execution_count": 9,
   "metadata": {},
   "outputs": [],
   "source": [
    "vars = (VariableSpecification(0, 100, Normal(0.6, 10)),\n",
    "        VariableSpecification(-10, 10, Normal(0, 1)),\n",
    "        VariableSpecification(-10, 10, Normal(0, 1)),\n",
    "        VariableSpecification(-10, 10, Normal(0, 1)),\n",
    "        VariableSpecification(0, 10, Uniform(0, 10)))\n",
    ";"
   ]
  },
  {
   "cell_type": "code",
   "execution_count": 10,
   "metadata": {},
   "outputs": [],
   "source": [
    "build_ll_data(data) = (α, β_NWO, β_OWM, β_S, σ) -> begin\n",
    "    logprobs = map(data) do (isNWO, isOWM, isS, kcal)\n",
    "        μ = α + β_NWO * isNWO + β_OWM * isOWM + β_S * isS\n",
    "        d = Normal(μ, σ)\n",
    "        logpdf(d, kcal)\n",
    "    end\n",
    "    \n",
    "    logprobs |> sum\n",
    "end;\n",
    "\n",
    "ll_data = build_ll_data(zip(ohe_clade.isNWO,\n",
    "                            ohe_clade.isOWM,\n",
    "                            ohe_clade.isS,\n",
    "                            df[!, Symbol(\"kcal.per.g\")]));"
   ]
  },
  {
   "cell_type": "code",
   "execution_count": 11,
   "metadata": {},
   "outputs": [],
   "source": [
    "build_l_joint_priors(priors::NTuple{5, Distribution}) = \n",
    "    (α, β_NWO, β_OWM, β_S, σ) -> logpdf.(priors, (α, β_NWO, β_OWM, β_S, σ)) |> sum\n",
    "\n",
    "l_joint_priors = build_l_joint_priors(map(v -> v.prior, vars));"
   ]
  },
  {
   "cell_type": "code",
   "execution_count": 12,
   "metadata": {},
   "outputs": [
    {
     "data": {
      "text/plain": [
       "f (generic function with 2 methods)"
      ]
     },
     "execution_count": 12,
     "metadata": {},
     "output_type": "execute_result"
    }
   ],
   "source": [
    "# the objective function\n",
    "f(α, β_NWO, β_OWM, β_S, σ) = ll_data(α, β_NWO, β_OWM, β_S, σ) + l_joint_priors(α, β_NWO, β_OWM, β_S, σ);\n",
    "f(xs::Vector) = f(xs...)"
   ]
  },
  {
   "cell_type": "code",
   "execution_count": 13,
   "metadata": {},
   "outputs": [
    {
     "name": "stdout",
     "output_type": "stream",
     "text": [
      "\n",
      "******************************************************************************\n",
      "This program contains Ipopt, a library for large-scale nonlinear optimization.\n",
      " Ipopt is released as open source code under the Eclipse Public License (EPL).\n",
      "         For more information visit http://projects.coin-or.org/Ipopt\n",
      "******************************************************************************\n",
      "\n",
      "This is Ipopt version 3.12.10, running with linear solver mumps.\n",
      "NOTE: Other linear solvers might be more efficient (see Ipopt documentation).\n",
      "\n",
      "Number of nonzeros in equality constraint Jacobian...:        0\n",
      "Number of nonzeros in inequality constraint Jacobian.:        0\n",
      "Number of nonzeros in Lagrangian Hessian.............:        0\n",
      "\n",
      "Total number of variables............................:        5\n",
      "                     variables with only lower bounds:        0\n",
      "                variables with lower and upper bounds:        5\n",
      "                     variables with only upper bounds:        0\n",
      "Total number of equality constraints.................:        0\n",
      "Total number of inequality constraints...............:        0\n",
      "        inequality constraints with only lower bounds:        0\n",
      "   inequality constraints with lower and upper bounds:        0\n",
      "        inequality constraints with only upper bounds:        0\n",
      "\n",
      "iter    objective    inf_pr   inf_du lg(mu)  ||d||  lg(rg) alpha_du alpha_pr  ls\n",
      "   0  6.5316025e+01 0.00e+00 9.77e+00   0.0 0.00e+00    -  0.00e+00 0.00e+00   0\n",
      "   1  4.9465462e+01 0.00e+00 9.25e+00   0.8 5.68e+00    -  1.00e+00 2.39e-01f  2\n",
      "   2  4.4030331e+01 0.00e+00 4.73e+01  -0.5 2.15e+00    -  9.96e-01 3.15e-01f  2\n",
      "   3  2.5439210e+01 0.00e+00 9.02e+01  -1.3 1.44e+00    -  1.00e+00 2.41e-01f  2\n",
      "   4 -1.9818020e-01 0.00e+00 5.50e+01  -2.4 1.52e+00    -  1.00e+00 2.60e-01f  2\n",
      "   5  3.9074693e-01 0.00e+00 6.49e+01   0.6 2.62e-01    -  5.91e-01 2.50e-01f  3\n",
      "   6 -3.5704497e+00 0.00e+00 4.38e+01   0.2 1.12e+00    -  6.23e-01 5.34e-02f  3\n",
      "   7 -6.8662048e+00 0.00e+00 9.00e+01  -1.3 1.57e-01    -  1.00e+00 5.00e-01f  2\n",
      "   8 -9.5629620e+00 0.00e+00 6.17e+01  -3.2 1.33e-01    -  1.00e+00 5.00e-01f  2\n",
      "   9 -1.0607360e+01 0.00e+00 5.95e+01  -1.9 6.34e-02    -  1.00e+00 1.00e+00f  1\n",
      "iter    objective    inf_pr   inf_du lg(mu)  ||d||  lg(rg) alpha_du alpha_pr  ls\n",
      "  10 -1.1911205e+01 0.00e+00 4.43e+01  -3.6 3.53e-02    -  1.00e+00 1.00e+00f  1\n",
      "  11 -1.3195614e+01 0.00e+00 2.89e+01  -5.2 1.46e-01    -  1.00e+00 5.00e-01f  2\n",
      "  12 -1.3251321e+01 0.00e+00 7.83e+00  -4.9 3.94e-02    -  1.00e+00 5.00e-01f  2\n",
      "  13 -1.3365062e+01 0.00e+00 6.72e+00  -6.7 1.53e-02    -  1.00e+00 1.00e+00f  1\n",
      "  14 -1.3372737e+01 0.00e+00 1.17e+00  -8.6 4.92e-03    -  1.00e+00 1.00e+00f  1\n",
      "  15 -1.3373266e+01 0.00e+00 5.38e-01 -10.1 1.99e-03    -  1.00e+00 1.00e+00f  1\n",
      "  16 -1.3373375e+01 0.00e+00 1.34e-01 -11.0 1.79e-03    -  1.00e+00 5.00e-01f  2\n",
      "  17 -1.3373403e+01 0.00e+00 1.60e-01 -11.0 9.65e-04    -  1.00e+00 1.00e+00f  1\n",
      "  18 -1.3373416e+01 0.00e+00 1.11e-01 -11.0 3.50e-04    -  1.00e+00 1.00e+00f  1\n",
      "  19 -1.3373423e+01 0.00e+00 4.09e-02 -11.0 2.00e-04    -  1.00e+00 5.00e-01f  2\n",
      "iter    objective    inf_pr   inf_du lg(mu)  ||d||  lg(rg) alpha_du alpha_pr  ls\n",
      "  20 -1.3373425e+01 0.00e+00 1.90e-02 -11.0 1.22e-04    -  1.00e+00 1.00e+00f  1\n",
      "  21 -1.3373426e+01 0.00e+00 3.40e-02 -11.0 4.83e-05    -  1.00e+00 1.00e+00f  1\n",
      "  22 -1.3373426e+01 0.00e+00 3.84e-03 -11.0 8.28e-05    -  1.00e+00 2.50e-01f  3\n",
      "  23 -1.3373426e+01 0.00e+00 2.65e-03 -11.0 2.03e-05    -  1.00e+00 1.00e+00f  1\n",
      "  24 -1.3373426e+01 0.00e+00 1.22e-03 -11.0 6.62e-06    -  1.00e+00 5.00e-01f  2\n",
      "  25 -1.3373426e+01 0.00e+00 3.83e-04 -11.0 3.98e-06    -  1.00e+00 1.00e+00f  1\n",
      "  26 -1.3373426e+01 0.00e+00 5.24e-04 -11.0 2.85e-06    -  1.00e+00 5.00e-01f  2\n",
      "  27 -1.3373426e+01 0.00e+00 3.19e-04 -11.0 1.69e-06    -  1.00e+00 1.00e+00f  1\n",
      "  28 -1.3373426e+01 0.00e+00 1.47e-04 -11.0 8.84e-07    -  1.00e+00 1.00e+00f  1\n",
      "  29 -1.3373426e+01 0.00e+00 3.63e-05 -11.0 4.14e-07    -  1.00e+00 1.25e-01f  4\n",
      "iter    objective    inf_pr   inf_du lg(mu)  ||d||  lg(rg) alpha_du alpha_pr  ls\n",
      "  30 -1.3373426e+01 0.00e+00 5.25e-06 -11.0 7.60e-08    -  1.00e+00 1.00e+00f  1\n",
      "  31 -1.3373426e+01 0.00e+00 9.51e-06 -11.0 2.58e-08    -  1.00e+00 1.00e+00f  1\n",
      "  32 -1.3373426e+01 0.00e+00 5.27e-06 -11.0 2.37e-08    -  1.00e+00 5.00e-01f  2\n",
      "  33 -1.3373426e+01 0.00e+00 5.71e-06 -11.0 1.87e-08    -  1.00e+00 1.00e+00f  1\n",
      "  34 -1.3373426e+01 0.00e+00 1.15e-05 -11.0 1.20e-08    -  1.00e+00 1.00e+00f  1\n",
      "  35 -1.3373426e+01 0.00e+00 2.45e-07 -11.0 6.84e-09    -  1.00e+00 1.00e+00f  1\n",
      "  36 -1.3373426e+01 0.00e+00 4.53e-07 -11.0 1.04e-09    -  1.00e+00 1.00e+00f  1\n",
      "  37 -1.3373426e+01 0.00e+00 9.35e-07 -11.0 1.23e-09    -  1.00e+00 1.00e+00f  1\n",
      "  38 -1.3373426e+01 0.00e+00 7.51e-08 -11.0 1.09e-09    -  1.00e+00 1.00e+00f  1\n",
      "  39 -1.3373426e+01 0.00e+00 5.10e-07 -11.0 5.87e-10    -  1.00e+00 1.00e+00f  1\n",
      "iter    objective    inf_pr   inf_du lg(mu)  ||d||  lg(rg) alpha_du alpha_pr  ls\n",
      "  40 -1.3373426e+01 0.00e+00 1.58e-08 -11.0 5.12e-10    -  1.00e+00 1.00e+00f  1\n",
      "  41 -1.3373426e+01 0.00e+00 1.55e-08 -11.0 3.92e-11    -  1.00e+00 1.00e+00f  1\n",
      "  42 -1.3373426e+01 0.00e+00 3.31e-09 -11.0 2.78e-11    -  1.00e+00 1.00e+00f  1\n",
      "\n",
      "Number of Iterations....: 42\n",
      "\n",
      "                                   (scaled)                 (unscaled)\n",
      "Objective...............:  -1.3373425926394248e+01   -1.3373425926394248e+01\n",
      "Dual infeasibility......:   3.3123078293262938e-09    3.3123078293262938e-09\n",
      "Constraint violation....:   0.0000000000000000e+00    0.0000000000000000e+00\n",
      "Complementarity.........:   1.0000000000000001e-11    1.0000000000000001e-11\n",
      "Overall NLP error.......:   3.3123078293262938e-09    3.3123078293262938e-09\n",
      "\n",
      "\n",
      "Number of objective function evaluations             = 133\n",
      "Number of objective gradient evaluations             = 43\n",
      "Number of equality constraint evaluations            = 0\n",
      "Number of inequality constraint evaluations          = 0\n",
      "Number of equality constraint Jacobian evaluations   = 0\n",
      "Number of inequality constraint Jacobian evaluations = 0\n",
      "Number of Lagrangian Hessian evaluations             = 0\n",
      "Total CPU secs in IPOPT (w/o function evaluations)   =      4.679\n",
      "Total CPU secs in NLP function evaluations           =      0.094\n",
      "\n",
      "EXIT: Optimal Solution Found.\n"
     ]
    }
   ],
   "source": [
    "soln_ohe, covarmat_ohe = quap(f, vars);"
   ]
  },
  {
   "cell_type": "code",
   "execution_count": 14,
   "metadata": {},
   "outputs": [
    {
     "data": {
      "text/plain": [
       "5-element Array{Float64,1}:\n",
       "  0.55\n",
       "  0.17\n",
       "  0.24\n",
       " -0.04\n",
       "  0.11"
      ]
     },
     "execution_count": 14,
     "metadata": {},
     "output_type": "execute_result"
    }
   ],
   "source": [
    "round.(soln_ohe, digits=2)"
   ]
  },
  {
   "cell_type": "markdown",
   "metadata": {},
   "source": [
    "Standard deviation of each parameter:"
   ]
  },
  {
   "cell_type": "code",
   "execution_count": 15,
   "metadata": {},
   "outputs": [
    {
     "data": {
      "text/plain": [
       "5-element Array{Float64,1}:\n",
       " 0.04\n",
       " 0.05\n",
       " 0.06\n",
       " 0.06\n",
       " 0.01"
      ]
     },
     "execution_count": 15,
     "metadata": {},
     "output_type": "execute_result"
    }
   ],
   "source": [
    "round.(diag(covarmat_ohe) .|> sqrt, digits=2)"
   ]
  },
  {
   "cell_type": "markdown",
   "metadata": {},
   "source": [
    "Note that the values of $\\beta_\\text{NWO}, \\beta_\\text{OWM}$ and $\\beta_\\text{S}$ are relative to `Ape`\n",
    "\n",
    "We need to do some computation to figure out the absolute values of `kcal.per.g` for each species.\n",
    "\n",
    "To get just the average value for a species, we can just add 0.55 (the coefficient for `Ape`) witht the $\\beta$ for that species. To compute the uncertainty, you wil have to work with the posterior distribution."
   ]
  },
  {
   "cell_type": "markdown",
   "metadata": {},
   "source": [
    "## Index Variables"
   ]
  },
  {
   "cell_type": "code",
   "execution_count": 16,
   "metadata": {},
   "outputs": [
    {
     "data": {
      "text/html": [
       "<table class=\"data-frame\"><thead><tr><th></th><th>clade</th><th>species</th><th>kcal.per.g</th><th>perc.fat</th><th>perc.protein</th><th>perc.lactose</th></tr><tr><th></th><th>String</th><th>String</th><th>Float64</th><th>Float64</th><th>Float64</th><th>Float64</th></tr></thead><tbody><p>5 rows × 8 columns (omitted printing of 2 columns)</p><tr><th>1</th><td>Strepsirrhine</td><td>Eulemur fulvus</td><td>0.49</td><td>16.6</td><td>15.42</td><td>67.98</td></tr><tr><th>2</th><td>Strepsirrhine</td><td>E macaco</td><td>0.51</td><td>19.27</td><td>16.91</td><td>63.82</td></tr><tr><th>3</th><td>Strepsirrhine</td><td>E mongoz</td><td>0.46</td><td>14.11</td><td>16.85</td><td>69.04</td></tr><tr><th>4</th><td>Strepsirrhine</td><td>E rubriventer</td><td>0.48</td><td>14.91</td><td>13.18</td><td>71.91</td></tr><tr><th>5</th><td>Strepsirrhine</td><td>Lemur catta</td><td>0.6</td><td>27.28</td><td>19.5</td><td>53.22</td></tr></tbody></table>"
      ],
      "text/latex": [
       "\\begin{tabular}{r|ccccccc}\n",
       "\t& clade & species & kcal.per.g & perc.fat & perc.protein & perc.lactose & \\\\\n",
       "\t\\hline\n",
       "\t& String & String & Float64 & Float64 & Float64 & Float64 & \\\\\n",
       "\t\\hline\n",
       "\t1 & Strepsirrhine & Eulemur fulvus & 0.49 & 16.6 & 15.42 & 67.98 & $\\dots$ \\\\\n",
       "\t2 & Strepsirrhine & E macaco & 0.51 & 19.27 & 16.91 & 63.82 & $\\dots$ \\\\\n",
       "\t3 & Strepsirrhine & E mongoz & 0.46 & 14.11 & 16.85 & 69.04 & $\\dots$ \\\\\n",
       "\t4 & Strepsirrhine & E rubriventer & 0.48 & 14.91 & 13.18 & 71.91 & $\\dots$ \\\\\n",
       "\t5 & Strepsirrhine & Lemur catta & 0.6 & 27.28 & 19.5 & 53.22 & $\\dots$ \\\\\n",
       "\\end{tabular}\n"
      ],
      "text/plain": [
       "5×8 DataFrame. Omitted printing of 3 columns\n",
       "│ Row │ clade         │ species        │ kcal.per.g │ perc.fat │ perc.protein │\n",
       "│     │ \u001b[90mString\u001b[39m        │ \u001b[90mString\u001b[39m         │ \u001b[90mFloat64\u001b[39m    │ \u001b[90mFloat64\u001b[39m  │ \u001b[90mFloat64\u001b[39m      │\n",
       "├─────┼───────────────┼────────────────┼────────────┼──────────┼──────────────┤\n",
       "│ 1   │ Strepsirrhine │ Eulemur fulvus │ 0.49       │ 16.6     │ 15.42        │\n",
       "│ 2   │ Strepsirrhine │ E macaco       │ 0.51       │ 19.27    │ 16.91        │\n",
       "│ 3   │ Strepsirrhine │ E mongoz       │ 0.46       │ 14.11    │ 16.85        │\n",
       "│ 4   │ Strepsirrhine │ E rubriventer  │ 0.48       │ 14.91    │ 13.18        │\n",
       "│ 5   │ Strepsirrhine │ Lemur catta    │ 0.6        │ 27.28    │ 19.5         │"
      ]
     },
     "execution_count": 16,
     "metadata": {},
     "output_type": "execute_result"
    }
   ],
   "source": [
    "first(df, 5)"
   ]
  },
  {
   "cell_type": "code",
   "execution_count": 17,
   "metadata": {},
   "outputs": [],
   "source": [
    "vars = (VariableSpecification(-10, 10, Normal(0, 1)),\n",
    "        VariableSpecification(-10, 10, Normal(0, 1)),\n",
    "        VariableSpecification(-10, 10, Normal(0, 1)),\n",
    "        VariableSpecification(-10, 10, Normal(0, 1)),\n",
    "        VariableSpecification(0, 10, Uniform(0, 10)))\n",
    ";"
   ]
  },
  {
   "cell_type": "code",
   "execution_count": 18,
   "metadata": {},
   "outputs": [],
   "source": [
    "build_ll_data(data) = (a1, a2, a3, a4, σ) -> begin\n",
    "    clade_map = Dict(\"Ape\" => a1,\n",
    "                 \"New World Monkey\" => a2,\n",
    "                 \"Old World Monkey\" => a3,\n",
    "                 \"Strepsirrhine\" => a4)\n",
    "    \n",
    "    logprobs = map(data) do (clade, kcal)\n",
    "        μ = clade_map[clade]\n",
    "        d = Normal(μ, σ)\n",
    "        logpdf(d, kcal)\n",
    "    end\n",
    "    \n",
    "    logprobs |> sum\n",
    "end;\n",
    "\n",
    "ll_data = build_ll_data(zip(df.clade,\n",
    "                            df[!, Symbol(\"kcal.per.g\")]));"
   ]
  },
  {
   "cell_type": "code",
   "execution_count": 19,
   "metadata": {},
   "outputs": [],
   "source": [
    "build_l_joint_priors(priors::NTuple{5, Distribution}) = \n",
    "    (a1, a2, a3, a4, σ) -> logpdf.(priors, (a1, a2, a3, a4, σ)) |> sum\n",
    "\n",
    "l_joint_priors = build_l_joint_priors(map(v -> v.prior, vars));"
   ]
  },
  {
   "cell_type": "code",
   "execution_count": 20,
   "metadata": {},
   "outputs": [
    {
     "data": {
      "text/plain": [
       "f (generic function with 2 methods)"
      ]
     },
     "execution_count": 20,
     "metadata": {},
     "output_type": "execute_result"
    }
   ],
   "source": [
    "# the objective function\n",
    "f(a1, a2, a3, a4, σ) = ll_data(a1, a2, a3, a4, σ) + l_joint_priors(a1, a2, a3, a4, σ);\n",
    "f(xs::Vector) = f(xs...)"
   ]
  },
  {
   "cell_type": "code",
   "execution_count": 21,
   "metadata": {},
   "outputs": [
    {
     "name": "stdout",
     "output_type": "stream",
     "text": [
      "This is Ipopt version 3.12.10, running with linear solver mumps.\n",
      "NOTE: Other linear solvers might be more efficient (see Ipopt documentation).\n",
      "\n",
      "Number of nonzeros in equality constraint Jacobian...:        0\n",
      "Number of nonzeros in inequality constraint Jacobian.:        0\n",
      "Number of nonzeros in Lagrangian Hessian.............:        0\n",
      "\n",
      "Total number of variables............................:        5\n",
      "                     variables with only lower bounds:        0\n",
      "                variables with lower and upper bounds:        5\n",
      "                     variables with only upper bounds:        0\n",
      "Total number of equality constraints.................:        0\n",
      "Total number of inequality constraints...............:        0\n",
      "        inequality constraints with only lower bounds:        0\n",
      "   inequality constraints with lower and upper bounds:        0\n",
      "        inequality constraints with only upper bounds:        0\n",
      "\n",
      "iter    objective    inf_pr   inf_du lg(mu)  ||d||  lg(rg) alpha_du alpha_pr  ls\n",
      "   0  8.0371759e+01 0.00e+00 5.85e+00   0.0 0.00e+00    -  0.00e+00 0.00e+00   0\n",
      "   1  3.1023160e+01 0.00e+00 1.29e+01   0.6 4.14e+00    -  9.90e-01 1.00e+00f  1\n",
      "   2  1.5433158e+01 0.00e+00 4.18e+01   0.5 1.19e+01    -  6.91e-01 6.01e-02f  3\n",
      "   3  9.6578489e+00 0.00e+00 1.71e+01  -0.2 3.97e+00    -  9.99e-01 5.22e-02f  3\n",
      "   4  3.2768560e+00 0.00e+00 3.52e+01  -1.5 3.15e-01    -  9.99e-01 5.00e-01f  2\n",
      "   5 -1.5518249e+00 0.00e+00 3.35e+01  -2.2 4.86e-01    -  1.00e+00 2.39e-01f  3\n",
      "   6 -4.1948369e+00 0.00e+00 1.40e+02  -2.3 4.94e-01    -  1.00e+00 5.00e-01f  2\n",
      "   7 -9.8137152e+00 0.00e+00 9.08e+01   0.1 1.65e-01    -  1.00e+00 1.00e+00f  1\n",
      "   8 -1.1232875e+01 0.00e+00 5.27e+01  -1.4 2.18e-01    -  1.00e+00 5.00e-01f  2\n",
      "   9 -1.3598349e+01 0.00e+00 7.28e+01  -1.9 8.19e-02    -  1.00e+00 1.00e+00f  1\n",
      "iter    objective    inf_pr   inf_du lg(mu)  ||d||  lg(rg) alpha_du alpha_pr  ls\n",
      "  10 -1.4704973e+01 0.00e+00 2.49e+01  -3.6 2.18e-02    -  1.00e+00 1.00e+00f  1\n",
      "  11 -1.4845740e+01 0.00e+00 3.97e+00  -5.3 2.77e-02    -  1.00e+00 5.00e-01f  2\n",
      "  12 -1.4873370e+01 0.00e+00 2.11e+00  -6.3 1.21e-02    -  1.00e+00 1.00e+00f  1\n",
      "  13 -1.4877699e+01 0.00e+00 1.62e+00  -8.0 3.78e-03    -  1.00e+00 1.00e+00f  1\n",
      "  14 -1.4878058e+01 0.00e+00 2.40e-01  -9.8 6.29e-04    -  1.00e+00 1.00e+00f  1\n",
      "  15 -1.4878080e+01 0.00e+00 1.53e-02 -11.0 1.70e-04    -  1.00e+00 1.00e+00f  1\n",
      "  16 -1.4878080e+01 0.00e+00 3.65e-03 -11.0 1.94e-05    -  1.00e+00 1.00e+00f  1\n",
      "  17 -1.4878080e+01 0.00e+00 7.87e-04 -11.0 7.48e-06    -  1.00e+00 1.00e+00f  1\n",
      "  18 -1.4878080e+01 0.00e+00 3.72e-04 -11.0 2.11e-06    -  1.00e+00 1.00e+00f  1\n",
      "  19 -1.4878080e+01 0.00e+00 4.04e-05 -11.0 5.72e-07    -  1.00e+00 1.00e+00f  1\n",
      "iter    objective    inf_pr   inf_du lg(mu)  ||d||  lg(rg) alpha_du alpha_pr  ls\n",
      "  20 -1.4878080e+01 0.00e+00 3.53e-05 -11.0 1.12e-07    -  1.00e+00 1.00e+00f  1\n",
      "  21 -1.4878080e+01 0.00e+00 3.05e-05 -11.0 1.49e-08    -  1.00e+00 1.00e+00f  1\n",
      "  22 -1.4878080e+01 0.00e+00 5.92e-07 -11.0 8.07e-09    -  1.00e+00 1.00e+00f  1\n",
      "  23 -1.4878080e+01 0.00e+00 1.81e-07 -11.0 5.99e-10    -  1.00e+00 1.00e+00f  1\n",
      "  24 -1.4878080e+01 0.00e+00 4.24e-09 -11.0 2.65e-10    -  1.00e+00 1.00e+00f  1\n",
      "\n",
      "Number of Iterations....: 24\n",
      "\n",
      "                                   (scaled)                 (unscaled)\n",
      "Objective...............:  -1.4878080202097026e+01   -1.4878080202097026e+01\n",
      "Dual infeasibility......:   4.2380378906859663e-09    4.2380378906859663e-09\n",
      "Constraint violation....:   0.0000000000000000e+00    0.0000000000000000e+00\n",
      "Complementarity.........:   1.0000000000000001e-11    1.0000000000000001e-11\n",
      "Overall NLP error.......:   4.2380378906859663e-09    4.2380378906859663e-09\n",
      "\n",
      "\n",
      "Number of objective function evaluations             = 63\n",
      "Number of objective gradient evaluations             = 25\n",
      "Number of equality constraint evaluations            = 0\n",
      "Number of inequality constraint evaluations          = 0\n",
      "Number of equality constraint Jacobian evaluations   = 0\n",
      "Number of inequality constraint Jacobian evaluations = 0\n",
      "Number of Lagrangian Hessian evaluations             = 0\n",
      "Total CPU secs in IPOPT (w/o function evaluations)   =      1.084\n",
      "Total CPU secs in NLP function evaluations           =      0.004\n",
      "\n",
      "EXIT: Optimal Solution Found.\n"
     ]
    }
   ],
   "source": [
    "soln_iv, covarmat_iv = quap(f, vars);"
   ]
  },
  {
   "cell_type": "code",
   "execution_count": 22,
   "metadata": {},
   "outputs": [
    {
     "data": {
      "text/plain": [
       "5-element Array{Float64,1}:\n",
       " 0.54\n",
       " 0.71\n",
       " 0.79\n",
       " 0.51\n",
       " 0.11"
      ]
     },
     "execution_count": 22,
     "metadata": {},
     "output_type": "execute_result"
    }
   ],
   "source": [
    "round.(soln_iv, digits=2)"
   ]
  },
  {
   "cell_type": "code",
   "execution_count": 23,
   "metadata": {},
   "outputs": [
    {
     "data": {
      "text/plain": [
       "5-element Array{Float64,1}:\n",
       " 0.04\n",
       " 0.04\n",
       " 0.05\n",
       " 0.05\n",
       " 0.01"
      ]
     },
     "execution_count": 23,
     "metadata": {},
     "output_type": "execute_result"
    }
   ],
   "source": [
    "round.(diag(covarmat_iv) .|> sqrt, digits=2)"
   ]
  },
  {
   "cell_type": "markdown",
   "metadata": {},
   "source": [
    "Verify that solution from one-hot encoding is identical with index variable approach:"
   ]
  },
  {
   "cell_type": "code",
   "execution_count": 24,
   "metadata": {},
   "outputs": [
    {
     "data": {
      "text/plain": [
       "5-element Array{Float64,1}:\n",
       " 0.55\n",
       " 0.71\n",
       " 0.79\n",
       " 0.51\n",
       " 0.11"
      ]
     },
     "execution_count": 24,
     "metadata": {},
     "output_type": "execute_result"
    }
   ],
   "source": [
    "ape = soln_ohe[1]\n",
    "others = soln_ohe[2:4]\n",
    "sigma_soln = soln_ohe[end]\n",
    "\n",
    "vcat(ape, others .+ ape, sigma_soln) .|>\n",
    "    arr -> round(arr, digits=2)"
   ]
  }
 ],
 "metadata": {
  "kernelspec": {
   "display_name": "Julia 1.4.0",
   "language": "julia",
   "name": "julia-1.4"
  },
  "language_info": {
   "file_extension": ".jl",
   "mimetype": "application/julia",
   "name": "julia",
   "version": "1.4.0"
  }
 },
 "nbformat": 4,
 "nbformat_minor": 4
}
