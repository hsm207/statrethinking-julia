{
 "cells": [
  {
   "cell_type": "markdown",
   "metadata": {
    "toc": true
   },
   "source": [
    "<h1>Table of Contents<span class=\"tocSkip\"></span></h1>\n",
    "<div class=\"toc\" style=\"margin-top: 1em;\"><ul class=\"toc-item\"><li><span><a href=\"#Setup\" data-toc-modified-id=\"Setup-1\"><span class=\"toc-item-num\">1&nbsp;&nbsp;</span>Setup</a></span></li><li><span><a href=\"#Packages\" data-toc-modified-id=\"Packages-2\"><span class=\"toc-item-num\">2&nbsp;&nbsp;</span>Packages</a></span></li><li><span><a href=\"#Play\" data-toc-modified-id=\"Play-3\"><span class=\"toc-item-num\">3&nbsp;&nbsp;</span>Play</a></span></li></ul></div>"
   ]
  },
  {
   "cell_type": "markdown",
   "metadata": {},
   "source": [
    "# Setup"
   ]
  },
  {
   "cell_type": "code",
   "execution_count": 1,
   "metadata": {},
   "outputs": [],
   "source": [
    "cd(\"../..\")"
   ]
  },
  {
   "cell_type": "markdown",
   "metadata": {},
   "source": [
    "# Packages"
   ]
  },
  {
   "cell_type": "code",
   "execution_count": 2,
   "metadata": {},
   "outputs": [],
   "source": [
    "include(\"./src/utils.jl\")\n",
    "using .Utils"
   ]
  },
  {
   "cell_type": "code",
   "execution_count": 3,
   "metadata": {},
   "outputs": [],
   "source": [
    "using Statistics, Distributions, DataFrames, GLM, Query"
   ]
  },
  {
   "cell_type": "code",
   "execution_count": 4,
   "metadata": {},
   "outputs": [
    {
     "name": "stderr",
     "output_type": "stream",
     "text": [
      "┌ Warning: RCall.jl: Loading required package: ggplot2\n",
      "│ Registered S3 method overwritten by 'GGally':\n",
      "│   method from   \n",
      "│   +.gg   ggplot2\n",
      "└ @ RCall /home/user/.julia/packages/RCall/paaBQ/src/io.jl:113\n"
     ]
    },
    {
     "data": {
      "text/plain": [
       "RObject{StrSxp}\n",
       " [1] \"magrittr\"  \"GGally\"    \"ggplot2\"   \"stats\"     \"graphics\"  \"grDevices\"\n",
       " [7] \"utils\"     \"datasets\"  \"methods\"   \"base\"     \n"
      ]
     },
     "execution_count": 4,
     "metadata": {},
     "output_type": "execute_result"
    }
   ],
   "source": [
    "using RCall\n",
    "RCall.rcall_p(:options, rcalljl_options=Dict(:width => 800, :height => 400));\n",
    "R\"\"\"\n",
    "library(GGally)\n",
    "library(magrittr)\n",
    "\"\"\""
   ]
  },
  {
   "cell_type": "markdown",
   "metadata": {},
   "source": [
    "# Common"
   ]
  },
  {
   "cell_type": "code",
   "execution_count": 5,
   "metadata": {},
   "outputs": [],
   "source": [
    "const n = 1_000;"
   ]
  },
  {
   "cell_type": "code",
   "execution_count": 6,
   "metadata": {},
   "outputs": [],
   "source": [
    "RMSE(y, ŷ) = (y .- ŷ).^2 |> mean |> sqrt;\n",
    "\n",
    "function eval_model(model, df)\n",
    "    rmse = RMSE(df.Y, predict(model, df))\n",
    "    rsquared = r2(model)\n",
    "    println(\"RMSE:\\t$(round(rmse, digits = 4))\")\n",
    "    println(\"R^2:\\t$(round(rsquared, digits = 4))\")\n",
    "end\n",
    ";"
   ]
  },
  {
   "cell_type": "markdown",
   "metadata": {},
   "source": [
    "# The Fork"
   ]
  },
  {
   "cell_type": "markdown",
   "metadata": {},
   "source": [
    "$Z$ causes $X$ and $Y$:"
   ]
  },
  {
   "cell_type": "code",
   "execution_count": 7,
   "metadata": {},
   "outputs": [
    {
     "data": {
      "text/html": [
       "<table class=\"data-frame\"><thead><tr><th></th><th>X</th><th>Z</th><th>Y</th></tr><tr><th></th><th>Float64</th><th>Float64</th><th>Float64</th></tr></thead><tbody><p>5 rows × 3 columns</p><tr><th>1</th><td>-4.08369</td><td>-1.88972</td><td>-8.4049</td></tr><tr><th>2</th><td>-0.767182</td><td>-0.419245</td><td>-2.87607</td></tr><tr><th>3</th><td>-0.322579</td><td>0.323292</td><td>2.89562</td></tr><tr><th>4</th><td>0.495611</td><td>0.787839</td><td>2.07873</td></tr><tr><th>5</th><td>0.145101</td><td>0.65861</td><td>2.0293</td></tr></tbody></table>"
      ],
      "text/latex": [
       "\\begin{tabular}{r|ccc}\n",
       "\t& X & Z & Y\\\\\n",
       "\t\\hline\n",
       "\t& Float64 & Float64 & Float64\\\\\n",
       "\t\\hline\n",
       "\t1 & -4.08369 & -1.88972 & -8.4049 \\\\\n",
       "\t2 & -0.767182 & -0.419245 & -2.87607 \\\\\n",
       "\t3 & -0.322579 & 0.323292 & 2.89562 \\\\\n",
       "\t4 & 0.495611 & 0.787839 & 2.07873 \\\\\n",
       "\t5 & 0.145101 & 0.65861 & 2.0293 \\\\\n",
       "\\end{tabular}\n"
      ],
      "text/plain": [
       "5×3 DataFrame\n",
       "│ Row │ X         │ Z         │ Y        │\n",
       "│     │ \u001b[90mFloat64\u001b[39m   │ \u001b[90mFloat64\u001b[39m   │ \u001b[90mFloat64\u001b[39m  │\n",
       "├─────┼───────────┼───────────┼──────────┤\n",
       "│ 1   │ -4.08369  │ -1.88972  │ -8.4049  │\n",
       "│ 2   │ -0.767182 │ -0.419245 │ -2.87607 │\n",
       "│ 3   │ -0.322579 │ 0.323292  │ 2.89562  │\n",
       "│ 4   │ 0.495611  │ 0.787839  │ 2.07873  │\n",
       "│ 5   │ 0.145101  │ 0.65861   │ 2.0293   │"
      ]
     },
     "execution_count": 7,
     "metadata": {},
     "output_type": "execute_result"
    }
   ],
   "source": [
    "z = rand(Normal(), n);\n",
    "x = 2 .* z .+ rand(Normal(), n)\n",
    "y = 3 .* z .+ rand(Normal(), n)\n",
    "\n",
    "df = DataFrame(X = x, Z = z, Y = y)\n",
    "first(df, 5)"
   ]
  },
  {
   "cell_type": "markdown",
   "metadata": {},
   "source": [
    "Ground truth is $$Y = 3Z$$."
   ]
  },
  {
   "cell_type": "markdown",
   "metadata": {},
   "source": [
    "Model relationship between X and Y directly:"
   ]
  },
  {
   "cell_type": "code",
   "execution_count": 8,
   "metadata": {},
   "outputs": [
    {
     "data": {
      "text/plain": [
       "StatsModels.TableRegressionModel{LinearModel{GLM.LmResp{Array{Float64,1}},GLM.DensePredChol{Float64,LinearAlgebra.Cholesky{Float64,Array{Float64,2}}}},Array{Float64,2}}\n",
       "\n",
       "Y ~ 0 + X\n",
       "\n",
       "Coefficients:\n",
       "────────────────────────────────────────────────────────────────\n",
       "   Estimate  Std. Error  t value  Pr(>|t|)  Lower 95%  Upper 95%\n",
       "────────────────────────────────────────────────────────────────\n",
       "X   1.18115   0.0234364  50.3983    <1e-99    1.13516    1.22714\n",
       "────────────────────────────────────────────────────────────────"
      ]
     },
     "execution_count": 8,
     "metadata": {},
     "output_type": "execute_result"
    }
   ],
   "source": [
    "model = lm(@formula(Y ~ X + 0), df)"
   ]
  },
  {
   "cell_type": "code",
   "execution_count": 9,
   "metadata": {},
   "outputs": [
    {
     "data": {
      "text/plain": [
       "RObject{VecSxp}\n",
       "\n",
       "Call:\n",
       "lm(formula = Y ~ X - 1, data = `#JL`$df)\n",
       "\n",
       "Residuals:\n",
       "    Min      1Q  Median      3Q     Max \n",
       "-5.6921 -1.1204  0.0639  1.1741  4.9146 \n",
       "\n",
       "Coefficients:\n",
       "  Estimate Std. Error t value Pr(>|t|)    \n",
       "X  1.18115    0.02344    50.4   <2e-16 ***\n",
       "---\n",
       "Signif. codes:  0 ‘***’ 0.001 ‘**’ 0.01 ‘*’ 0.05 ‘.’ 0.1 ‘ ’ 1\n",
       "\n",
       "Residual standard error: 1.676 on 999 degrees of freedom\n",
       "Multiple R-squared:  0.7177,\tAdjusted R-squared:  0.7174 \n",
       "F-statistic:  2540 on 1 and 999 DF,  p-value: < 2.2e-16\n",
       "\n"
      ]
     },
     "execution_count": 9,
     "metadata": {},
     "output_type": "execute_result"
    }
   ],
   "source": [
    "R\"\"\"\n",
    "lm(Y ~ X - 1, $df) %>%\n",
    "    summary\n",
    "\"\"\""
   ]
  },
  {
   "cell_type": "code",
   "execution_count": 10,
   "metadata": {},
   "outputs": [
    {
     "name": "stdout",
     "output_type": "stream",
     "text": [
      "RMSE:\t1.6752\n",
      "R^2:\t0.7172\n"
     ]
    }
   ],
   "source": [
    "eval_model(model, df)"
   ]
  },
  {
   "cell_type": "markdown",
   "metadata": {},
   "source": [
    "Taking into account $Z$:"
   ]
  },
  {
   "cell_type": "code",
   "execution_count": 11,
   "metadata": {},
   "outputs": [
    {
     "data": {
      "text/plain": [
       "StatsModels.TableRegressionModel{LinearModel{GLM.LmResp{Array{Float64,1}},GLM.DensePredChol{Float64,LinearAlgebra.Cholesky{Float64,Array{Float64,2}}}},Array{Float64,2}}\n",
       "\n",
       "Y ~ 0 + X + Z\n",
       "\n",
       "Coefficients:\n",
       "──────────────────────────────────────────────────────────────────────\n",
       "      Estimate  Std. Error    t value  Pr(>|t|)   Lower 95%  Upper 95%\n",
       "──────────────────────────────────────────────────────────────────────\n",
       "X  -0.00787921   0.030238   -0.260573    0.7945  -0.0672166  0.0514582\n",
       "Z   2.99004      0.0678379  44.0762      <1e-99   2.85692    3.12316\n",
       "──────────────────────────────────────────────────────────────────────"
      ]
     },
     "execution_count": 11,
     "metadata": {},
     "output_type": "execute_result"
    }
   ],
   "source": [
    "model = lm(@formula(Y ~ X + Z + 0), df)"
   ]
  },
  {
   "cell_type": "code",
   "execution_count": 12,
   "metadata": {},
   "outputs": [
    {
     "data": {
      "text/plain": [
       "RObject{VecSxp}\n",
       "\n",
       "Call:\n",
       "lm(formula = Y ~ X + Z - 1, data = `#JL`$df)\n",
       "\n",
       "Residuals:\n",
       "    Min      1Q  Median      3Q     Max \n",
       "-3.1460 -0.6110  0.0419  0.6443  3.8228 \n",
       "\n",
       "Coefficients:\n",
       "   Estimate Std. Error t value Pr(>|t|)    \n",
       "X -0.007879   0.030238  -0.261    0.794    \n",
       "Z  2.990038   0.067838  44.076   <2e-16 ***\n",
       "---\n",
       "Signif. codes:  0 ‘***’ 0.001 ‘**’ 0.01 ‘*’ 0.05 ‘.’ 0.1 ‘ ’ 1\n",
       "\n",
       "Residual standard error: 0.9769 on 998 degrees of freedom\n",
       "Multiple R-squared:  0.9042,\tAdjusted R-squared:  0.904 \n",
       "F-statistic:  4710 on 2 and 998 DF,  p-value: < 2.2e-16\n",
       "\n"
      ]
     },
     "execution_count": 12,
     "metadata": {},
     "output_type": "execute_result"
    }
   ],
   "source": [
    "R\"\"\"\n",
    "lm(Y ~ X + Z - 1, $df) %>%\n",
    "    summary\n",
    "\"\"\""
   ]
  },
  {
   "cell_type": "code",
   "execution_count": 13,
   "metadata": {},
   "outputs": [
    {
     "name": "stdout",
     "output_type": "stream",
     "text": [
      "RMSE:\t0.9759\n",
      "R^2:\t0.904\n"
     ]
    }
   ],
   "source": [
    "eval_model(model, df)"
   ]
  },
  {
   "cell_type": "markdown",
   "metadata": {},
   "source": [
    "Just $Z$:"
   ]
  },
  {
   "cell_type": "code",
   "execution_count": 14,
   "metadata": {},
   "outputs": [
    {
     "data": {
      "text/plain": [
       "StatsModels.TableRegressionModel{LinearModel{GLM.LmResp{Array{Float64,1}},GLM.DensePredChol{Float64,LinearAlgebra.Cholesky{Float64,Array{Float64,2}}}},Array{Float64,2}}\n",
       "\n",
       "Y ~ 0 + Z\n",
       "\n",
       "Coefficients:\n",
       "────────────────────────────────────────────────────────────────\n",
       "   Estimate  Std. Error  t value  Pr(>|t|)  Lower 95%  Upper 95%\n",
       "────────────────────────────────────────────────────────────────\n",
       "Z   2.97427   0.0306312  97.0994    <1e-99    2.91416    3.03438\n",
       "────────────────────────────────────────────────────────────────"
      ]
     },
     "execution_count": 14,
     "metadata": {},
     "output_type": "execute_result"
    }
   ],
   "source": [
    "model = lm(@formula(Y ~ Z + 0), df)"
   ]
  },
  {
   "cell_type": "code",
   "execution_count": 15,
   "metadata": {},
   "outputs": [
    {
     "data": {
      "text/plain": [
       "RObject{VecSxp}\n",
       "\n",
       "Call:\n",
       "lm(formula = Y ~ Z - 1, data = `#JL`$df)\n",
       "\n",
       "Residuals:\n",
       "    Min      1Q  Median      3Q     Max \n",
       "-3.1537 -0.6063  0.0526  0.6465  3.8248 \n",
       "\n",
       "Coefficients:\n",
       "  Estimate Std. Error t value Pr(>|t|)    \n",
       "Z  2.97427    0.03063    97.1   <2e-16 ***\n",
       "---\n",
       "Signif. codes:  0 ‘***’ 0.001 ‘**’ 0.01 ‘*’ 0.05 ‘.’ 0.1 ‘ ’ 1\n",
       "\n",
       "Residual standard error: 0.9764 on 999 degrees of freedom\n",
       "Multiple R-squared:  0.9042,\tAdjusted R-squared:  0.9041 \n",
       "F-statistic:  9428 on 1 and 999 DF,  p-value: < 2.2e-16\n",
       "\n"
      ]
     },
     "execution_count": 15,
     "metadata": {},
     "output_type": "execute_result"
    }
   ],
   "source": [
    "R\"\"\"\n",
    "lm(Y ~ Z - 1, $df) %>%\n",
    "    summary\n",
    "\"\"\""
   ]
  },
  {
   "cell_type": "code",
   "execution_count": 16,
   "metadata": {},
   "outputs": [
    {
     "name": "stdout",
     "output_type": "stream",
     "text": [
      "RMSE:\t0.9759\n",
      "R^2:\t0.904\n"
     ]
    }
   ],
   "source": [
    "eval_model(model, df)"
   ]
  },
  {
   "cell_type": "code",
   "execution_count": 17,
   "metadata": {},
   "outputs": [
    {
     "data": {
      "image/png": "[encoded data removed]"
     },
     "metadata": {},
     "output_type": "display_data"
    },
    {
     "data": {
      "text/plain": [
       "RObject{VecSxp}\n"
      ]
     },
     "execution_count": 17,
     "metadata": {},
     "output_type": "execute_result"
    }
   ],
   "source": [
    "R\"\"\"\n",
    "ggpairs($df, columns = c(\"X\", \"Y\"))\n",
    "\"\"\""
   ]
  },
  {
   "cell_type": "code",
   "execution_count": 18,
   "metadata": {},
   "outputs": [
    {
     "data": {
      "image/png": "[encoded data removed]"
     },
     "metadata": {},
     "output_type": "display_data"
    },
    {
     "data": {
      "text/plain": [
       "RObject{VecSxp}\n"
      ]
     },
     "execution_count": 18,
     "metadata": {},
     "output_type": "execute_result"
    }
   ],
   "source": [
    "R\"\"\"\n",
    "ggpairs($df)\n",
    "\"\"\""
   ]
  },
  {
   "cell_type": "markdown",
   "metadata": {},
   "source": [
    "# The Pipe"
   ]
  },
  {
   "cell_type": "markdown",
   "metadata": {},
   "source": [
    "$X$ causes $Z$ which then causes $Y$."
   ]
  },
  {
   "cell_type": "code",
   "execution_count": 19,
   "metadata": {},
   "outputs": [
    {
     "data": {
      "text/html": [
       "<table class=\"data-frame\"><thead><tr><th></th><th>X</th><th>Z</th><th>Y</th></tr><tr><th></th><th>Categorical…</th><th>Categorical…</th><th>Float64</th></tr></thead><tbody><p>5 rows × 3 columns</p><tr><th>1</th><td>false</td><td>true</td><td>5.56111</td></tr><tr><th>2</th><td>false</td><td>true</td><td>4.61888</td></tr><tr><th>3</th><td>false</td><td>true</td><td>6.12642</td></tr><tr><th>4</th><td>false</td><td>true</td><td>5.64399</td></tr><tr><th>5</th><td>false</td><td>true</td><td>4.2466</td></tr></tbody></table>"
      ],
      "text/latex": [
       "\\begin{tabular}{r|ccc}\n",
       "\t& X & Z & Y\\\\\n",
       "\t\\hline\n",
       "\t& Categorical… & Categorical… & Float64\\\\\n",
       "\t\\hline\n",
       "\t1 & false & true & 5.56111 \\\\\n",
       "\t2 & false & true & 4.61888 \\\\\n",
       "\t3 & false & true & 6.12642 \\\\\n",
       "\t4 & false & true & 5.64399 \\\\\n",
       "\t5 & false & true & 4.2466 \\\\\n",
       "\\end{tabular}\n"
      ],
      "text/plain": [
       "5×3 DataFrame\n",
       "│ Row │ X            │ Z            │ Y       │\n",
       "│     │ \u001b[90mCategorical…\u001b[39m │ \u001b[90mCategorical…\u001b[39m │ \u001b[90mFloat64\u001b[39m │\n",
       "├─────┼──────────────┼──────────────┼─────────┤\n",
       "│ 1   │ false        │ true         │ 5.56111 │\n",
       "│ 2   │ false        │ true         │ 4.61888 │\n",
       "│ 3   │ false        │ true         │ 6.12642 │\n",
       "│ 4   │ false        │ true         │ 5.64399 │\n",
       "│ 5   │ false        │ true         │ 4.2466  │"
      ]
     },
     "execution_count": 19,
     "metadata": {},
     "output_type": "execute_result"
    }
   ],
   "source": [
    "x = vcat(zeros(Bool, n ÷ 2),  ones(Bool, n ÷ 2))\n",
    "z = Bernoulli.(0.90 .- (x .* 0.8)) .|>\n",
    "    d -> rand(d)\n",
    "y = 10 .- 5 .* z + rand(Normal(), n)\n",
    "\n",
    "df = DataFrame(X = x, Z = z, Y = y)\n",
    "categorical!(df, [:X, :Z])\n",
    "\n",
    "first(df, 5)"
   ]
  },
  {
   "cell_type": "markdown",
   "metadata": {},
   "source": [
    "Ground truth is $$ Y = 5.5 + 4.0 X$$\n",
    "\n",
    "of $$ Y = 10 - 5 Z $$."
   ]
  },
  {
   "cell_type": "markdown",
   "metadata": {},
   "source": [
    "Because:"
   ]
  },
  {
   "cell_type": "code",
   "execution_count": 20,
   "metadata": {},
   "outputs": [
    {
     "data": {
      "text/html": [
       "<table class=\"data-frame\"><thead><tr><th></th><th>X</th><th>Ȳ</th></tr><tr><th></th><th>Categorical…</th><th>Float64</th></tr></thead><tbody><p>2 rows × 2 columns</p><tr><th>1</th><td>false</td><td>5.55629</td></tr><tr><th>2</th><td>true</td><td>9.50906</td></tr></tbody></table>"
      ],
      "text/latex": [
       "\\begin{tabular}{r|cc}\n",
       "\t& X & Ȳ\\\\\n",
       "\t\\hline\n",
       "\t& Categorical… & Float64\\\\\n",
       "\t\\hline\n",
       "\t1 & false & 5.55629 \\\\\n",
       "\t2 & true & 9.50906 \\\\\n",
       "\\end{tabular}\n"
      ],
      "text/plain": [
       "2×2 DataFrame\n",
       "│ Row │ X            │ Ȳ       │\n",
       "│     │ \u001b[90mCategorical…\u001b[39m │ \u001b[90mFloat64\u001b[39m │\n",
       "├─────┼──────────────┼─────────┤\n",
       "│ 1   │ false        │ 5.55629 │\n",
       "│ 2   │ true         │ 9.50906 │"
      ]
     },
     "execution_count": 20,
     "metadata": {},
     "output_type": "execute_result"
    }
   ],
   "source": [
    "@from i in df begin\n",
    "    @group i by i.X into k\n",
    "    @select {X = key(k), Ȳ = mean(k.Y)}\n",
    "    @collect DataFrame\n",
    "end"
   ]
  },
  {
   "cell_type": "markdown",
   "metadata": {},
   "source": [
    "Visualize:"
   ]
  },
  {
   "cell_type": "code",
   "execution_count": 21,
   "metadata": {},
   "outputs": [
    {
     "data": {
      "image/png": "[encoded data removed]"
     },
     "metadata": {},
     "output_type": "display_data"
    },
    {
     "data": {
      "text/plain": [
       "RObject{VecSxp}\n"
      ]
     },
     "execution_count": 21,
     "metadata": {},
     "output_type": "execute_result"
    },
    {
     "name": "stderr",
     "output_type": "stream",
     "text": [
      "┌ Warning: RCall.jl: `stat_bin()` using `bins = 30`. Pick better value with `binwidth`.\n",
      "│ `stat_bin()` using `bins = 30`. Pick better value with `binwidth`.\n",
      "└ @ RCall /home/user/.julia/packages/RCall/paaBQ/src/io.jl:113\n"
     ]
    }
   ],
   "source": [
    "R\"\"\"\n",
    "ggpairs($df)\n",
    "\"\"\""
   ]
  },
  {
   "cell_type": "markdown",
   "metadata": {},
   "source": [
    "Model $Y$ as a function of both $X$ and $Z$:"
   ]
  },
  {
   "cell_type": "code",
   "execution_count": 22,
   "metadata": {},
   "outputs": [
    {
     "data": {
      "text/plain": [
       "StatsModels.TableRegressionModel{LinearModel{GLM.LmResp{Array{Float64,1}},GLM.DensePredChol{Float64,LinearAlgebra.Cholesky{Float64,Array{Float64,2}}}},Array{Float64,2}}\n",
       "\n",
       "Y ~ 1 + X + Z\n",
       "\n",
       "Coefficients:\n",
       "───────────────────────────────────────────────────────────────────────────────\n",
       "               Estimate  Std. Error     t value  Pr(>|t|)  Lower 95%  Upper 95%\n",
       "───────────────────────────────────────────────────────────────────────────────\n",
       "(Intercept)  10.0345       0.106566   94.162       <1e-99   9.82534   10.2436\n",
       "X: true      -0.0666048    0.107558   -0.619245    0.5359  -0.277671   0.144461\n",
       "Z: true      -4.98683      0.107564  -46.3617      <1e-99  -5.1979    -4.77575\n",
       "───────────────────────────────────────────────────────────────────────────────"
      ]
     },
     "execution_count": 22,
     "metadata": {},
     "output_type": "execute_result"
    }
   ],
   "source": [
    "model = lm(@formula(Y ~ X + Z), df)"
   ]
  },
  {
   "cell_type": "code",
   "execution_count": 23,
   "metadata": {},
   "outputs": [
    {
     "data": {
      "text/plain": [
       "RObject{VecSxp}\n",
       "\n",
       "Call:\n",
       "lm(formula = Y ~ X + Z, data = `#JL`$df)\n",
       "\n",
       "Residuals:\n",
       "    Min      1Q  Median      3Q     Max \n",
       "-2.8778 -0.6924  0.0446  0.6781  4.1741 \n",
       "\n",
       "Coefficients:\n",
       "            Estimate Std. Error t value Pr(>|t|)    \n",
       "(Intercept)  10.0345     0.1066  94.162   <2e-16 ***\n",
       "Xtrue        -0.0666     0.1076  -0.619    0.536    \n",
       "Ztrue        -4.9868     0.1076 -46.362   <2e-16 ***\n",
       "---\n",
       "Signif. codes:  0 ‘***’ 0.001 ‘**’ 0.01 ‘*’ 0.05 ‘.’ 0.1 ‘ ’ 1\n",
       "\n",
       "Residual standard error: 1.007 on 997 degrees of freedom\n",
       "Multiple R-squared:  0.8576,\tAdjusted R-squared:  0.8573 \n",
       "F-statistic:  3002 on 2 and 997 DF,  p-value: < 2.2e-16\n",
       "\n"
      ]
     },
     "execution_count": 23,
     "metadata": {},
     "output_type": "execute_result"
    }
   ],
   "source": [
    "R\"\"\"\n",
    "lm(Y ~ X + Z, $df) %>%\n",
    "    summary\n",
    "\"\"\""
   ]
  },
  {
   "cell_type": "code",
   "execution_count": 24,
   "metadata": {},
   "outputs": [
    {
     "name": "stdout",
     "output_type": "stream",
     "text": [
      "RMSE:\t1.005\n",
      "R^2:\t0.8576\n"
     ]
    }
   ],
   "source": [
    "eval_model(model, df)"
   ]
  },
  {
   "cell_type": "markdown",
   "metadata": {},
   "source": [
    "Model $Y$ as a function of $Z$:"
   ]
  },
  {
   "cell_type": "code",
   "execution_count": 25,
   "metadata": {},
   "outputs": [
    {
     "data": {
      "text/plain": [
       "StatsModels.TableRegressionModel{LinearModel{GLM.LmResp{Array{Float64,1}},GLM.DensePredChol{Float64,LinearAlgebra.Cholesky{Float64,Array{Float64,2}}}},Array{Float64,2}}\n",
       "\n",
       "Y ~ 1 + Z\n",
       "\n",
       "Coefficients:\n",
       "───────────────────────────────────────────────────────────────────────────\n",
       "             Estimate  Std. Error   t value  Pr(>|t|)  Lower 95%  Upper 95%\n",
       "───────────────────────────────────────────────────────────────────────────\n",
       "(Intercept)   9.97458   0.0447768  222.762     <1e-99    9.88671   10.0624\n",
       "Z: true      -4.93314   0.0636429  -77.5127    <1e-99   -5.05803   -4.80825\n",
       "───────────────────────────────────────────────────────────────────────────"
      ]
     },
     "execution_count": 25,
     "metadata": {},
     "output_type": "execute_result"
    }
   ],
   "source": [
    "model = lm(@formula(Y ~ Z), df)"
   ]
  },
  {
   "cell_type": "code",
   "execution_count": 26,
   "metadata": {},
   "outputs": [
    {
     "data": {
      "text/plain": [
       "RObject{VecSxp}\n",
       "\n",
       "Call:\n",
       "lm(formula = Y ~ Z, data = `#JL`$df)\n",
       "\n",
       "Residuals:\n",
       "    Min      1Q  Median      3Q     Max \n",
       "-2.8311 -0.6920  0.0438  0.6777  4.1803 \n",
       "\n",
       "Coefficients:\n",
       "            Estimate Std. Error t value Pr(>|t|)    \n",
       "(Intercept)  9.97458    0.04478  222.76   <2e-16 ***\n",
       "Ztrue       -4.93314    0.06364  -77.51   <2e-16 ***\n",
       "---\n",
       "Signif. codes:  0 ‘***’ 0.001 ‘**’ 0.01 ‘*’ 0.05 ‘.’ 0.1 ‘ ’ 1\n",
       "\n",
       "Residual standard error: 1.006 on 998 degrees of freedom\n",
       "Multiple R-squared:  0.8576,\tAdjusted R-squared:  0.8574 \n",
       "F-statistic:  6008 on 1 and 998 DF,  p-value: < 2.2e-16\n",
       "\n"
      ]
     },
     "execution_count": 26,
     "metadata": {},
     "output_type": "execute_result"
    }
   ],
   "source": [
    "R\"\"\"\n",
    "lm(Y ~ Z, $df) %>%\n",
    "    summary\n",
    "\"\"\""
   ]
  },
  {
   "cell_type": "code",
   "execution_count": 27,
   "metadata": {},
   "outputs": [
    {
     "name": "stdout",
     "output_type": "stream",
     "text": [
      "RMSE:\t1.0052\n",
      "R^2:\t0.8576\n"
     ]
    }
   ],
   "source": [
    "eval_model(model, df)"
   ]
  },
  {
   "cell_type": "markdown",
   "metadata": {},
   "source": [
    "Model $Y$ as a function of $X$:"
   ]
  },
  {
   "cell_type": "code",
   "execution_count": 28,
   "metadata": {},
   "outputs": [
    {
     "data": {
      "text/plain": [
       "StatsModels.TableRegressionModel{LinearModel{GLM.LmResp{Array{Float64,1}},GLM.DensePredChol{Float64,LinearAlgebra.Cholesky{Float64,Array{Float64,2}}}},Array{Float64,2}}\n",
       "\n",
       "Y ~ 1 + X\n",
       "\n",
       "Coefficients:\n",
       "──────────────────────────────────────────────────────────────────────────\n",
       "             Estimate  Std. Error  t value  Pr(>|t|)  Lower 95%  Upper 95%\n",
       "──────────────────────────────────────────────────────────────────────────\n",
       "(Intercept)   5.55629   0.0799263  69.5176    <1e-99    5.39944    5.71313\n",
       "X: true       3.95278   0.113033   34.9701    <1e-99    3.73097    4.17459\n",
       "──────────────────────────────────────────────────────────────────────────"
      ]
     },
     "execution_count": 28,
     "metadata": {},
     "output_type": "execute_result"
    }
   ],
   "source": [
    "model = lm(@formula(Y ~ X), df)"
   ]
  },
  {
   "cell_type": "code",
   "execution_count": 29,
   "metadata": {},
   "outputs": [
    {
     "data": {
      "text/plain": [
       "RObject{VecSxp}\n",
       "\n",
       "Call:\n",
       "lm(formula = Y ~ X, data = `#JL`$df)\n",
       "\n",
       "Residuals:\n",
       "    Min      1Q  Median      3Q     Max \n",
       "-6.2032 -0.8686  0.0150  0.8497  6.8410 \n",
       "\n",
       "Coefficients:\n",
       "            Estimate Std. Error t value Pr(>|t|)    \n",
       "(Intercept)  5.55629    0.07993   69.52   <2e-16 ***\n",
       "Xtrue        3.95278    0.11303   34.97   <2e-16 ***\n",
       "---\n",
       "Signif. codes:  0 ‘***’ 0.001 ‘**’ 0.01 ‘*’ 0.05 ‘.’ 0.1 ‘ ’ 1\n",
       "\n",
       "Residual standard error: 1.787 on 998 degrees of freedom\n",
       "Multiple R-squared:  0.5506,\tAdjusted R-squared:  0.5502 \n",
       "F-statistic:  1223 on 1 and 998 DF,  p-value: < 2.2e-16\n",
       "\n"
      ]
     },
     "execution_count": 29,
     "metadata": {},
     "output_type": "execute_result"
    }
   ],
   "source": [
    "R\"\"\"\n",
    "lm(Y ~ X, $df) %>%\n",
    "    summary\n",
    "\"\"\""
   ]
  },
  {
   "cell_type": "code",
   "execution_count": 30,
   "metadata": {},
   "outputs": [
    {
     "name": "stdout",
     "output_type": "stream",
     "text": [
      "RMSE:\t1.7854\n",
      "R^2:\t0.5506\n"
     ]
    }
   ],
   "source": [
    "eval_model(model, df)"
   ]
  },
  {
   "cell_type": "markdown",
   "metadata": {},
   "source": [
    "# The Collider"
   ]
  },
  {
   "cell_type": "markdown",
   "metadata": {},
   "source": [
    "$X$ causes $Z$, $Y$ causes $Z$:"
   ]
  },
  {
   "cell_type": "code",
   "execution_count": 31,
   "metadata": {},
   "outputs": [
    {
     "data": {
      "text/html": [
       "<table class=\"data-frame\"><thead><tr><th></th><th>X</th><th>Z</th><th>Y</th></tr><tr><th></th><th>Float64</th><th>Float64</th><th>Float64</th></tr></thead><tbody><p>5 rows × 3 columns</p><tr><th>1</th><td>2.95804</td><td>15.6121</td><td>11.8255</td></tr><tr><th>2</th><td>4.15506</td><td>18.7824</td><td>12.0562</td></tr><tr><th>3</th><td>5.62719</td><td>23.2785</td><td>11.9277</td></tr><tr><th>4</th><td>4.64686</td><td>25.6021</td><td>16.6429</td></tr><tr><th>5</th><td>4.82417</td><td>26.6693</td><td>18.5938</td></tr></tbody></table>"
      ],
      "text/latex": [
       "\\begin{tabular}{r|ccc}\n",
       "\t& X & Z & Y\\\\\n",
       "\t\\hline\n",
       "\t& Float64 & Float64 & Float64\\\\\n",
       "\t\\hline\n",
       "\t1 & 2.95804 & 15.6121 & 11.8255 \\\\\n",
       "\t2 & 4.15506 & 18.7824 & 12.0562 \\\\\n",
       "\t3 & 5.62719 & 23.2785 & 11.9277 \\\\\n",
       "\t4 & 4.64686 & 25.6021 & 16.6429 \\\\\n",
       "\t5 & 4.82417 & 26.6693 & 18.5938 \\\\\n",
       "\\end{tabular}\n"
      ],
      "text/plain": [
       "5×3 DataFrame\n",
       "│ Row │ X       │ Z       │ Y       │\n",
       "│     │ \u001b[90mFloat64\u001b[39m │ \u001b[90mFloat64\u001b[39m │ \u001b[90mFloat64\u001b[39m │\n",
       "├─────┼─────────┼─────────┼─────────┤\n",
       "│ 1   │ 2.95804 │ 15.6121 │ 11.8255 │\n",
       "│ 2   │ 4.15506 │ 18.7824 │ 12.0562 │\n",
       "│ 3   │ 5.62719 │ 23.2785 │ 11.9277 │\n",
       "│ 4   │ 4.64686 │ 25.6021 │ 16.6429 │\n",
       "│ 5   │ 4.82417 │ 26.6693 │ 18.5938 │"
      ]
     },
     "execution_count": 31,
     "metadata": {},
     "output_type": "execute_result"
    }
   ],
   "source": [
    "x = rand(Normal(5, 1), n)\n",
    "y = rand(Uniform(10, 20), n)\n",
    "\n",
    "z = 2 * x + y + rand(Normal(), n)\n",
    "\n",
    "df = DataFrame(X = x, Z = z, Y = y)\n",
    "\n",
    "first(df, 5)"
   ]
  },
  {
   "cell_type": "markdown",
   "metadata": {},
   "source": [
    "Ground truth is $$Z = 2 X + Y $$"
   ]
  },
  {
   "cell_type": "markdown",
   "metadata": {},
   "source": [
    "Visualize:"
   ]
  },
  {
   "cell_type": "code",
   "execution_count": 32,
   "metadata": {},
   "outputs": [
    {
     "data": {
      "image/png": "[encoded data removed]"
     },
     "metadata": {},
     "output_type": "display_data"
    },
    {
     "data": {
      "text/plain": [
       "RObject{VecSxp}\n"
      ]
     },
     "execution_count": 32,
     "metadata": {},
     "output_type": "execute_result"
    }
   ],
   "source": [
    "R\"\"\"\n",
    "ggpairs($df)\n",
    "\"\"\""
   ]
  },
  {
   "cell_type": "markdown",
   "metadata": {},
   "source": [
    "Predict $Y$ as a function $X$ and $Z$:"
   ]
  },
  {
   "cell_type": "code",
   "execution_count": 33,
   "metadata": {},
   "outputs": [
    {
     "data": {
      "text/plain": [
       "StatsModels.TableRegressionModel{LinearModel{GLM.LmResp{Array{Float64,1}},GLM.DensePredChol{Float64,LinearAlgebra.Cholesky{Float64,Array{Float64,2}}}},Array{Float64,2}}\n",
       "\n",
       "Y ~ 1 + X + Z\n",
       "\n",
       "Coefficients:\n",
       "─────────────────────────────────────────────────────────────────────────────\n",
       "              Estimate  Std. Error    t value  Pr(>|t|)  Lower 95%  Upper 95%\n",
       "─────────────────────────────────────────────────────────────────────────────\n",
       "(Intercept)   1.75063   0.213823      8.18727    <1e-15   1.33103    2.17022\n",
       "X            -1.76118   0.0355712   -49.5115     <1e-99  -1.83098   -1.69138\n",
       "Z             0.881365  0.00994319   88.6401     <1e-99   0.861853   0.900877\n",
       "─────────────────────────────────────────────────────────────────────────────"
      ]
     },
     "execution_count": 33,
     "metadata": {},
     "output_type": "execute_result"
    }
   ],
   "source": [
    "model = lm(@formula(Y ~ X + Z), df)"
   ]
  },
  {
   "cell_type": "code",
   "execution_count": 34,
   "metadata": {},
   "outputs": [
    {
     "data": {
      "text/plain": [
       "RObject{VecSxp}\n",
       "\n",
       "Call:\n",
       "lm(formula = Y ~ X + Z, data = `#JL`$df)\n",
       "\n",
       "Residuals:\n",
       "    Min      1Q  Median      3Q     Max \n",
       "-3.7575 -0.6073  0.0187  0.6492  2.6555 \n",
       "\n",
       "Coefficients:\n",
       "             Estimate Std. Error t value Pr(>|t|)    \n",
       "(Intercept)  1.750628   0.213823   8.187 8.12e-16 ***\n",
       "X           -1.761181   0.035571 -49.511  < 2e-16 ***\n",
       "Z            0.881365   0.009943  88.640  < 2e-16 ***\n",
       "---\n",
       "Signif. codes:  0 ‘***’ 0.001 ‘**’ 0.01 ‘*’ 0.05 ‘.’ 0.1 ‘ ’ 1\n",
       "\n",
       "Residual standard error: 0.9677 on 997 degrees of freedom\n",
       "Multiple R-squared:  0.8874,\tAdjusted R-squared:  0.8872 \n",
       "F-statistic:  3930 on 2 and 997 DF,  p-value: < 2.2e-16\n",
       "\n"
      ]
     },
     "execution_count": 34,
     "metadata": {},
     "output_type": "execute_result"
    }
   ],
   "source": [
    "R\"\"\"\n",
    "lm(Y ~ X + Z, $df) %>%\n",
    "    summary\n",
    "\"\"\""
   ]
  },
  {
   "cell_type": "code",
   "execution_count": 35,
   "metadata": {},
   "outputs": [
    {
     "name": "stdout",
     "output_type": "stream",
     "text": [
      "RMSE:\t0.9663\n",
      "R^2:\t0.8874\n"
     ]
    }
   ],
   "source": [
    "eval_model(model, df)"
   ]
  },
  {
   "cell_type": "markdown",
   "metadata": {},
   "source": [
    "Predict $Y$ as a function fo $X$ only:"
   ]
  },
  {
   "cell_type": "code",
   "execution_count": 36,
   "metadata": {},
   "outputs": [
    {
     "data": {
      "text/plain": [
       "StatsModels.TableRegressionModel{LinearModel{GLM.LmResp{Array{Float64,1}},GLM.DensePredChol{Float64,LinearAlgebra.Cholesky{Float64,Array{Float64,2}}}},Array{Float64,2}}\n",
       "\n",
       "Y ~ 1 + X\n",
       "\n",
       "Coefficients:\n",
       "──────────────────────────────────────────────────────────────────────────────\n",
       "               Estimate  Std. Error    t value  Pr(>|t|)  Lower 95%  Upper 95%\n",
       "──────────────────────────────────────────────────────────────────────────────\n",
       "(Intercept)  15.1233      0.45133    33.5083      <1e-99  14.2376    16.0089\n",
       "X            -0.0462403   0.0889085  -0.520089    0.6031  -0.220709   0.128229\n",
       "──────────────────────────────────────────────────────────────────────────────"
      ]
     },
     "execution_count": 36,
     "metadata": {},
     "output_type": "execute_result"
    }
   ],
   "source": [
    "model = lm(@formula(Y ~ X), df)"
   ]
  },
  {
   "cell_type": "code",
   "execution_count": 37,
   "metadata": {},
   "outputs": [
    {
     "data": {
      "text/plain": [
       "RObject{VecSxp}\n",
       "\n",
       "Call:\n",
       "lm(formula = Y ~ X, data = `#JL`$df)\n",
       "\n",
       "Residuals:\n",
       "    Min      1Q  Median      3Q     Max \n",
       "-4.9250 -2.5000 -0.0075  2.4479  5.1793 \n",
       "\n",
       "Coefficients:\n",
       "            Estimate Std. Error t value Pr(>|t|)    \n",
       "(Intercept) 15.12328    0.45133   33.51   <2e-16 ***\n",
       "X           -0.04624    0.08891   -0.52    0.603    \n",
       "---\n",
       "Signif. codes:  0 ‘***’ 0.001 ‘**’ 0.01 ‘*’ 0.05 ‘.’ 0.1 ‘ ’ 1\n",
       "\n",
       "Residual standard error: 2.882 on 998 degrees of freedom\n",
       "Multiple R-squared:  0.000271,\tAdjusted R-squared:  -0.0007308 \n",
       "F-statistic: 0.2705 on 1 and 998 DF,  p-value: 0.6031\n",
       "\n"
      ]
     },
     "execution_count": 37,
     "metadata": {},
     "output_type": "execute_result"
    }
   ],
   "source": [
    "R\"\"\"\n",
    "lm(Y ~ X, $df) %>%\n",
    "    summary\n",
    "\"\"\""
   ]
  },
  {
   "cell_type": "code",
   "execution_count": 38,
   "metadata": {},
   "outputs": [
    {
     "name": "stdout",
     "output_type": "stream",
     "text": [
      "RMSE:\t2.8795\n",
      "R^2:\t0.0003\n"
     ]
    }
   ],
   "source": [
    "eval_model(model, df)"
   ]
  },
  {
   "cell_type": "markdown",
   "metadata": {},
   "source": [
    "Predict $Z$ as a function of $X$:"
   ]
  },
  {
   "cell_type": "code",
   "execution_count": 39,
   "metadata": {},
   "outputs": [
    {
     "data": {
      "text/plain": [
       "StatsModels.TableRegressionModel{LinearModel{GLM.LmResp{Array{Float64,1}},GLM.DensePredChol{Float64,LinearAlgebra.Cholesky{Float64,Array{Float64,2}}}},Array{Float64,2}}\n",
       "\n",
       "Z ~ 1 + X\n",
       "\n",
       "Coefficients:\n",
       "──────────────────────────────────────────────────────────────────────────\n",
       "             Estimate  Std. Error  t value  Pr(>|t|)  Lower 95%  Upper 95%\n",
       "──────────────────────────────────────────────────────────────────────────\n",
       "(Intercept)  15.1726    0.482388   31.4532    <1e-99    14.226    16.1193\n",
       "X             1.94578   0.0950268  20.4761    <1e-77     1.7593    2.13225\n",
       "──────────────────────────────────────────────────────────────────────────"
      ]
     },
     "execution_count": 39,
     "metadata": {},
     "output_type": "execute_result"
    }
   ],
   "source": [
    "model = lm(@formula(Z ~ X), df)"
   ]
  },
  {
   "cell_type": "code",
   "execution_count": 40,
   "metadata": {},
   "outputs": [
    {
     "data": {
      "text/plain": [
       "RObject{VecSxp}\n",
       "\n",
       "Call:\n",
       "lm(formula = Z ~ X, data = `#JL`$df)\n",
       "\n",
       "Residuals:\n",
       "   Min     1Q Median     3Q    Max \n",
       "-7.168 -2.455 -0.066  2.620  6.861 \n",
       "\n",
       "Coefficients:\n",
       "            Estimate Std. Error t value Pr(>|t|)    \n",
       "(Intercept) 15.17265    0.48239   31.45   <2e-16 ***\n",
       "X            1.94578    0.09503   20.48   <2e-16 ***\n",
       "---\n",
       "Signif. codes:  0 ‘***’ 0.001 ‘**’ 0.01 ‘*’ 0.05 ‘.’ 0.1 ‘ ’ 1\n",
       "\n",
       "Residual standard error: 3.081 on 998 degrees of freedom\n",
       "Multiple R-squared:  0.2958,\tAdjusted R-squared:  0.2951 \n",
       "F-statistic: 419.3 on 1 and 998 DF,  p-value: < 2.2e-16\n",
       "\n"
      ]
     },
     "execution_count": 40,
     "metadata": {},
     "output_type": "execute_result"
    }
   ],
   "source": [
    "R\"\"\"\n",
    "lm(Z ~ X, $df) %>%\n",
    "    summary\n",
    "\"\"\""
   ]
  },
  {
   "cell_type": "code",
   "execution_count": 41,
   "metadata": {},
   "outputs": [
    {
     "name": "stdout",
     "output_type": "stream",
     "text": [
      "RMSE:\t10.5607\n",
      "R^2:\t0.2958\n"
     ]
    }
   ],
   "source": [
    "eval_model(model, df)"
   ]
  },
  {
   "cell_type": "markdown",
   "metadata": {},
   "source": [
    "Predict $Z$ as a function of $Y$:"
   ]
  },
  {
   "cell_type": "code",
   "execution_count": 42,
   "metadata": {},
   "outputs": [
    {
     "data": {
      "text/plain": [
       "StatsModels.TableRegressionModel{LinearModel{GLM.LmResp{Array{Float64,1}},GLM.DensePredChol{Float64,LinearAlgebra.Cholesky{Float64,Array{Float64,2}}}},Array{Float64,2}}\n",
       "\n",
       "Z ~ 1 + Y\n",
       "\n",
       "Coefficients:\n",
       "───────────────────────────────────────────────────────────────────────────\n",
       "              Estimate  Std. Error  t value  Pr(>|t|)  Lower 95%  Upper 95%\n",
       "───────────────────────────────────────────────────────────────────────────\n",
       "(Intercept)  10.0251     0.381577   26.2729    <1e-99   9.27634    10.7739\n",
       "Y             0.995168   0.0251546  39.562     <1e-99   0.945806    1.04453\n",
       "───────────────────────────────────────────────────────────────────────────"
      ]
     },
     "execution_count": 42,
     "metadata": {},
     "output_type": "execute_result"
    }
   ],
   "source": [
    "model = lm(@formula(Z ~ Y), df)"
   ]
  },
  {
   "cell_type": "code",
   "execution_count": 43,
   "metadata": {},
   "outputs": [
    {
     "data": {
      "text/plain": [
       "RObject{VecSxp}\n",
       "\n",
       "Call:\n",
       "lm(formula = Z ~ Y, data = `#JL`$df)\n",
       "\n",
       "Residuals:\n",
       "    Min      1Q  Median      3Q     Max \n",
       "-6.8787 -1.5521  0.0318  1.5635  7.5436 \n",
       "\n",
       "Coefficients:\n",
       "            Estimate Std. Error t value Pr(>|t|)    \n",
       "(Intercept) 10.02513    0.38158   26.27   <2e-16 ***\n",
       "Y            0.99517    0.02515   39.56   <2e-16 ***\n",
       "---\n",
       "Signif. codes:  0 ‘***’ 0.001 ‘**’ 0.01 ‘*’ 0.05 ‘.’ 0.1 ‘ ’ 1\n",
       "\n",
       "Residual standard error: 2.291 on 998 degrees of freedom\n",
       "Multiple R-squared:  0.6106,\tAdjusted R-squared:  0.6102 \n",
       "F-statistic:  1565 on 1 and 998 DF,  p-value: < 2.2e-16\n",
       "\n"
      ]
     },
     "execution_count": 43,
     "metadata": {},
     "output_type": "execute_result"
    }
   ],
   "source": [
    "R\"\"\"\n",
    "lm(Z ~ Y, $df) %>%\n",
    "    summary\n",
    "\"\"\""
   ]
  },
  {
   "cell_type": "code",
   "execution_count": 44,
   "metadata": {},
   "outputs": [
    {
     "name": "stdout",
     "output_type": "stream",
     "text": [
      "RMSE:\t9.9532\n",
      "R^2:\t0.6106\n"
     ]
    }
   ],
   "source": [
    "eval_model(model, df)"
   ]
  },
  {
   "cell_type": "markdown",
   "metadata": {},
   "source": [
    "Predict $Z$ as function of $X$ and $Y$:"
   ]
  },
  {
   "cell_type": "code",
   "execution_count": 45,
   "metadata": {},
   "outputs": [
    {
     "data": {
      "text/plain": [
       "StatsModels.TableRegressionModel{LinearModel{GLM.LmResp{Array{Float64,1}},GLM.DensePredChol{Float64,LinearAlgebra.Cholesky{Float64,Array{Float64,2}}}},Array{Float64,2}}\n",
       "\n",
       "Z ~ 1 + X + Y\n",
       "\n",
       "Coefficients:\n",
       "──────────────────────────────────────────────────────────────────────────────\n",
       "               Estimate  Std. Error    t value  Pr(>|t|)  Lower 95%  Upper 95%\n",
       "──────────────────────────────────────────────────────────────────────────────\n",
       "(Intercept)  -0.0541111   0.236089   -0.229198    0.8188  -0.517399   0.409177\n",
       "X             1.99233     0.0319079  62.4401      <1e-99   1.92972    2.05495\n",
       "Y             1.00684     0.0113588  88.6401      <1e-99   0.984553   1.02913\n",
       "──────────────────────────────────────────────────────────────────────────────"
      ]
     },
     "execution_count": 45,
     "metadata": {},
     "output_type": "execute_result"
    }
   ],
   "source": [
    "model = lm(@formula(Z ~ X + Y), df)"
   ]
  },
  {
   "cell_type": "code",
   "execution_count": 46,
   "metadata": {},
   "outputs": [
    {
     "data": {
      "text/plain": [
       "RObject{VecSxp}\n",
       "\n",
       "Call:\n",
       "lm(formula = Z ~ X + Y, data = `#JL`$df)\n",
       "\n",
       "Residuals:\n",
       "    Min      1Q  Median      3Q     Max \n",
       "-3.0741 -0.6927  0.0055  0.6721  3.7903 \n",
       "\n",
       "Coefficients:\n",
       "            Estimate Std. Error t value Pr(>|t|)    \n",
       "(Intercept) -0.05411    0.23609  -0.229    0.819    \n",
       "X            1.99233    0.03191  62.440   <2e-16 ***\n",
       "Y            1.00684    0.01136  88.640   <2e-16 ***\n",
       "---\n",
       "Signif. codes:  0 ‘***’ 0.001 ‘**’ 0.01 ‘*’ 0.05 ‘.’ 0.1 ‘ ’ 1\n",
       "\n",
       "Residual standard error: 1.034 on 997 degrees of freedom\n",
       "Multiple R-squared:  0.9207,\tAdjusted R-squared:  0.9205 \n",
       "F-statistic:  5788 on 2 and 997 DF,  p-value: < 2.2e-16\n",
       "\n"
      ]
     },
     "execution_count": 46,
     "metadata": {},
     "output_type": "execute_result"
    }
   ],
   "source": [
    "R\"\"\"\n",
    "lm(Z ~ X + Y, $df) %>%\n",
    "    summary\n",
    "\"\"\""
   ]
  },
  {
   "cell_type": "code",
   "execution_count": 47,
   "metadata": {},
   "outputs": [
    {
     "name": "stdout",
     "output_type": "stream",
     "text": [
      "RMSE:\t10.1605\n",
      "R^2:\t0.9207\n"
     ]
    }
   ],
   "source": [
    "eval_model(model, df)"
   ]
  },
  {
   "cell_type": "markdown",
   "metadata": {},
   "source": [
    "# Waffles"
   ]
  },
  {
   "cell_type": "markdown",
   "metadata": {},
   "source": [
    "Data:"
   ]
  },
  {
   "cell_type": "code",
   "execution_count": 48,
   "metadata": {},
   "outputs": [
    {
     "data": {
      "text/html": [
       "<table class=\"data-frame\"><thead><tr><th></th><th>South</th><th>MedianAgeMarriage</th><th>Marriage</th><th>WaffleHouses</th><th>Divorce</th></tr><tr><th></th><th>Categorical…</th><th>Float64</th><th>Float64</th><th>Int64</th><th>Float64</th></tr></thead><tbody><p>5 rows × 5 columns</p><tr><th>1</th><td>1</td><td>25.3</td><td>20.2</td><td>128</td><td>12.7</td></tr><tr><th>2</th><td>0</td><td>25.2</td><td>26.0</td><td>0</td><td>12.5</td></tr><tr><th>3</th><td>0</td><td>25.8</td><td>20.3</td><td>18</td><td>10.8</td></tr><tr><th>4</th><td>1</td><td>24.3</td><td>26.4</td><td>41</td><td>13.5</td></tr><tr><th>5</th><td>0</td><td>26.8</td><td>19.1</td><td>0</td><td>8.0</td></tr></tbody></table>"
      ],
      "text/latex": [
       "\\begin{tabular}{r|ccccc}\n",
       "\t& South & MedianAgeMarriage & Marriage & WaffleHouses & Divorce\\\\\n",
       "\t\\hline\n",
       "\t& Categorical… & Float64 & Float64 & Int64 & Float64\\\\\n",
       "\t\\hline\n",
       "\t1 & 1 & 25.3 & 20.2 & 128 & 12.7 \\\\\n",
       "\t2 & 0 & 25.2 & 26.0 & 0 & 12.5 \\\\\n",
       "\t3 & 0 & 25.8 & 20.3 & 18 & 10.8 \\\\\n",
       "\t4 & 1 & 24.3 & 26.4 & 41 & 13.5 \\\\\n",
       "\t5 & 0 & 26.8 & 19.1 & 0 & 8.0 \\\\\n",
       "\\end{tabular}\n"
      ],
      "text/plain": [
       "5×5 DataFrame\n",
       "│ Row │ South        │ MedianAgeMarriage │ Marriage │ WaffleHouses │ Divorce │\n",
       "│     │ \u001b[90mCategorical…\u001b[39m │ \u001b[90mFloat64\u001b[39m           │ \u001b[90mFloat64\u001b[39m  │ \u001b[90mInt64\u001b[39m        │ \u001b[90mFloat64\u001b[39m │\n",
       "├─────┼──────────────┼───────────────────┼──────────┼──────────────┼─────────┤\n",
       "│ 1   │ 1            │ 25.3              │ 20.2     │ 128          │ 12.7    │\n",
       "│ 2   │ 0            │ 25.2              │ 26.0     │ 0            │ 12.5    │\n",
       "│ 3   │ 0            │ 25.8              │ 20.3     │ 18           │ 10.8    │\n",
       "│ 4   │ 1            │ 24.3              │ 26.4     │ 41           │ 13.5    │\n",
       "│ 5   │ 0            │ 26.8              │ 19.1     │ 0            │ 8.0     │"
      ]
     },
     "execution_count": 48,
     "metadata": {},
     "output_type": "execute_result"
    }
   ],
   "source": [
    "df = @from i in get_data(\"WaffleDivorce\") begin\n",
    "     @select {i.South, i.MedianAgeMarriage, i.Marriage, i.WaffleHouses, i.Divorce}\n",
    "     @collect DataFrame\n",
    "end\n",
    "\n",
    "categorical!(df, :South)\n",
    "first(df, 5)"
   ]
  },
  {
   "cell_type": "markdown",
   "metadata": {},
   "source": [
    "Visualize:"
   ]
  },
  {
   "cell_type": "code",
   "execution_count": 49,
   "metadata": {},
   "outputs": [
    {
     "data": {
      "image/png": "[encoded data removed]"
     },
     "metadata": {},
     "output_type": "display_data"
    },
    {
     "data": {
      "text/plain": [
       "RObject{VecSxp}\n"
      ]
     },
     "execution_count": 49,
     "metadata": {},
     "output_type": "execute_result"
    },
    {
     "name": "stderr",
     "output_type": "stream",
     "text": [
      "┌ Warning: RCall.jl: `stat_bin()` using `bins = 30`. Pick better value with `binwidth`.\n",
      "│ `stat_bin()` using `bins = 30`. Pick better value with `binwidth`.\n",
      "│ `stat_bin()` using `bins = 30`. Pick better value with `binwidth`.\n",
      "│ `stat_bin()` using `bins = 30`. Pick better value with `binwidth`.\n",
      "└ @ RCall /home/user/.julia/packages/RCall/paaBQ/src/io.jl:113\n"
     ]
    }
   ],
   "source": [
    "R\"\"\"\n",
    "ggpairs($df)\n",
    "\"\"\""
   ]
  },
  {
   "cell_type": "markdown",
   "metadata": {},
   "source": [
    "What are the factors that influence `Divorce`?"
   ]
  },
  {
   "cell_type": "code",
   "execution_count": 50,
   "metadata": {},
   "outputs": [
    {
     "data": {
      "text/plain": [
       "RObject{VecSxp}\n",
       "\n",
       "Call:\n",
       "lm(formula = Divorce ~ ., data = `#JL`$df)\n",
       "\n",
       "Residuals:\n",
       "    Min      1Q  Median      3Q     Max \n",
       "-4.0816 -0.9450  0.0297  0.8308  3.6046 \n",
       "\n",
       "Coefficients:\n",
       "                   Estimate Std. Error t value Pr(>|t|)    \n",
       "(Intercept)       33.470915   7.886981   4.244 0.000108 ***\n",
       "South1             0.560303   0.656888   0.853 0.398196    \n",
       "MedianAgeMarriage -0.892431   0.253175  -3.525 0.000986 ***\n",
       "Marriage          -0.038176   0.080427  -0.475 0.637323    \n",
       "WaffleHouses       0.002457   0.004387   0.560 0.578205    \n",
       "---\n",
       "Signif. codes:  0 ‘***’ 0.001 ‘**’ 0.01 ‘*’ 0.05 ‘.’ 0.1 ‘ ’ 1\n",
       "\n",
       "Residual standard error: 1.466 on 45 degrees of freedom\n",
       "Multiple R-squared:  0.405,\tAdjusted R-squared:  0.3522 \n",
       "F-statistic: 7.659 on 4 and 45 DF,  p-value: 8.526e-05\n",
       "\n"
      ]
     },
     "execution_count": 50,
     "metadata": {},
     "output_type": "execute_result"
    }
   ],
   "source": [
    "R\"\"\"\n",
    "lm(Divorce ~ ., $df) %>%\n",
    "    summary\n",
    "\"\"\""
   ]
  },
  {
   "cell_type": "markdown",
   "metadata": {},
   "source": [
    "Do Waffle Houses cause Divorce?"
   ]
  },
  {
   "cell_type": "code",
   "execution_count": 51,
   "metadata": {},
   "outputs": [
    {
     "data": {
      "text/plain": [
       "RObject{VecSxp}\n",
       "\n",
       "Call:\n",
       "lm(formula = Divorce ~ WaffleHouses, data = `#JL`$df)\n",
       "\n",
       "Residuals:\n",
       "    Min      1Q  Median      3Q     Max \n",
       "-3.3602 -1.3852 -0.1962  1.1239  3.7510 \n",
       "\n",
       "Coefficients:\n",
       "             Estimate Std. Error t value Pr(>|t|)    \n",
       "(Intercept)  9.460231   0.280917  33.676   <2e-16 ***\n",
       "WaffleHouses 0.007043   0.003863   1.823   0.0745 .  \n",
       "---\n",
       "Signif. codes:  0 ‘***’ 0.001 ‘**’ 0.01 ‘*’ 0.05 ‘.’ 0.1 ‘ ’ 1\n",
       "\n",
       "Residual standard error: 1.779 on 48 degrees of freedom\n",
       "Multiple R-squared:  0.06476,\tAdjusted R-squared:  0.04527 \n",
       "F-statistic: 3.324 on 1 and 48 DF,  p-value: 0.07452\n",
       "\n"
      ]
     },
     "execution_count": 51,
     "metadata": {},
     "output_type": "execute_result"
    }
   ],
   "source": [
    "R\"\"\"\n",
    "lm(Divorce ~ WaffleHouses, $df) %>%\n",
    "    summary\n",
    "\"\"\""
   ]
  },
  {
   "cell_type": "code",
   "execution_count": 52,
   "metadata": {},
   "outputs": [
    {
     "data": {
      "text/plain": [
       "RObject{VecSxp}\n",
       "\n",
       "Call:\n",
       "lm(formula = Divorce ~ WaffleHouses + South, data = `#JL`$df)\n",
       "\n",
       "Residuals:\n",
       "    Min      1Q  Median      3Q     Max \n",
       "-3.1959 -1.2959  0.1246  0.9791  3.7041 \n",
       "\n",
       "Coefficients:\n",
       "              Estimate Std. Error t value Pr(>|t|)    \n",
       "(Intercept)  9.2958758  0.2916480  31.874   <2e-16 ***\n",
       "WaffleHouses 0.0009222  0.0052066   0.177   0.8602    \n",
       "South1       1.2939325  0.7552357   1.713   0.0933 .  \n",
       "---\n",
       "Signif. codes:  0 ‘***’ 0.001 ‘**’ 0.01 ‘*’ 0.05 ‘.’ 0.1 ‘ ’ 1\n",
       "\n",
       "Residual standard error: 1.744 on 47 degrees of freedom\n",
       "Multiple R-squared:  0.1197,\tAdjusted R-squared:  0.08228 \n",
       "F-statistic: 3.196 on 2 and 47 DF,  p-value: 0.04994\n",
       "\n"
      ]
     },
     "execution_count": 52,
     "metadata": {},
     "output_type": "execute_result"
    }
   ],
   "source": [
    "R\"\"\"\n",
    "lm(Divorce ~ WaffleHouses + South, $df) %>%\n",
    "    summary\n",
    "\"\"\""
   ]
  },
  {
   "cell_type": "code",
   "execution_count": 53,
   "metadata": {},
   "outputs": [
    {
     "data": {
      "text/plain": [
       "RObject{VecSxp}\n",
       "\n",
       "Call:\n",
       "lm(formula = Divorce ~ WaffleHouses + MedianAgeMarriage + Marriage, \n",
       "    data = `#JL`$df)\n",
       "\n",
       "Residuals:\n",
       "    Min      1Q  Median      3Q     Max \n",
       "-4.2603 -0.8557  0.0613  0.9419  3.4942 \n",
       "\n",
       "Coefficients:\n",
       "                   Estimate Std. Error t value Pr(>|t|)    \n",
       "(Intercept)       35.085960   7.633619   4.596 3.36e-05 ***\n",
       "WaffleHouses       0.005002   0.003207   1.560  0.12562    \n",
       "MedianAgeMarriage -0.945234   0.244762  -3.862  0.00035 ***\n",
       "Marriage          -0.046366   0.079615  -0.582  0.56315    \n",
       "---\n",
       "Signif. codes:  0 ‘***’ 0.001 ‘**’ 0.01 ‘*’ 0.05 ‘.’ 0.1 ‘ ’ 1\n",
       "\n",
       "Residual standard error: 1.461 on 46 degrees of freedom\n",
       "Multiple R-squared:  0.3954,\tAdjusted R-squared:  0.356 \n",
       "F-statistic: 10.03 on 3 and 46 DF,  p-value: 3.352e-05\n",
       "\n"
      ]
     },
     "execution_count": 53,
     "metadata": {},
     "output_type": "execute_result"
    }
   ],
   "source": [
    "R\"\"\"\n",
    "lm(Divorce ~ WaffleHouses + MedianAgeMarriage + Marriage, $df) %>%\n",
    "    summary\n",
    "\"\"\""
   ]
  },
  {
   "cell_type": "code",
   "execution_count": 54,
   "metadata": {},
   "outputs": [
    {
     "data": {
      "text/plain": [
       "RObject{VecSxp}\n",
       "\n",
       "Call:\n",
       "lm(formula = Divorce ~ WaffleHouses + South + Marriage, data = `#JL`$df)\n",
       "\n",
       "Residuals:\n",
       "    Min      1Q  Median      3Q     Max \n",
       "-2.6213 -0.9508  0.0687  0.9325  4.7822 \n",
       "\n",
       "Coefficients:\n",
       "             Estimate Std. Error t value Pr(>|t|)    \n",
       "(Intercept)  5.956721   1.263077   4.716 2.26e-05 ***\n",
       "WaffleHouses 0.001452   0.004892   0.297  0.76792    \n",
       "South1       1.126476   0.711667   1.583  0.12030    \n",
       "Marriage     0.167491   0.061849   2.708  0.00947 ** \n",
       "---\n",
       "Signif. codes:  0 ‘***’ 0.001 ‘**’ 0.01 ‘*’ 0.05 ‘.’ 0.1 ‘ ’ 1\n",
       "\n",
       "Residual standard error: 1.637 on 46 degrees of freedom\n",
       "Multiple R-squared:  0.2408,\tAdjusted R-squared:  0.1913 \n",
       "F-statistic: 4.863 on 3 and 46 DF,  p-value: 0.00508\n",
       "\n"
      ]
     },
     "execution_count": 54,
     "metadata": {},
     "output_type": "execute_result"
    }
   ],
   "source": [
    "R\"\"\"\n",
    "lm(Divorce ~ WaffleHouses + South + Marriage, $df) %>%\n",
    "    summary\n",
    "\"\"\""
   ]
  },
  {
   "cell_type": "markdown",
   "metadata": {},
   "source": [
    "Automatically find best model:"
   ]
  },
  {
   "cell_type": "code",
   "execution_count": 55,
   "metadata": {},
   "outputs": [
    {
     "data": {
      "text/plain": [
       "RObject{VecSxp}\n",
       "\n",
       "Call:\n",
       "lm(formula = Divorce ~ South + MedianAgeMarriage, data = `#JL`$df)\n",
       "\n",
       "Residuals:\n",
       "    Min      1Q  Median      3Q     Max \n",
       "-4.0300 -0.9713  0.1251  1.0379  3.8242 \n",
       "\n",
       "Coefficients:\n",
       "                  Estimate Std. Error t value Pr(>|t|)    \n",
       "(Intercept)        30.2477     4.4952   6.729 2.11e-08 ***\n",
       "South1              0.8428     0.4690   1.797   0.0787 .  \n",
       "MedianAgeMarriage  -0.7982     0.1710  -4.667 2.57e-05 ***\n",
       "---\n",
       "Signif. codes:  0 ‘***’ 0.001 ‘**’ 0.01 ‘*’ 0.05 ‘.’ 0.1 ‘ ’ 1\n",
       "\n",
       "Residual standard error: 1.442 on 47 degrees of freedom\n",
       "Multiple R-squared:  0.3981,\tAdjusted R-squared:  0.3724 \n",
       "F-statistic: 15.54 on 2 and 47 DF,  p-value: 6.599e-06\n",
       "\n"
      ]
     },
     "execution_count": 55,
     "metadata": {},
     "output_type": "execute_result"
    }
   ],
   "source": [
    "R\"\"\"\n",
    "library(MASS)\n",
    "m <- lm(Divorce ~ ., $df)\n",
    "stepAIC(m, direction = \"both\", trace = FALSE) %>%\n",
    "    summary\n",
    "\"\"\""
   ]
  }
 ],
 "metadata": {
  "@webio": {
   "lastCommId": null,
   "lastKernelId": null
  },
  "kernelspec": {
   "display_name": "Julia 1.4.0",
   "language": "julia",
   "name": "julia-1.4"
  },
  "language_info": {
   "file_extension": ".jl",
   "mimetype": "application/julia",
   "name": "julia",
   "version": "1.4.0"
  },
  "toc": {
   "nav_menu": {},
   "number_sections": true,
   "sideBar": true,
   "skip_h1_title": false,
   "toc_cell": true,
   "toc_position": {},
   "toc_section_display": "block",
   "toc_window_display": true
  }
 },
 "nbformat": 4,
 "nbformat_minor": 2
}
