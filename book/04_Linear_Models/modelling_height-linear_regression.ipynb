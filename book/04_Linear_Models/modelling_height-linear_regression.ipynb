{
 "cells": [
  {
   "cell_type": "markdown",
   "metadata": {
    "toc": true
   },
   "source": [
    "<h1>Table of Contents<span class=\"tocSkip\"></span></h1>\n",
    "<div class=\"toc\" style=\"margin-top: 1em;\"><ul class=\"toc-item\"><li><span><a href=\"#Packages\" data-toc-modified-id=\"Packages-1\"><span class=\"toc-item-num\">1&nbsp;&nbsp;</span>Packages</a></span></li><li><span><a href=\"#Data\" data-toc-modified-id=\"Data-2\"><span class=\"toc-item-num\">2&nbsp;&nbsp;</span>Data</a></span></li><li><span><a href=\"#Choosing-Priors\" data-toc-modified-id=\"Choosing-Priors-3\"><span class=\"toc-item-num\">3&nbsp;&nbsp;</span>Choosing Priors</a></span></li><li><span><a href=\"#Model\" data-toc-modified-id=\"Model-4\"><span class=\"toc-item-num\">4&nbsp;&nbsp;</span>Model</a></span></li><li><span><a href=\"#Visualizing-Uncertainty\" data-toc-modified-id=\"Visualizing-Uncertainty-5\"><span class=\"toc-item-num\">5&nbsp;&nbsp;</span>Visualizing Uncertainty</a></span></li><li><span><a href=\"#Quantifying-Uncertainty\" data-toc-modified-id=\"Quantifying-Uncertainty-6\"><span class=\"toc-item-num\">6&nbsp;&nbsp;</span>Quantifying Uncertainty</a></span></li><li><span><a href=\"#Prediction-Intervals\" data-toc-modified-id=\"Prediction-Intervals-7\"><span class=\"toc-item-num\">7&nbsp;&nbsp;</span>Prediction Intervals</a></span></li><li><span><a href=\"#Percentile-Interval-(PI)-vs-Highest-Posterior-Density-Interval-(HPDI)\" data-toc-modified-id=\"Percentile-Interval-(PI)-vs-Highest-Posterior-Density-Interval-(HPDI)-8\"><span class=\"toc-item-num\">8&nbsp;&nbsp;</span>Percentile Interval (PI) vs Highest Posterior Density Interval (HPDI)</a></span></li></ul></div>"
   ]
  },
  {
   "cell_type": "markdown",
   "metadata": {},
   "source": [
    "# Packages"
   ]
  },
  {
   "cell_type": "code",
   "execution_count": 1,
   "metadata": {},
   "outputs": [
    {
     "name": "stdout",
     "output_type": "stream",
     "text": [
      "\n",
      "R version 3.6.2 (2019-12-12) -- \"Dark and Stormy Night\"\n",
      "Copyright (C) 2019 The R Foundation for Statistical Computing\n",
      "Platform: x86_64-w64-mingw32/x64 (64-bit)\n",
      "\n",
      "R is free software and comes with ABSOLUTELY NO WARRANTY.\n",
      "You are welcome to redistribute it under certain conditions.\n",
      "Type 'license()' or 'licence()' for distribution details.\n",
      "\n",
      "R is a collaborative project with many contributors.\n",
      "Type 'contributors()' for more information and\n",
      "'citation()' on how to cite R or R packages in publications.\n",
      "\n",
      "Type 'demo()' for some demos, 'help()' for on-line help, or\n",
      "'help.start()' for an HTML browser interface to help.\n",
      "Type 'q()' to quit R.\n",
      "\n"
     ]
    }
   ],
   "source": [
    "using RCall\n",
    "RCall.rcall_p(:options, rcalljl_options=Dict(:width => 800, :height => 400));"
   ]
  },
  {
   "cell_type": "code",
   "execution_count": 2,
   "metadata": {},
   "outputs": [],
   "source": [
    "using Query, HTTP, CSV, DataFrames"
   ]
  },
  {
   "cell_type": "code",
   "execution_count": 3,
   "metadata": {},
   "outputs": [],
   "source": [
    "using Distributions, Statistics"
   ]
  },
  {
   "cell_type": "code",
   "execution_count": 4,
   "metadata": {},
   "outputs": [],
   "source": [
    "using JuMP, Ipopt, ForwardDiff"
   ]
  },
  {
   "cell_type": "markdown",
   "metadata": {},
   "source": [
    "# Data"
   ]
  },
  {
   "cell_type": "markdown",
   "metadata": {},
   "source": [
    "Get the Howell1 dataset for adults only:"
   ]
  },
  {
   "cell_type": "code",
   "execution_count": 5,
   "metadata": {},
   "outputs": [
    {
     "data": {
      "text/html": [
       "<table class=\"data-frame\"><thead><tr><th></th><th>height</th><th>weight</th><th>age</th><th>male</th></tr><tr><th></th><th>Float64</th><th>Float64</th><th>Float64</th><th>Int64</th></tr></thead><tbody><p>5 rows × 4 columns</p><tr><th>1</th><td>151.765</td><td>47.8256</td><td>63.0</td><td>1</td></tr><tr><th>2</th><td>139.7</td><td>36.4858</td><td>63.0</td><td>0</td></tr><tr><th>3</th><td>136.525</td><td>31.8648</td><td>65.0</td><td>0</td></tr><tr><th>4</th><td>156.845</td><td>53.0419</td><td>41.0</td><td>1</td></tr><tr><th>5</th><td>145.415</td><td>41.2769</td><td>51.0</td><td>0</td></tr></tbody></table>"
      ],
      "text/latex": [
       "\\begin{tabular}{r|cccc}\n",
       "\t& height & weight & age & male\\\\\n",
       "\t\\hline\n",
       "\t& Float64 & Float64 & Float64 & Int64\\\\\n",
       "\t\\hline\n",
       "\t1 & 151.765 & 47.8256 & 63.0 & 1 \\\\\n",
       "\t2 & 139.7 & 36.4858 & 63.0 & 0 \\\\\n",
       "\t3 & 136.525 & 31.8648 & 65.0 & 0 \\\\\n",
       "\t4 & 156.845 & 53.0419 & 41.0 & 1 \\\\\n",
       "\t5 & 145.415 & 41.2769 & 51.0 & 0 \\\\\n",
       "\\end{tabular}\n"
      ],
      "text/plain": [
       "5×4 DataFrame\n",
       "│ Row │ height  │ weight  │ age     │ male  │\n",
       "│     │ \u001b[90mFloat64\u001b[39m │ \u001b[90mFloat64\u001b[39m │ \u001b[90mFloat64\u001b[39m │ \u001b[90mInt64\u001b[39m │\n",
       "├─────┼─────────┼─────────┼─────────┼───────┤\n",
       "│ 1   │ 151.765 │ 47.8256 │ 63.0    │ 1     │\n",
       "│ 2   │ 139.7   │ 36.4858 │ 63.0    │ 0     │\n",
       "│ 3   │ 136.525 │ 31.8648 │ 65.0    │ 0     │\n",
       "│ 4   │ 156.845 │ 53.0419 │ 41.0    │ 1     │\n",
       "│ 5   │ 145.415 │ 41.2769 │ 51.0    │ 0     │"
      ]
     },
     "execution_count": 5,
     "metadata": {},
     "output_type": "execute_result"
    }
   ],
   "source": [
    "file_url = \"https://raw.githubusercontent.com/rmcelreath/rethinking/master/data/Howell1.csv\"\n",
    "df = HTTP.get(file_url).body |> IOBuffer |> CSV.read\n",
    "\n",
    "adults = df |>\n",
    "    @filter(_.age >= 18) |>\n",
    "    DataFrame\n",
    "\n",
    "first(adults, 5)"
   ]
  },
  {
   "cell_type": "code",
   "execution_count": 6,
   "metadata": {},
   "outputs": [
    {
     "data": {
      "text/plain": [
       "\"352×4 DataFrame\""
      ]
     },
     "execution_count": 6,
     "metadata": {},
     "output_type": "execute_result"
    }
   ],
   "source": [
    "summary(adults)"
   ]
  },
  {
   "cell_type": "code",
   "execution_count": 7,
   "metadata": {},
   "outputs": [
    {
     "data": {
      "image/png": "[encoded data removed]"
     },
     "metadata": {},
     "output_type": "display_data"
    },
    {
     "data": {
      "text/plain": [
       "RObject{VecSxp}\n"
      ]
     },
     "execution_count": 7,
     "metadata": {},
     "output_type": "execute_result"
    }
   ],
   "source": [
    "R\"\"\"\n",
    "library(ggplot2)\n",
    "\n",
    "ggplot($adults, aes(weight, height)) +\n",
    "    geom_point()\n",
    "\n",
    "\"\"\""
   ]
  },
  {
   "cell_type": "markdown",
   "metadata": {},
   "source": [
    "# Choosing Priors"
   ]
  },
  {
   "cell_type": "markdown",
   "metadata": {},
   "source": [
    "Let's assume that heights follow a normal distribution and the mean height can be explained by weight:\n",
    "\n",
    "![](https://i.postimg.cc/Fz60RDHJ/Untitled.png)"
   ]
  },
  {
   "cell_type": "markdown",
   "metadata": {},
   "source": [
    "Let's see what the prior predictive distribution looks like for these given priors:"
   ]
  },
  {
   "cell_type": "markdown",
   "metadata": {},
   "source": [
    "Calculate the predictor variable:"
   ]
  },
  {
   "cell_type": "code",
   "execution_count": 8,
   "metadata": {},
   "outputs": [],
   "source": [
    "xs = adults.weight .- mean(adults.weight);"
   ]
  },
  {
   "cell_type": "markdown",
   "metadata": {},
   "source": [
    "Sample some parameters from the prior distributions:"
   ]
  },
  {
   "cell_type": "code",
   "execution_count": 9,
   "metadata": {},
   "outputs": [],
   "source": [
    "const trials = Integer(1e3)\n",
    "\n",
    "sample_α(n::Integer)::Vector = begin\n",
    "    d = Normal(178, 100)\n",
    "    rand(d, n)\n",
    "end\n",
    "\n",
    "sample_β(n::Integer)::Vector = begin\n",
    "    d = Normal(0, 10)\n",
    "    rand(d, n)\n",
    "end\n",
    "\n",
    "sample_params = zip(sample_α(trials), sample_β(trials));"
   ]
  },
  {
   "cell_type": "markdown",
   "metadata": {},
   "source": [
    "Generate predictions based on the priors:"
   ]
  },
  {
   "cell_type": "code",
   "execution_count": 10,
   "metadata": {},
   "outputs": [],
   "source": [
    "sample_predictions = map(sample_params) do (α, β)\n",
    "    ys = α .+ β .* xs\n",
    "end\n",
    ";"
   ]
  },
  {
   "cell_type": "markdown",
   "metadata": {},
   "source": [
    "Concatenate results into a long dataframe for plotting:"
   ]
  },
  {
   "cell_type": "code",
   "execution_count": 11,
   "metadata": {},
   "outputs": [
    {
     "name": "stderr",
     "output_type": "stream",
     "text": [
      "┌ Warning: RCall.jl: \n",
      "│ Attaching package: 'dplyr'\n",
      "│ \n",
      "│ The following objects are masked from 'package:stats':\n",
      "│ \n",
      "│     filter, lag\n",
      "│ \n",
      "│ The following objects are masked from 'package:base':\n",
      "│ \n",
      "│     intersect, setdiff, setequal, union\n",
      "│ \n",
      "└ @ RCall C:\\Users\\mshukri\\.julia\\packages\\RCall\\lAV2K\\src\\io.jl:113\n"
     ]
    },
    {
     "data": {
      "image/png": "[encoded data removed]"
     },
     "metadata": {},
     "output_type": "display_data"
    },
    {
     "data": {
      "text/plain": [
       "RObject{VecSxp}\n"
      ]
     },
     "execution_count": 11,
     "metadata": {},
     "output_type": "execute_result"
    }
   ],
   "source": [
    "plot_df = vcat([[adults.weight sample_prediction fill(i, 352)] for (\n",
    "    i,\n",
    "    sample_prediction,\n",
    ") in enumerate(sample_predictions)]...) |>\n",
    "(m -> DataFrame(m, [:weight, :height, :sample]))\n",
    "\n",
    "R\"\"\"\n",
    "library(ggplot2)\n",
    "library(dplyr)\n",
    "\n",
    "$plot_df %>%\n",
    "    ggplot(aes(weight, height, group=factor(sample))) +\n",
    "    geom_line(show.legend=FALSE, alpha=0.05)\n",
    "\"\"\"\n"
   ]
  },
  {
   "cell_type": "markdown",
   "metadata": {},
   "source": [
    "Let's try with the following priors:\n",
    "\n",
    "![](https://i.postimg.cc/y8KHf78G/Untitled.png)"
   ]
  },
  {
   "cell_type": "code",
   "execution_count": 12,
   "metadata": {},
   "outputs": [],
   "source": [
    "const trials = Integer(1e3)\n",
    "\n",
    "sample_α(n::Integer)::Vector = begin\n",
    "    d = Normal(178, 100)\n",
    "    rand(d, n)\n",
    "end\n",
    "\n",
    "sample_β(n::Integer)::Vector = begin\n",
    "    d = LogNormal(0, 1)\n",
    "    rand(d, n)\n",
    "end\n",
    "\n",
    "sample_params = zip(sample_α(trials), sample_β(trials));"
   ]
  },
  {
   "cell_type": "code",
   "execution_count": 13,
   "metadata": {},
   "outputs": [],
   "source": [
    "sample_predictions = map(sample_params) do (α, β)\n",
    "    ys = α .+ β .* xs\n",
    "end\n",
    ";"
   ]
  },
  {
   "cell_type": "code",
   "execution_count": 14,
   "metadata": {},
   "outputs": [
    {
     "data": {
      "image/png": "[encoded data removed]"
     },
     "metadata": {},
     "output_type": "display_data"
    },
    {
     "data": {
      "text/plain": [
       "RObject{VecSxp}\n"
      ]
     },
     "execution_count": 14,
     "metadata": {},
     "output_type": "execute_result"
    }
   ],
   "source": [
    "plot_df = vcat([[adults.weight sample_prediction fill(i, 352)] for (\n",
    "    i,\n",
    "    sample_prediction,\n",
    ") in enumerate(sample_predictions)]...) |>\n",
    "(m -> DataFrame(m, [:weight, :height, :sample]))\n",
    "\n",
    "R\"\"\"\n",
    "library(ggplot2)\n",
    "library(dplyr)\n",
    "\n",
    "$plot_df %>%\n",
    "    ggplot(aes(weight, height, group=factor(sample))) +\n",
    "    geom_line(show.legend=FALSE, alpha=0.05)\n",
    "\"\"\""
   ]
  },
  {
   "cell_type": "markdown",
   "metadata": {},
   "source": [
    "# Model"
   ]
  },
  {
   "cell_type": "markdown",
   "metadata": {},
   "source": [
    "We will fit the model using the quadratic approximation method."
   ]
  },
  {
   "cell_type": "markdown",
   "metadata": {},
   "source": [
    "Define the objective function:"
   ]
  },
  {
   "cell_type": "code",
   "execution_count": 15,
   "metadata": {},
   "outputs": [],
   "source": [
    "data = zip(xs, adults.height);"
   ]
  },
  {
   "cell_type": "code",
   "execution_count": 16,
   "metadata": {},
   "outputs": [],
   "source": [
    "prior_α = Normal(178, 100)\n",
    "prior_β = LogNormal(0, 1)\n",
    "prior_σ = Uniform(0, 50);"
   ]
  },
  {
   "cell_type": "code",
   "execution_count": 17,
   "metadata": {},
   "outputs": [],
   "source": [
    "# log likelihood of the data\n",
    "ll_data(α, β, σ) = begin\n",
    "    log_probs = map(data) do (x, y)\n",
    "        μ = α + β * x\n",
    "        d = Normal(μ, σ)\n",
    "        logpdf(d, y)\n",
    "    end\n",
    "    log_probs |> sum\n",
    "end\n",
    "\n",
    "# log of the joint probability of the priors, assuming independence\n",
    "l_joint_priors(α, β, σ) = logpdf(prior_α, α) +\n",
    "    logpdf(prior_β, β) +\n",
    "    logpdf(prior_σ, σ)\n",
    "\n",
    "objective_fn(α, β, σ) = ll_data(α, β, σ) + l_joint_priors(α, β, σ);"
   ]
  },
  {
   "cell_type": "markdown",
   "metadata": {},
   "source": [
    "Maximize the objective function:"
   ]
  },
  {
   "cell_type": "code",
   "execution_count": 18,
   "metadata": {},
   "outputs": [],
   "source": [
    "model = Model(with_optimizer(Ipopt.Optimizer))\n",
    "\n",
    "register(model, :objective_fn, 3, objective_fn, autodiff=true)\n",
    "\n",
    "@variable(model, 98 <= α <= 258, start = rand(prior_α))\n",
    "@variable(model, 0 <= β <= 10, start = rand(prior_β))\n",
    "@variable(model, 0 <= σ <= 100, start = rand(prior_σ))\n",
    "\n",
    "@NLobjective(model, Max, objective_fn(α, β, σ))"
   ]
  },
  {
   "cell_type": "code",
   "execution_count": 19,
   "metadata": {},
   "outputs": [
    {
     "name": "stdout",
     "output_type": "stream",
     "text": [
      "\r\n",
      "******************************************************************************\r\n",
      "This program contains Ipopt, a library for large-scale nonlinear optimization.\r\n",
      " Ipopt is released as open source code under the Eclipse Public License (EPL).\r\n",
      "         For more information visit http://projects.coin-or.org/Ipopt\r\n",
      "******************************************************************************\r\n",
      "\r\n",
      "This is Ipopt version 3.12.10, running with linear solver mumps.\r\n",
      "NOTE: Other linear solvers might be more efficient (see Ipopt documentation).\r\n",
      "\r\n",
      "Number of nonzeros in equality constraint Jacobian...:        0\r\n",
      "Number of nonzeros in inequality constraint Jacobian.:        0\r\n",
      "Number of nonzeros in Lagrangian Hessian.............:        0\r\n",
      "\r\n",
      "Total number of variables............................:        3\r\n",
      "                     variables with only lower bounds:        0\r\n",
      "                variables with lower and upper bounds:        3\r\n",
      "                     variables with only upper bounds:        0\r\n",
      "Total number of equality constraints.................:        0\r\n",
      "Total number of inequality constraints...............:        0\r\n",
      "        inequality constraints with only lower bounds:        0\r\n",
      "   inequality constraints with lower and upper bounds:        0\r\n",
      "        inequality constraints with only upper bounds:        0\r\n",
      "\r\n",
      "iter    objective    inf_pr   inf_du lg(mu)  ||d||  lg(rg) alpha_du alpha_pr  ls\r\n",
      "   0  3.7765958e+03 0.00e+00 9.33e+01   0.0 0.00e+00    -  0.00e+00 0.00e+00   0\r\n",
      "Warning: Cutting back alpha due to evaluation error\r\n",
      "Warning: Cutting back alpha due to evaluation error\r\n",
      "   1  2.4493379e+03 0.00e+00 1.51e+01   1.5 8.96e+01    -  3.22e-01 1.97e-01f  3\r\n",
      "Warning: Cutting back alpha due to evaluation error\r\n",
      "   2  2.3838841e+03 0.00e+00 1.34e+01   0.5 3.83e+00    -  1.00e+00 5.00e-01f  2\r\n",
      "Warning: Cutting back alpha due to evaluation error\r\n",
      "Warning: Cutting back alpha due to evaluation error\r\n",
      "Warning: Cutting back alpha due to evaluation error\r\n",
      "   3  2.3385291e+03 0.00e+00 1.17e+01  -0.2 1.16e+01    -  9.94e-01 1.25e-01f  4\r\n",
      "Warning: Cutting back alpha due to evaluation error\r\n",
      "Warning: Cutting back alpha due to evaluation error\r\n",
      "Warning: Cutting back alpha due to evaluation error\r\n",
      "Warning: Cutting back alpha due to evaluation error\r\n",
      "   4  2.3130530e+03 0.00e+00 1.09e+01  -0.2 1.79e+01    -  1.00e+00 6.25e-02f  5\r\n",
      "Warning: Cutting back alpha due to evaluation error\r\n",
      "Warning: Cutting back alpha due to evaluation error\r\n",
      "Warning: Cutting back alpha due to evaluation error\r\n",
      "Warning: Cutting back alpha due to evaluation error\r\n",
      "Warning: Cutting back alpha due to evaluation error\r\n",
      "Warning: Cutting back alpha due to evaluation error\r\n",
      "Warning: Cutting back alpha due to evaluation error\r\n",
      "Warning: Cutting back alpha due to evaluation error\r\n",
      "   5  2.3124654e+03 0.00e+00 1.08e+01  -0.4 2.88e+01    -  9.96e-01 1.10e-03f  9\r\n",
      "Warning: Cutting back alpha due to evaluation error\r\n",
      "Warning: Cutting back alpha due to evaluation error\r\n",
      "Warning: Cutting back alpha due to evaluation error\r\n",
      "Warning: Cutting back alpha due to evaluation error\r\n",
      "Warning: Cutting back alpha due to evaluation error\r\n",
      "Warning: Cutting back alpha due to evaluation error\r\n",
      "Warning: Cutting back alpha due to evaluation error\r\n",
      "Warning: Cutting back alpha due to evaluation error\r\n",
      "Warning: Cutting back alpha due to evaluation error\r\n",
      "Warning: Cutting back alpha due to evaluation error\r\n",
      "Warning: Cutting back alpha due to evaluation error\r\n",
      "   6  2.3121196e+03 0.00e+00 1.08e+01   0.8 7.33e+01    -  1.88e-01 2.99e-04f 12\r\n",
      "Warning: Cutting back alpha due to evaluation error\r\n",
      "Warning: Cutting back alpha due to evaluation error\r\n",
      "Warning: Cutting back alpha due to evaluation error\r\n",
      "Warning: Cutting back alpha due to evaluation error\r\n",
      "Warning: Cutting back alpha due to evaluation error\r\n",
      "Warning: Cutting back alpha due to evaluation error\r\n",
      "Warning: Cutting back alpha due to evaluation error\r\n",
      "Warning: Cutting back alpha due to evaluation error\r\n",
      "Warning: Cutting back alpha due to evaluation error\r\n",
      "   7  2.3115617e+03 0.00e+00 1.08e+01   0.7 7.44e+01    -  7.72e-01 5.21e-04f 10\r\n",
      "   8  1.7095259e+03 0.00e+00 7.24e+00  -0.8 1.15e+02    -  7.36e-01 1.00e+00f  1\r\n",
      "   9  1.6648878e+03 0.00e+00 9.14e+01  -0.0 2.94e+01    -  9.84e-01 6.01e-01f  1\r\n",
      "iter    objective    inf_pr   inf_du lg(mu)  ||d||  lg(rg) alpha_du alpha_pr  ls\r\n",
      "  10  1.6685795e+03 0.00e+00 4.94e+00   0.2 5.22e+01    -  1.00e+00 2.50e-01f  3\r\n",
      "  11  1.6428743e+03 0.00e+00 5.15e+00   0.2 1.87e+01    -  1.00e+00 1.00e+00f  1\r\n",
      "  12  1.4743584e+03 0.00e+00 7.75e+00  -0.4 1.61e+01    -  9.76e-01 1.00e+00f  1\r\n",
      "  13  1.2593821e+03 0.00e+00 2.14e+01  -1.0 2.17e+01    -  1.00e+00 5.00e-01f  2\r\n",
      "  14  1.1511661e+03 0.00e+00 9.48e+01  -1.2 4.36e+01    -  1.00e+00 1.39e-01f  2\r\n",
      "  15  1.1274199e+03 0.00e+00 4.79e+01   1.3 7.18e+01    -  1.88e-02 8.18e-03f  5\r\n",
      "  16  1.1192370e+03 0.00e+00 1.38e+01  -1.9 1.86e-01    -  1.00e+00 1.00e+00f  1\r\n",
      "  17  1.1173225e+03 0.00e+00 1.35e+01  -3.8 7.20e-02    -  1.00e+00 1.00e+00f  1\r\n",
      "  18  1.0936940e+03 0.00e+00 4.33e+01  -5.2 1.35e+00    -  1.00e+00 1.00e+00f  1\r\n",
      "  19  1.0833580e+03 0.00e+00 1.18e+01  -5.0 1.40e+00    -  1.00e+00 1.00e+00f  1\r\n",
      "iter    objective    inf_pr   inf_du lg(mu)  ||d||  lg(rg) alpha_du alpha_pr  ls\r\n",
      "  20  1.0817253e+03 0.00e+00 4.18e+00  -6.1 5.03e-01    -  1.00e+00 1.00e+00f  1\r\n",
      "  21  1.0813051e+03 0.00e+00 3.02e-01  -7.8 1.55e-01    -  1.00e+00 1.00e+00f  1\r\n",
      "  22  1.0812988e+03 0.00e+00 2.28e-01  -9.4 2.17e-02    -  1.00e+00 1.00e+00f  1\r\n",
      "  23  1.0812986e+03 0.00e+00 4.60e-02 -11.0 2.50e-03    -  1.00e+00 1.00e+00f  1\r\n",
      "  24  1.0812986e+03 0.00e+00 5.79e-03 -11.0 1.90e-04    -  1.00e+00 1.00e+00f  1\r\n",
      "  25  1.0812986e+03 0.00e+00 3.35e-04 -11.0 1.07e-04    -  1.00e+00 1.00e+00f  1\r\n",
      "  26  1.0812986e+03 0.00e+00 5.54e-04 -11.0 1.69e-05    -  1.00e+00 1.00e+00f  1\r\n",
      "  27  1.0812986e+03 0.00e+00 2.55e-05 -11.0 4.39e-06    -  1.00e+00 1.00e+00f  1\r\n",
      "  28  1.0812986e+03 0.00e+00 1.18e-06 -11.0 2.44e-07    -  1.00e+00 1.00e+00f  1\r\n",
      "  29  1.0812986e+03 0.00e+00 5.59e-07 -11.0 6.22e-08    -  1.00e+00 1.00e+00f  1\r\n",
      "iter    objective    inf_pr   inf_du lg(mu)  ||d||  lg(rg) alpha_du alpha_pr  ls\r\n",
      "  30  1.0812986e+03 0.00e+00 2.85e-09 -11.0 2.96e-08    -  1.00e+00 1.00e+00f  1\r\n",
      "\r\n",
      "Number of Iterations....: 30\r\n",
      "\r\n",
      "                                   (scaled)                 (unscaled)\r\n",
      "Objective...............:   6.8991816186576466e+02    1.0812986367692447e+03\r\n",
      "Dual infeasibility......:   2.8531215625176703e-09    4.4716556638315440e-09\r\n",
      "Constraint violation....:   0.0000000000000000e+00    0.0000000000000000e+00\r\n",
      "Complementarity.........:   9.9999999999999994e-12    1.5672853630132870e-11\r\n",
      "Overall NLP error.......:   2.8531215625176703e-09    4.4716556638315440e-09\r\n",
      "\r\n",
      "\r\n",
      "Number of objective function evaluations             = 93\r\n",
      "Number of objective gradient evaluations             = 31\r\n",
      "Number of equality constraint evaluations            = 0\r\n",
      "Number of inequality constraint evaluations          = 0\r\n",
      "Number of equality constraint Jacobian evaluations   = 0\r\n",
      "Number of inequality constraint Jacobian evaluations = 0\r\n",
      "Number of Lagrangian Hessian evaluations             = 0\r\n",
      "Total CPU secs in IPOPT (w/o function evaluations)   =      4.104\r\n",
      "Total CPU secs in NLP function evaluations           =      0.071\r\n",
      "\r\n",
      "EXIT: Optimal Solution Found.\r\n"
     ]
    }
   ],
   "source": [
    "optimize!(model)"
   ]
  },
  {
   "cell_type": "markdown",
   "metadata": {},
   "source": [
    "Extract the optimal solution:"
   ]
  },
  {
   "cell_type": "code",
   "execution_count": 20,
   "metadata": {},
   "outputs": [
    {
     "data": {
      "text/plain": [
       "3-element Array{Float64,1}:\n",
       " 154.5972636393997   \n",
       "   0.9032808875670512\n",
       "   5.071878533581327 "
      ]
     },
     "execution_count": 20,
     "metadata": {},
     "output_type": "execute_result"
    }
   ],
   "source": [
    "optimal_points = [α, β, σ] .|> value"
   ]
  },
  {
   "cell_type": "markdown",
   "metadata": {},
   "source": [
    "Compare the optimal solution using linear least squares with QR decomposition:"
   ]
  },
  {
   "cell_type": "code",
   "execution_count": 21,
   "metadata": {},
   "outputs": [
    {
     "data": {
      "text/plain": [
       "RObject{VecSxp}\n",
       "\n",
       "Call:\n",
       "lm(formula = height ~ scale(weight, center = TRUE, scale = FALSE), \n",
       "    data = `#JL`$adults)\n",
       "\n",
       "Coefficients:\n",
       "                                (Intercept)  \n",
       "                                    154.597  \n",
       "scale(weight, center = TRUE, scale = FALSE)  \n",
       "                                      0.905  \n",
       "\n"
      ]
     },
     "execution_count": 21,
     "metadata": {},
     "output_type": "execute_result"
    }
   ],
   "source": [
    "R\"\"\"\n",
    "lm(height ~ scale(weight, center = TRUE, scale = FALSE), $adults)\n",
    "\n",
    "\"\"\""
   ]
  },
  {
   "cell_type": "code",
   "execution_count": 22,
   "metadata": {},
   "outputs": [
    {
     "data": {
      "text/plain": [
       "-1081.2986367692447"
      ]
     },
     "execution_count": 22,
     "metadata": {},
     "output_type": "execute_result"
    }
   ],
   "source": [
    "objective_fn(optimal_points...)"
   ]
  },
  {
   "cell_type": "markdown",
   "metadata": {},
   "source": [
    "Extract the covariance matrix:"
   ]
  },
  {
   "cell_type": "code",
   "execution_count": 23,
   "metadata": {},
   "outputs": [
    {
     "data": {
      "text/plain": [
       "3×3 Array{Float64,2}:\n",
       "  0.0730789   -1.69844e-9   2.46427e-6\n",
       " -1.69844e-9   0.00175759  -2.51844e-5\n",
       "  2.46427e-6  -2.51844e-5   0.0365401 "
      ]
     },
     "execution_count": 23,
     "metadata": {},
     "output_type": "execute_result"
    }
   ],
   "source": [
    "f(x::Vector) = begin\n",
    "    α, β, σ = x\n",
    "    objective_fn(α, β, σ)\n",
    "end\n",
    "\n",
    "H(x::Vector) = ForwardDiff.hessian(f, x)\n",
    "\n",
    "covar_mat = inv(-1 * H(optimal_points))"
   ]
  },
  {
   "cell_type": "markdown",
   "metadata": {},
   "source": [
    "Plot the best line according to MAP:"
   ]
  },
  {
   "cell_type": "code",
   "execution_count": 24,
   "metadata": {},
   "outputs": [
    {
     "data": {
      "image/png": "[encoded data removed]"
     },
     "metadata": {},
     "output_type": "display_data"
    },
    {
     "data": {
      "text/plain": [
       "RObject{VecSxp}\n"
      ]
     },
     "execution_count": 24,
     "metadata": {},
     "output_type": "execute_result"
    }
   ],
   "source": [
    "optim_α, optim_β, _ = optimal_points\n",
    "\n",
    "pred_heights = optim_α .+ optim_β .* xs;\n",
    "\n",
    "R\"\"\"\n",
    "library(ggplot2)\n",
    "library(dplyr)\n",
    "\n",
    "$adults %>%\n",
    "    ggplot(aes(weight, height)) +\n",
    "    geom_point() +\n",
    "    geom_line(aes(x=$adults$weight, y=$pred_heights), color=\"blue\")\n",
    "\"\"\""
   ]
  },
  {
   "cell_type": "markdown",
   "metadata": {},
   "source": [
    "# Visualizing Uncertainty"
   ]
  },
  {
   "cell_type": "markdown",
   "metadata": {},
   "source": [
    "We will sample the parameters from the posterior distribution and construct a line for each sample to understand the uncertainty at each predicted average height given weight."
   ]
  },
  {
   "cell_type": "code",
   "execution_count": 25,
   "metadata": {},
   "outputs": [],
   "source": [
    "# not rounding the covariance matrix will throw a PosDefException\n",
    "covar_mat_r = map(covar_mat) do x\n",
    "    round(x, digits=5)\n",
    "end\n",
    "\n",
    "posterior_d = MultivariateNormal(optimal_points, covar_mat_r)\n",
    "sample_params = rand(posterior_d, trials)\n",
    "\n",
    "predictions = map(eachcol(sample_params)) do (α, β, _)\n",
    "    α .+ β .* xs\n",
    "end;"
   ]
  },
  {
   "cell_type": "code",
   "execution_count": 26,
   "metadata": {},
   "outputs": [
    {
     "data": {
      "image/png": "[encoded data removed]"
     },
     "metadata": {},
     "output_type": "display_data"
    },
    {
     "data": {
      "text/plain": [
       "RObject{VecSxp}\n"
      ]
     },
     "execution_count": 26,
     "metadata": {},
     "output_type": "execute_result"
    }
   ],
   "source": [
    "plot_df = vcat([[adults.weight prediction fill(i, 352)] for (\n",
    "    i,\n",
    "    prediction,\n",
    ") in enumerate(predictions)]...)\n",
    "\n",
    "plot_df = DataFrame(plot_df, [:weight, :height, :sample])\n",
    "\n",
    "R\"\"\"\n",
    "library(ggplot2)\n",
    "library(dplyr)\n",
    "\n",
    "$adults %>%\n",
    "    ggplot(aes(weight, height)) +\n",
    "    geom_point(alpha=0.5, shape=1) +\n",
    "    geom_line(aes(weight, height, group=sample), data=$plot_df, color = \"blue\", alpha=0.01)\n",
    "\n",
    "\"\"\""
   ]
  },
  {
   "cell_type": "markdown",
   "metadata": {},
   "source": [
    "# Quantifying Uncertainty"
   ]
  },
  {
   "cell_type": "markdown",
   "metadata": {},
   "source": [
    "We can compute an interval around the mean prediction of the height given a weight.\n",
    "\n",
    "For example, if the weight is 50, then the distribution of the prediction of the mean height is:"
   ]
  },
  {
   "cell_type": "code",
   "execution_count": 27,
   "metadata": {},
   "outputs": [],
   "source": [
    "x = 50 - mean(adults.weight)\n",
    "\n",
    "pred_height = map(eachcol(sample_params)) do (α, β, _)\n",
    "    α + β * x\n",
    "end;"
   ]
  },
  {
   "cell_type": "code",
   "execution_count": 28,
   "metadata": {},
   "outputs": [
    {
     "data": {
      "image/png": "[encoded data removed]"
     },
     "metadata": {},
     "output_type": "display_data"
    },
    {
     "data": {
      "text/plain": [
       "RObject{VecSxp}\n"
      ]
     },
     "execution_count": 28,
     "metadata": {},
     "output_type": "execute_result"
    }
   ],
   "source": [
    "R\"\"\"\n",
    "library(ggplot2)\n",
    "library(dplyr)\n",
    "\n",
    "tibble::enframe($pred_height, value = \"pred_height\") %>%\n",
    "    ggplot(aes(x = pred_height)) +\n",
    "    geom_density(color = \"blue\") +\n",
    "    xlab(\"height\")\n",
    "\"\"\""
   ]
  },
  {
   "cell_type": "code",
   "execution_count": 29,
   "metadata": {},
   "outputs": [
    {
     "name": "stderr",
     "output_type": "stream",
     "text": [
      "┌ Warning: RCall.jl: Loading required package: rstan\n",
      "│ Loading required package: StanHeaders\n",
      "│ rstan (Version 2.19.3, GitRev: 2e1f913d3ca3)\n",
      "│ For execution on a local, multicore CPU with excess RAM we recommend calling\n",
      "│ options(mc.cores = parallel::detectCores()).\n",
      "│ To avoid recompilation of unchanged Stan programs, we recommend calling\n",
      "│ rstan_options(auto_write = TRUE)\n",
      "│ For improved execution time, we recommend calling\n",
      "│ Sys.setenv(LOCAL_CPPFLAGS = '-march=corei7 -mtune=corei7')\n",
      "│ although this causes Stan to throw an error on a few processors.\n",
      "│ Loading required package: parallel\n",
      "│ rethinking (Version 1.59)\n",
      "└ @ RCall C:\\Users\\mshukri\\.julia\\packages\\RCall\\lAV2K\\src\\io.jl:113\n"
     ]
    },
    {
     "data": {
      "text/plain": [
       "RObject{RealSxp}\n",
       "   |0.89    0.89| \n",
       "158.5144 159.6301 \n"
      ]
     },
     "execution_count": 29,
     "metadata": {},
     "output_type": "execute_result"
    }
   ],
   "source": [
    "R\"\"\"\n",
    "library(rethinking)\n",
    "HPDI($pred_height)\n",
    "\"\"\""
   ]
  },
  {
   "cell_type": "code",
   "execution_count": 30,
   "metadata": {},
   "outputs": [
    {
     "data": {
      "text/plain": [
       "2-element Array{Float64,1}:\n",
       " 158.51444358979865\n",
       " 159.630068931303  "
      ]
     },
     "execution_count": 30,
     "metadata": {},
     "output_type": "execute_result"
    }
   ],
   "source": [
    "rcall(:HPDI, pred_height) |> rcopy"
   ]
  },
  {
   "cell_type": "markdown",
   "metadata": {},
   "source": [
    "We can compute the distribution of average heights for each value of weight:"
   ]
  },
  {
   "cell_type": "code",
   "execution_count": 31,
   "metadata": {},
   "outputs": [
    {
     "data": {
      "text/plain": [
       "5-element Array{Array{Float64,1},1}:\n",
       " [25.0, 136.52654039175138, 134.7771580652949, 138.66214494667966] \n",
       " [26.0, 137.43022609989814, 135.76971068949558, 139.4730107862061] \n",
       " [27.0, 138.3339118080448, 136.76226331369625, 140.28139134670883] \n",
       " [28.0, 139.23759751619153, 137.71740055607157, 141.09153895704355]\n",
       " [29.0, 140.1412832243382, 138.6064952395384, 141.81297627286403]  "
      ]
     },
     "execution_count": 31,
     "metadata": {},
     "output_type": "execute_result"
    }
   ],
   "source": [
    "sample_xs = range(25, stop = 70)\n",
    "x̄ = mean(adults.weight)\n",
    "\n",
    "uncertainty = map(sample_xs) do x\n",
    "    α = sample_params[1, :]\n",
    "    β = sample_params[2, :]\n",
    "    x_centered = x - x̄ \n",
    "    \n",
    "    preds = α .+ β .* x_centered\n",
    "    \n",
    "    avg = mean(preds)\n",
    "    low, high = rcall(:HPDI, preds, prob = 0.97) |> rcopy\n",
    "    \n",
    "    [x, avg, low, high]\n",
    "     \n",
    "end\n",
    "\n",
    "uncertainty[1:5]"
   ]
  },
  {
   "cell_type": "markdown",
   "metadata": {},
   "source": [
    "Visualize the results:"
   ]
  },
  {
   "cell_type": "code",
   "execution_count": 32,
   "metadata": {},
   "outputs": [
    {
     "data": {
      "image/png": "[encoded data removed]"
     },
     "metadata": {},
     "output_type": "display_data"
    },
    {
     "data": {
      "text/plain": [
       "RObject{VecSxp}\n"
      ]
     },
     "execution_count": 32,
     "metadata": {},
     "output_type": "execute_result"
    }
   ],
   "source": [
    "uncertainty_df = hcat(uncertainty...) |>\n",
    "    transpose |>\n",
    "    (df -> DataFrame(df, [:weight, :height_avg, :height_low, :height_high]))\n",
    "\n",
    "R\"\"\"\n",
    "require(ggplot2)\n",
    "require(dplyr)\n",
    "\n",
    "$adults %>%\n",
    "  ggplot() +\n",
    "  geom_point(aes(weight, height), alpha = 0.5, shape = 1) +\n",
    "  geom_line(aes(weight, height_avg), data = $uncertainty_df, color = \"blue\")  +\n",
    "  geom_ribbon(\n",
    "    aes(x = weight, ymin = height_low, ymax = height_high),\n",
    "    data = $uncertainty_df,\n",
    "    fill = \"grey70\",\n",
    "    alpha = 0.5\n",
    "  )\n",
    "\"\"\""
   ]
  },
  {
   "cell_type": "markdown",
   "metadata": {},
   "source": [
    "# Prediction Intervals"
   ]
  },
  {
   "cell_type": "markdown",
   "metadata": {},
   "source": [
    "Let's compute the distribution of actual heigh predictions in addtion to the distribution of the mean prediction:"
   ]
  },
  {
   "cell_type": "code",
   "execution_count": 33,
   "metadata": {},
   "outputs": [
    {
     "data": {
      "text/plain": [
       "4-element Array{Float64,1}:\n",
       "   0.49209828311738923\n",
       "  15.680671912526872  \n",
       "  44.47308248132065   \n",
       " -29.532191065781923  "
      ]
     },
     "execution_count": 33,
     "metadata": {},
     "output_type": "execute_result"
    }
   ],
   "source": [
    "x = [1, 2, 3, 4]\n",
    "sigma = [10, 20, 30, 40]\n",
    "\n",
    "d = Normal.(x, sigma)\n",
    "rand.(d, 1) |> Iterators.flatten |> collect"
   ]
  },
  {
   "cell_type": "code",
   "execution_count": 34,
   "metadata": {},
   "outputs": [
    {
     "data": {
      "text/plain": [
       "5-element Array{Array{Float64,1},1}:\n",
       " [25.0, 136.52654039175138, 134.7771580652949, 138.66214494667966, 125.49036406104537, 147.38479157151977] \n",
       " [26.0, 137.43022609989814, 135.76971068949558, 139.4730107862061, 126.25394977233266, 148.2314278388509]  \n",
       " [27.0, 138.3339118080448, 136.76226331369625, 140.28139134670883, 127.42470937856426, 149.21823904829168] \n",
       " [28.0, 139.23759751619153, 137.71740055607157, 141.09153895704355, 128.22648429436103, 150.15808403624598]\n",
       " [29.0, 140.1412832243382, 138.6064952395384, 141.81297627286403, 129.29714984578416, 150.46806499859025]  "
      ]
     },
     "execution_count": 34,
     "metadata": {},
     "output_type": "execute_result"
    }
   ],
   "source": [
    "sample_xs = range(25, stop = 70)\n",
    "x̄ = mean(adults.weight)\n",
    "\n",
    "uncertainty = map(sample_xs) do x\n",
    "    α = sample_params[1, :]\n",
    "    β = sample_params[2, :]\n",
    "    σ = sample_params[3, :]\n",
    "    \n",
    "    x_centered = x - x̄ \n",
    "    \n",
    "    pred_mean_height = α .+ β .* x_centered\n",
    "    \n",
    "    d = Normal.(pred_mean_height, σ)\n",
    "    pred_actual_height = rand.(d, 1) |> Iterators.flatten |> collect\n",
    "    \n",
    "    avg = mean(pred_mean_height)\n",
    "    avg_low, avg_high = rcall(:HPDI, pred_mean_height, prob = 0.97) |> rcopy\n",
    "    pred_low, pred_high = rcall(:PI, pred_actual_height, prob = 0.97) |> rcopy\n",
    "    \n",
    "    [x, avg, avg_low, avg_high, pred_low, pred_high]\n",
    "     \n",
    "end\n",
    "\n",
    "uncertainty[1:5]"
   ]
  },
  {
   "cell_type": "code",
   "execution_count": 35,
   "metadata": {},
   "outputs": [
    {
     "data": {
      "image/png": "[encoded data removed]"
     },
     "metadata": {},
     "output_type": "display_data"
    },
    {
     "data": {
      "text/plain": [
       "RObject{VecSxp}\n"
      ]
     },
     "execution_count": 35,
     "metadata": {},
     "output_type": "execute_result"
    }
   ],
   "source": [
    "colnames = [:weight, :height_avg, :height_low, :height_high, :pred_low, :pred_high]\n",
    "\n",
    "uncertainty_df = hcat(uncertainty...) |>\n",
    "    transpose |>\n",
    "    (df -> DataFrame(df, colnames))\n",
    "\n",
    "R\"\"\"\n",
    "require(ggplot2)\n",
    "require(dplyr)\n",
    "\n",
    "$adults %>%\n",
    "  ggplot() +\n",
    "  geom_point(aes(weight, height), alpha = 0.5, shape = 1) +\n",
    "  geom_line(aes(weight, height_avg), data = $uncertainty_df, color = \"blue\")  +\n",
    "  geom_ribbon(\n",
    "    aes(x = weight, ymin = height_low, ymax = height_high),\n",
    "    data = $uncertainty_df,\n",
    "    fill = \"grey70\",\n",
    "    alpha = 0.5\n",
    "  ) + \n",
    "  geom_ribbon(\n",
    "    aes(x = weight, ymin = pred_low, ymax = pred_high),\n",
    "    data = $uncertainty_df,\n",
    "    fill = \"grey50\",\n",
    "    alpha = 0.2\n",
    "  )\n",
    "\"\"\""
   ]
  },
  {
   "cell_type": "markdown",
   "metadata": {},
   "source": [
    "# Percentile Interval (PI) vs Highest Posterior Density Interval (HPDI)"
   ]
  },
  {
   "cell_type": "markdown",
   "metadata": {},
   "source": [
    "PI : Assign equal probability mass to each tail.\n",
    "\n",
    "HDPI: The narrowest interval containing the specified probability mass. By design, it will capture the parameters with highest posterior probability.\n",
    "\n",
    "\n",
    "PI and HDPI will give similar results unless the posterior is highly skewed."
   ]
  }
 ],
 "metadata": {
  "@webio": {
   "lastCommId": null,
   "lastKernelId": null
  },
  "kernelspec": {
   "display_name": "Julia 1.3.1",
   "language": "julia",
   "name": "julia-1.3"
  },
  "language_info": {
   "file_extension": ".jl",
   "mimetype": "application/julia",
   "name": "julia",
   "version": "1.3.1"
  },
  "toc": {
   "nav_menu": {},
   "number_sections": true,
   "sideBar": true,
   "skip_h1_title": false,
   "toc_cell": true,
   "toc_position": {
    "height": "855.86px",
    "left": "0px",
    "right": "1708px",
    "top": "111.14px",
    "width": "212px"
   },
   "toc_section_display": "block",
   "toc_window_display": true
  }
 },
 "nbformat": 4,
 "nbformat_minor": 2
}
