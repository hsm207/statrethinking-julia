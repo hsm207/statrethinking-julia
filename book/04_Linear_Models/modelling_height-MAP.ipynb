{
 "cells": [
  {
   "cell_type": "markdown",
   "metadata": {
    "toc": true
   },
   "source": [
    "<h1>Table of Contents<span class=\"tocSkip\"></span></h1>\n",
    "<div class=\"toc\" style=\"margin-top: 1em;\"><ul class=\"toc-item\"><li><span><a href=\"#Packages\" data-toc-modified-id=\"Packages-1\"><span class=\"toc-item-num\">1&nbsp;&nbsp;</span>Packages</a></span></li><li><span><a href=\"#Data\" data-toc-modified-id=\"Data-2\"><span class=\"toc-item-num\">2&nbsp;&nbsp;</span>Data</a></span></li><li><span><a href=\"#Model\" data-toc-modified-id=\"Model-3\"><span class=\"toc-item-num\">3&nbsp;&nbsp;</span>Model</a></span></li><li><span><a href=\"#Results\" data-toc-modified-id=\"Results-4\"><span class=\"toc-item-num\">4&nbsp;&nbsp;</span>Results</a></span></li></ul></div>"
   ]
  },
  {
   "cell_type": "markdown",
   "metadata": {},
   "source": [
    "# Packages"
   ]
  },
  {
   "cell_type": "code",
   "execution_count": 1,
   "metadata": {},
   "outputs": [],
   "source": [
    "using Distributions, ForwardDiff"
   ]
  },
  {
   "cell_type": "code",
   "execution_count": 2,
   "metadata": {},
   "outputs": [],
   "source": [
    "using Query, HTTP, CSV"
   ]
  },
  {
   "cell_type": "code",
   "execution_count": 3,
   "metadata": {},
   "outputs": [],
   "source": [
    "using JuMP, Ipopt"
   ]
  },
  {
   "cell_type": "code",
   "execution_count": 4,
   "metadata": {},
   "outputs": [
    {
     "name": "stdout",
     "output_type": "stream",
     "text": [
      "\n",
      "R version 3.6.2 (2019-12-12) -- \"Dark and Stormy Night\"\n",
      "Copyright (C) 2019 The R Foundation for Statistical Computing\n",
      "Platform: x86_64-w64-mingw32/x64 (64-bit)\n",
      "\n",
      "R is free software and comes with ABSOLUTELY NO WARRANTY.\n",
      "You are welcome to redistribute it under certain conditions.\n",
      "Type 'license()' or 'licence()' for distribution details.\n",
      "\n",
      "R is a collaborative project with many contributors.\n",
      "Type 'contributors()' for more information and\n",
      "'citation()' on how to cite R or R packages in publications.\n",
      "\n",
      "Type 'demo()' for some demos, 'help()' for on-line help, or\n",
      "'help.start()' for an HTML browser interface to help.\n",
      "Type 'q()' to quit R.\n",
      "\n"
     ]
    }
   ],
   "source": [
    "using RCall"
   ]
  },
  {
   "cell_type": "code",
   "execution_count": 5,
   "metadata": {},
   "outputs": [],
   "source": [
    "using LinearAlgebra"
   ]
  },
  {
   "cell_type": "markdown",
   "metadata": {},
   "source": [
    "# Data"
   ]
  },
  {
   "cell_type": "markdown",
   "metadata": {},
   "source": [
    "Get the `Howel1` dataset and filter to only return adult heights:"
   ]
  },
  {
   "cell_type": "code",
   "execution_count": 6,
   "metadata": {},
   "outputs": [
    {
     "data": {
      "text/plain": [
       "5-element Array{Float64,1}:\n",
       " 151.765\n",
       " 139.7  \n",
       " 136.525\n",
       " 156.845\n",
       " 145.415"
      ]
     },
     "execution_count": 6,
     "metadata": {},
     "output_type": "execute_result"
    }
   ],
   "source": [
    "file_url = \"https://raw.githubusercontent.com/rmcelreath/rethinking/master/data/Howell1.csv\"\n",
    "d = HTTP.get(file_url).body |> IOBuffer |> CSV.read\n",
    "\n",
    "heights = @from i in d begin\n",
    "    @where i.age >= 18\n",
    "    @select i.height\n",
    "    @collect\n",
    "end\n",
    "\n",
    "heights[1:5]"
   ]
  },
  {
   "cell_type": "markdown",
   "metadata": {},
   "source": [
    "# Model"
   ]
  },
  {
   "cell_type": "markdown",
   "metadata": {},
   "source": [
    "Define the priors:"
   ]
  },
  {
   "cell_type": "code",
   "execution_count": 7,
   "metadata": {},
   "outputs": [],
   "source": [
    "prior_mean = Normal(178, 20)\n",
    "prior_sd = Uniform(0, 50)\n",
    ";"
   ]
  },
  {
   "cell_type": "markdown",
   "metadata": {},
   "source": [
    "Define the objective function:"
   ]
  },
  {
   "cell_type": "code",
   "execution_count": 8,
   "metadata": {},
   "outputs": [],
   "source": [
    "ll_data(μ, σ) = begin\n",
    "    d = Normal(μ, σ)\n",
    "    pdf.(d, heights) .|> log |> sum\n",
    "end\n",
    "\n",
    "l_param(θ, d) = pdf(d, θ) |> log\n",
    "\n",
    "l_joint_priors(μ, σ) = l_param(μ, prior_mean) + l_param(σ, prior_sd)\n",
    "\n",
    "objective_fn(μ, σ) = ll_data(μ, σ) + l_joint_priors(μ, σ)\n",
    ";"
   ]
  },
  {
   "cell_type": "markdown",
   "metadata": {},
   "source": [
    "Find the params that maximize the objective function:"
   ]
  },
  {
   "cell_type": "code",
   "execution_count": 9,
   "metadata": {},
   "outputs": [],
   "source": [
    "model = Model(with_optimizer(Ipopt.Optimizer))\n",
    "\n",
    "register(model, :objective_fn, 2, objective_fn, autodiff=true)\n",
    "\n",
    "@variable(model, 98 <= a <= 258, start = rand(prior_mean))\n",
    "@variable(model, 0 <= b <= 50, start = rand(prior_sd))\n",
    "\n",
    "@NLobjective(model, Max, objective_fn(a, b))"
   ]
  },
  {
   "cell_type": "code",
   "execution_count": 10,
   "metadata": {},
   "outputs": [
    {
     "name": "stdout",
     "output_type": "stream",
     "text": [
      "\r\n",
      "******************************************************************************\r\n",
      "This program contains Ipopt, a library for large-scale nonlinear optimization.\r\n",
      " Ipopt is released as open source code under the Eclipse Public License (EPL).\r\n",
      "         For more information visit http://projects.coin-or.org/Ipopt\r\n",
      "******************************************************************************\r\n",
      "\r\n",
      "This is Ipopt version 3.12.10, running with linear solver mumps.\r\n",
      "NOTE: Other linear solvers might be more efficient (see Ipopt documentation).\r\n",
      "\r\n",
      "Number of nonzeros in equality constraint Jacobian...:        0\r\n",
      "Number of nonzeros in inequality constraint Jacobian.:        0\r\n",
      "Number of nonzeros in Lagrangian Hessian.............:        0\r\n",
      "\r\n",
      "Total number of variables............................:        2\r\n",
      "                     variables with only lower bounds:        0\r\n",
      "                variables with lower and upper bounds:        2\r\n",
      "                     variables with only upper bounds:        0\r\n",
      "Total number of equality constraints.................:        0\r\n",
      "Total number of inequality constraints...............:        0\r\n",
      "        inequality constraints with only lower bounds:        0\r\n",
      "   inequality constraints with lower and upper bounds:        0\r\n",
      "        inequality constraints with only upper bounds:        0\r\n",
      "\r\n",
      "iter    objective    inf_pr   inf_du lg(mu)  ||d||  lg(rg) alpha_du alpha_pr  ls\r\n",
      "   0  1.6131521e+03 0.00e+00 7.99e+00   0.0 0.00e+00    -  0.00e+00 0.00e+00   0\r\n",
      "   1  1.5228331e+03 0.00e+00 9.92e+00   0.9 7.55e+00    -  1.00e+00 1.00e+00f  1\r\n",
      "   2  1.3656787e+03 0.00e+00 1.47e+01  -0.4 1.02e+01    -  1.00e+00 1.00e+00f  1\r\n",
      "   3  1.2375003e+03 0.00e+00 7.09e+00  -0.8 1.47e+01    -  1.00e+00 5.00e-01f  2\r\n",
      "   4  1.2329611e+03 0.00e+00 1.31e+01  -1.6 7.13e+00    -  1.00e+00 2.50e-01f  3\r\n",
      "   5  1.2284613e+03 0.00e+00 2.99e+00  -0.7 1.10e+00    -  9.98e-01 1.00e+00f  1\r\n",
      "   6  1.2279519e+03 0.00e+00 7.89e-01  -2.5 2.10e-01    -  1.00e+00 1.00e+00f  1\r\n",
      "   7  1.2279165e+03 0.00e+00 8.62e-02  -4.5 7.59e-02    -  1.00e+00 1.00e+00f  1\r\n",
      "   8  1.2279161e+03 0.00e+00 1.84e-03  -6.1 7.38e-03    -  1.00e+00 1.00e+00f  1\r\n",
      "   9  1.2279161e+03 0.00e+00 2.95e-04  -8.2 2.63e-04    -  1.00e+00 1.00e+00f  1\r\n",
      "iter    objective    inf_pr   inf_du lg(mu)  ||d||  lg(rg) alpha_du alpha_pr  ls\r\n",
      "  10  1.2279161e+03 0.00e+00 2.69e-05 -11.0 5.18e-05    -  1.00e+00 1.00e+00f  1\r\n",
      "  11  1.2279161e+03 0.00e+00 5.91e-08 -11.0 2.29e-06    -  1.00e+00 1.00e+00f  1\r\n",
      "  12  1.2279161e+03 0.00e+00 1.07e-09 -11.0 4.95e-09    -  1.00e+00 1.00e+00f  1\r\n",
      "\r\n",
      "Number of Iterations....: 12\r\n",
      "\r\n",
      "                                   (scaled)                 (unscaled)\r\n",
      "Objective...............:   1.2279161145881890e+03    1.2279161145881890e+03\r\n",
      "Dual infeasibility......:   1.0709736798936278e-09    1.0709736798936278e-09\r\n",
      "Constraint violation....:   0.0000000000000000e+00    0.0000000000000000e+00\r\n",
      "Complementarity.........:   9.9999999999999994e-12    9.9999999999999994e-12\r\n",
      "Overall NLP error.......:   1.0709736798936278e-09    1.0709736798936278e-09\r\n",
      "\r\n",
      "\r\n",
      "Number of objective function evaluations             = 24\r\n",
      "Number of objective gradient evaluations             = 13\r\n",
      "Number of equality constraint evaluations            = 0\r\n",
      "Number of inequality constraint evaluations          = 0\r\n",
      "Number of equality constraint Jacobian evaluations   = 0\r\n",
      "Number of inequality constraint Jacobian evaluations = 0\r\n",
      "Number of Lagrangian Hessian evaluations             = 0\r\n",
      "Total CPU secs in IPOPT (w/o function evaluations)   =      5.820\r\n",
      "Total CPU secs in NLP function evaluations           =      0.162\r\n",
      "\r\n",
      "EXIT: Optimal Solution Found.\r\n"
     ]
    }
   ],
   "source": [
    "optimize!(model)"
   ]
  },
  {
   "cell_type": "markdown",
   "metadata": {},
   "source": [
    "The value of μ and σ that maximize the objective function is:"
   ]
  },
  {
   "cell_type": "code",
   "execution_count": 11,
   "metadata": {},
   "outputs": [
    {
     "data": {
      "text/plain": [
       "2-element Array{Float64,1}:\n",
       " 154.6070235817186 \n",
       "   7.73133306282481"
      ]
     },
     "execution_count": 11,
     "metadata": {},
     "output_type": "execute_result"
    }
   ],
   "source": [
    "optimal_points = [a, b] .|> value"
   ]
  },
  {
   "cell_type": "markdown",
   "metadata": {},
   "source": [
    "Get the covariance matrix that describes the relationship between μ and σ:"
   ]
  },
  {
   "cell_type": "code",
   "execution_count": 12,
   "metadata": {},
   "outputs": [
    {
     "data": {
      "text/plain": [
       "2×2 Array{Float64,2}:\n",
       " 0.16974      0.000218032\n",
       " 0.000218032  0.0849058  "
      ]
     },
     "execution_count": 12,
     "metadata": {},
     "output_type": "execute_result"
    }
   ],
   "source": [
    "f(x::Vector) = begin\n",
    "    a, b = x\n",
    "    objective_fn(a, b)\n",
    "end\n",
    "\n",
    "H(x::Vector) = ForwardDiff.hessian(f, x)\n",
    "\n",
    "covar_mat = inv(-1 * H(optimal_points))"
   ]
  },
  {
   "cell_type": "markdown",
   "metadata": {},
   "source": [
    "Get the standard deviation of the parameter μ and σ:"
   ]
  },
  {
   "cell_type": "code",
   "execution_count": 13,
   "metadata": {},
   "outputs": [
    {
     "data": {
      "text/plain": [
       "2-element Array{Float64,1}:\n",
       " 0.41199467416507857\n",
       " 0.29138605897059755"
      ]
     },
     "execution_count": 13,
     "metadata": {},
     "output_type": "execute_result"
    }
   ],
   "source": [
    "diag(covar_mat) .|> sqrt"
   ]
  },
  {
   "cell_type": "markdown",
   "metadata": {},
   "source": [
    "# Results"
   ]
  },
  {
   "cell_type": "markdown",
   "metadata": {},
   "source": [
    "Now we can sample from our updated priors i.e posterior distribution and generate some heights and compare it with actual heights:"
   ]
  },
  {
   "cell_type": "code",
   "execution_count": 14,
   "metadata": {},
   "outputs": [],
   "source": [
    "# not rounding the covariance matrix will throw a PosDefException\n",
    "covar_mat_r = map(covar_mat) do x\n",
    "    round(x, digits=5)\n",
    "end\n",
    "\n",
    "posterior = MvNormal(optimal_points, covar_mat_r)\n",
    "\n",
    "trials = Int(10e3)\n",
    "posterior_samples = rand(posterior, trials)\n",
    "\n",
    "posterior_heights = map(eachcol(posterior_samples)) do (sample_μ, sample_σ)\n",
    "    d = Normal(sample_μ, sample_σ)\n",
    "    height = rand(d) \n",
    "end\n",
    ";"
   ]
  },
  {
   "cell_type": "markdown",
   "metadata": {},
   "source": [
    "Also generate some sample heights based on our priors for comparison:"
   ]
  },
  {
   "cell_type": "code",
   "execution_count": 15,
   "metadata": {},
   "outputs": [],
   "source": [
    "prior_samples = zip(rand(prior_mean, trials), rand(prior_sd, trials))\n",
    "prior_heights = map(prior_samples) do (sample_μ, sample_σ)\n",
    "    d = Normal(sample_μ, sample_σ)\n",
    "    height = rand(d)\n",
    "end\n",
    ";"
   ]
  },
  {
   "cell_type": "code",
   "execution_count": 16,
   "metadata": {},
   "outputs": [
    {
     "name": "stderr",
     "output_type": "stream",
     "text": [
      "┌ Warning: RCall.jl: -- Attaching packages --------------------------------------- tidyverse 1.3.0 --\n",
      "│ v ggplot2 3.2.1     v purrr   0.3.3\n",
      "│ v tibble  2.1.3     v dplyr   0.8.3\n",
      "│ v tidyr   1.0.0     v stringr 1.4.0\n",
      "│ v readr   1.3.1     v forcats 0.4.0\n",
      "│ -- Conflicts ------------------------------------------ tidyverse_conflicts() --\n",
      "│ x dplyr::filter() masks stats::filter()\n",
      "│ x dplyr::lag()    masks stats::lag()\n",
      "└ @ RCall C:\\Users\\mshukri\\.julia\\packages\\RCall\\lAV2K\\src\\io.jl:113\n"
     ]
    },
    {
     "data": {
      "image/png": "[encoded data removed]"
     },
     "metadata": {},
     "output_type": "display_data"
    },
    {
     "data": {
      "text/plain": [
       "RObject{VecSxp}\n"
      ]
     },
     "execution_count": 16,
     "metadata": {},
     "output_type": "execute_result"
    }
   ],
   "source": [
    "RCall.rcall_p(:options, rcalljl_options=Dict(:width => 800, :height => 400))\n",
    "\n",
    "R\"\"\"\n",
    "library(tidyverse)\n",
    "\n",
    "empirical_heights = $(heights)\n",
    "prior_heights = $(prior_heights)\n",
    "posterior_heights =$(posterior_heights)\n",
    "\n",
    "\n",
    "df <- tibble(height=empirical_heights, belief=\"empirical\") %>%\n",
    "  union(tibble(height=prior_heights, belief=\"before observing data\")) %>%\n",
    "  union(tibble(height=posterior_heights, belief=\"after observing data (quadratic approximation)\"))\n",
    "\n",
    "ggplot(df, aes(x=height, fill=belief)) +\n",
    "  geom_density(alpha=0.5)\n",
    "\"\"\""
   ]
  },
  {
   "cell_type": "markdown",
   "metadata": {},
   "source": [
    "Summarize the marginal posterior distributions (notice thatt they are very similar to the [grid approximation](modelling_height-grid_approximation.ipynb) method):"
   ]
  },
  {
   "cell_type": "code",
   "execution_count": 17,
   "metadata": {},
   "outputs": [],
   "source": [
    "gposterior_means = posterior_samples[1,:]\n",
    "posterior_sds = posterior_samples[2,:]\n",
    ";"
   ]
  },
  {
   "cell_type": "code",
   "execution_count": 18,
   "metadata": {},
   "outputs": [
    {
     "ename": "UndefVarError",
     "evalue": "UndefVarError: posterior_means not defined",
     "output_type": "error",
     "traceback": [
      "UndefVarError: posterior_means not defined",
      "",
      "Stacktrace:",
      " [1] top-level scope at C:\\Users\\mshukri\\.julia\\packages\\RCall\\lAV2K\\src\\macros.jl:66",
      " [2] top-level scope at In[18]:1"
     ]
    }
   ],
   "source": [
    "R\"rethinking::HPDI($(posterior_means))\""
   ]
  },
  {
   "cell_type": "code",
   "execution_count": 19,
   "metadata": {},
   "outputs": [
    {
     "data": {
      "text/plain": [
       "RObject{RealSxp}\n",
       "   |0.89    0.89| \n",
       "7.281256 8.201761 \n"
      ]
     },
     "execution_count": 19,
     "metadata": {},
     "output_type": "execute_result"
    }
   ],
   "source": [
    "R\"rethinking::HPDI($(posterior_sds))\""
   ]
  }
 ],
 "metadata": {
  "@webio": {
   "lastCommId": null,
   "lastKernelId": null
  },
  "kernelspec": {
   "display_name": "Julia 1.3.1",
   "language": "julia",
   "name": "julia-1.3"
  },
  "language_info": {
   "file_extension": ".jl",
   "mimetype": "application/julia",
   "name": "julia",
   "version": "1.3.1"
  },
  "toc": {
   "nav_menu": {},
   "number_sections": true,
   "sideBar": true,
   "skip_h1_title": false,
   "toc_cell": true,
   "toc_position": {},
   "toc_section_display": "block",
   "toc_window_display": true
  }
 },
 "nbformat": 4,
 "nbformat_minor": 2
}
